{
 "cells": [
  {
   "cell_type": "markdown",
   "id": "ed281b69-6941-4746-8fcb-edb34d3f03b5",
   "metadata": {},
   "source": [
    "# Tradução por Máquina: método estatístico e codificador-decodificador"
   ]
  },
  {
   "cell_type": "markdown",
   "id": "c599ca7c-fbff-4dd6-a4a3-553a0feb60ac",
   "metadata": {},
   "source": [
    "### Trabalho 3 da disciplina Noções de Inteligência Artificial - 2/2024\n",
    "### Alunos: Felipe Lopes Gibin Duarte (231025207) e Matheus das Neves Fernandes (231013672)"
   ]
  },
  {
   "cell_type": "markdown",
   "id": "9e92ee94-5f59-466b-aa2b-818f1e810f9e",
   "metadata": {},
   "source": [
    "## Introdução"
   ]
  },
  {
   "cell_type": "markdown",
   "id": "e3a562ae-df7e-47c3-851d-a72321bc1fe1",
   "metadata": {},
   "source": [
    "Neste trabalho vamos usar duas técnicas de tradução automática, a primeira puramente\n",
    "estatística e a segunda usando ML na arquitetura codificador-decodificador. Vamos analisar a eficácia de ambas, destacando aspectos teóricos importantes."
   ]
  },
  {
   "cell_type": "markdown",
   "id": "7409cbdf-0f8b-4718-8e7f-cb26a9df494b",
   "metadata": {},
   "source": [
    "## 1. Base de Dados"
   ]
  },
  {
   "cell_type": "markdown",
   "id": "b53ee5a2-9de8-4599-9a0d-248e6d192073",
   "metadata": {},
   "source": [
    "### 1.1 Download da base de dados\n",
    "\n",
    "Usaremos a base Português - Inglês do parlamento europeu, disponível em https://www.statmt.org/europarl/. Encontre o link “parallel corpus Portuguese-English” e extraia o condeúdo do zip em uma pasta pai à do projeto."
   ]
  },
  {
   "cell_type": "markdown",
   "id": "7887fa99-d614-4840-b9c7-5c59b543eb2b",
   "metadata": {},
   "source": [
    "### 1.2 Lendo os arquivos"
   ]
  },
  {
   "cell_type": "code",
   "execution_count": 2,
   "id": "0e788379-61d8-4e48-b74d-0b8ccb15e670",
   "metadata": {},
   "outputs": [
    {
     "name": "stdout",
     "output_type": "stream",
     "text": [
      "Frases em português:\n",
      " ['Reinício da sessão\\n', 'Declaro reaberta a sessão do Parlamento Europeu, que tinha sido interrompida na sexta-feira, 17 de Dezembro último, e renovo todos os meus votos, esperando que tenham tido boas férias.\\n', 'Como puderam constatar, o grande \"bug do ano 2000\" não aconteceu. Em contrapartida, os cidadãos de alguns dos nossos países foram vítimas de catástrofes naturais verdadeiramente terríveis.\\n', 'Os senhores manifestaram o desejo de se proceder a um debate sobre o assunto nos próximos dias, durante este período de sessões.\\n', 'Entretanto, gostaria - como também me foi pedido por um certo número de colegas - que observássemos um minuto de silêncio por todas as vítimas, nomeadamente das tempestades, nos diferentes países da União Europeia que foram afectados.\\n']\n",
      "\n",
      "Frases em inglês:\n",
      " ['Resumption of the session\\n', 'I declare resumed the session of the European Parliament adjourned on Friday 17 December 1999, and I would like once again to wish you a happy new year in the hope that you enjoyed a pleasant festive period.\\n', \"Although, as you will have seen, the dreaded 'millennium bug' failed to materialise, still the people in a number of countries suffered a series of natural disasters that truly were dreadful.\\n\", 'You have requested a debate on this subject in the course of the next few days, during this part-session.\\n', \"In the meantime, I should like to observe a minute' s silence, as a number of Members have requested, on behalf of all the victims concerned, particularly those of the terrible storms, in the various countries of the European Union.\\n\"]\n"
     ]
    }
   ],
   "source": [
    "import re\n",
    "\n",
    "# Caminhos\n",
    "portuguese_file = \"../pt-en/europarl-v7.pt-en.pt\"\n",
    "english_file = \"../pt-en/europarl-v7.pt-en.en\"\n",
    "\n",
    "# Ler os arquivos\n",
    "with open(portuguese_file, 'r', encoding='utf-8') as pt_file:\n",
    "    portuguese_sentences = pt_file.readlines()\n",
    "\n",
    "with open(english_file, 'r', encoding='utf-8') as en_file:\n",
    "    english_sentences = en_file.readlines()\n",
    "\n",
    "# Exibir algumas linhas para verificar\n",
    "print(\"Frases em português:\\n\", portuguese_sentences[:5])\n",
    "print(\"\\nFrases em inglês:\\n\", english_sentences[:5])\n"
   ]
  },
  {
   "cell_type": "code",
   "execution_count": null,
   "id": "a97bfa17-5343-4d1f-b2ca-f5c615627c45",
   "metadata": {},
   "outputs": [],
   "source": []
  }
 ],
 "metadata": {
  "kernelspec": {
   "display_name": "Python 3 (ipykernel)",
   "language": "python",
   "name": "python3"
  },
  "language_info": {
   "codemirror_mode": {
    "name": "ipython",
    "version": 3
   },
   "file_extension": ".py",
   "mimetype": "text/x-python",
   "name": "python",
   "nbconvert_exporter": "python",
   "pygments_lexer": "ipython3",
   "version": "3.9.20"
  }
 },
 "nbformat": 4,
 "nbformat_minor": 5
}
