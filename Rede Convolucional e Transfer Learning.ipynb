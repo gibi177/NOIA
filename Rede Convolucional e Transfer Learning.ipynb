{
 "cells": [
  {
   "cell_type": "markdown",
   "id": "b0f53366-6736-458c-8713-43df1ad374b3",
   "metadata": {},
   "source": [
    "# Rede Convolucional e Transfer Learning\n",
    "\n",
    "### Trabalho 2 da disciplina Noções de Inteligência Artificial - 2/2024\n",
    "### Alunos: Felipe Lopes Gibin Duarte e Matheus das Neves Fernandes"
   ]
  },
  {
   "cell_type": "markdown",
   "id": "fb1778d5-ae05-4f9e-ab51-a974c72eec84",
   "metadata": {},
   "source": [
    "## Introdução\n",
    "Neste trabalho usaremos uma rede convolucional pré-treinada (VGG) e a aplicaremos em um problema novo. Experimentaremos com a divisão da base em treinamento, validação e teste, e usaremos validação para o \"early stopping\" na tentativa de controlar o sobre-ajuste. A base de dados usada é a \"TensorFlow Flowers Dataset\". Ela contém 3670 imagens coloridas de flores pertencentes a uma de 5 classes: Margarida,\n",
    "Dente-de-leão, Rosa, Girassol e Tulipa."
   ]
  },
  {
   "cell_type": "markdown",
   "id": "2ee3d75e-e22b-4fab-997c-50eee42bdff4",
   "metadata": {},
   "source": [
    "## 1. Preparação do Ambiente\n",
    "Nesta seção, importaremos as bibliotecas necessárias e carregaremos a base de dados."
   ]
  },
  {
   "cell_type": "markdown",
   "id": "9cc15617-5c31-4f89-9f92-5581ead711d8",
   "metadata": {},
   "source": [
    "### 1.1 Importação de bibliotecas "
   ]
  },
  {
   "cell_type": "code",
   "execution_count": 5,
   "id": "33629e96-ffe7-4883-930e-6267026a17c6",
   "metadata": {
    "scrolled": true
   },
   "outputs": [],
   "source": [
    "import tensorflow as tf\n",
    "import tensorflow_datasets as tfds\n",
    "from tensorflow.keras.utils import to_categorical\n",
    "from tensorflow.keras import layers, models\n",
    "from tensorflow.keras.callbacks import EarlyStopping"
   ]
  },
  {
   "cell_type": "markdown",
   "id": "ba95a8ce-3465-4c5c-a818-a3cc8cd7462f",
   "metadata": {},
   "source": [
    "## 1.2 Carregamento dos dados"
   ]
  },
  {
   "cell_type": "code",
   "execution_count": 9,
   "id": "8fc1f3fa-842a-4128-81e3-f96e39ce9b7e",
   "metadata": {},
   "outputs": [
    {
     "name": "stdout",
     "output_type": "stream",
     "text": [
      "(2569, 150, 150, 3)\n",
      "(1101, 150, 150, 3)\n"
     ]
    }
   ],
   "source": [
    "## Loading images and labels\n",
    "(train_ds, train_labels), (test_ds, test_labels) = tfds.load(\n",
    "\"tf_flowers\",\n",
    "split=[\"train[:70%]\", \"train[70%:]\"], ## Train test split\n",
    "batch_size=-1,\n",
    "as_supervised=True, # Include labels\n",
    ")\n",
    "\n",
    "## Resizing images\n",
    "train_ds = tf.image.resize(train_ds, (150, 150))\n",
    "test_ds = tf.image.resize(test_ds, (150, 150))\n",
    "\n",
    "print (train_ds.shape)\n",
    "print (test_ds.shape)"
   ]
  },
  {
   "cell_type": "markdown",
   "id": "818be157-4291-45f4-8902-0e07a4c5945d",
   "metadata": {},
   "source": [
    "## 2. Treinando um MLP\n",
    "Vamos comprovar que um MLP não apresenta desempenho satisfatório para o problema. Vamos evitar o overfitting ao usar a técnica de parada prematura de treinamento (early stopping), após 5 épocas sem melhora no parâmetro monitorado (neste caso a precisão de treinamento, val_accuracy), o treinamento é interrompido. Observamos que o MLP apresenta uma acurácia de cerca de 35-40%. Conforme esperado ele não resolve bem o problema de classificação."
   ]
  },
  {
   "cell_type": "code",
   "execution_count": 15,
   "id": "0f111fbe-6d06-40c7-9ecd-b58a5a4bd8aa",
   "metadata": {},
   "outputs": [
    {
     "name": "stdout",
     "output_type": "stream",
     "text": [
      "Epoch 1/20\n",
      "\u001b[1m65/65\u001b[0m \u001b[32m━━━━━━━━━━━━━━━━━━━━\u001b[0m\u001b[37m\u001b[0m \u001b[1m8s\u001b[0m 118ms/step - accuracy: 0.2432 - loss: 975.3029 - val_accuracy: 0.3405 - val_loss: 154.9264\n",
      "Epoch 2/20\n",
      "\u001b[1m65/65\u001b[0m \u001b[32m━━━━━━━━━━━━━━━━━━━━\u001b[0m\u001b[37m\u001b[0m \u001b[1m8s\u001b[0m 118ms/step - accuracy: 0.3879 - loss: 101.6346 - val_accuracy: 0.3249 - val_loss: 170.6600\n",
      "Epoch 3/20\n",
      "\u001b[1m65/65\u001b[0m \u001b[32m━━━━━━━━━━━━━━━━━━━━\u001b[0m\u001b[37m\u001b[0m \u001b[1m8s\u001b[0m 123ms/step - accuracy: 0.3591 - loss: 110.5299 - val_accuracy: 0.3813 - val_loss: 54.9718\n",
      "Epoch 4/20\n",
      "\u001b[1m65/65\u001b[0m \u001b[32m━━━━━━━━━━━━━━━━━━━━\u001b[0m\u001b[37m\u001b[0m \u001b[1m7s\u001b[0m 114ms/step - accuracy: 0.4299 - loss: 36.6724 - val_accuracy: 0.3911 - val_loss: 27.5874\n",
      "Epoch 5/20\n",
      "\u001b[1m65/65\u001b[0m \u001b[32m━━━━━━━━━━━━━━━━━━━━\u001b[0m\u001b[37m\u001b[0m \u001b[1m8s\u001b[0m 116ms/step - accuracy: 0.4144 - loss: 25.6025 - val_accuracy: 0.3541 - val_loss: 32.2396\n",
      "Epoch 6/20\n",
      "\u001b[1m65/65\u001b[0m \u001b[32m━━━━━━━━━━━━━━━━━━━━\u001b[0m\u001b[37m\u001b[0m \u001b[1m8s\u001b[0m 118ms/step - accuracy: 0.3953 - loss: 18.1462 - val_accuracy: 0.2938 - val_loss: 20.1003\n",
      "Epoch 7/20\n",
      "\u001b[1m65/65\u001b[0m \u001b[32m━━━━━━━━━━━━━━━━━━━━\u001b[0m\u001b[37m\u001b[0m \u001b[1m8s\u001b[0m 116ms/step - accuracy: 0.3879 - loss: 12.8105 - val_accuracy: 0.3307 - val_loss: 16.6503\n",
      "Epoch 8/20\n",
      "\u001b[1m65/65\u001b[0m \u001b[32m━━━━━━━━━━━━━━━━━━━━\u001b[0m\u001b[37m\u001b[0m \u001b[1m8s\u001b[0m 117ms/step - accuracy: 0.3969 - loss: 11.7314 - val_accuracy: 0.3132 - val_loss: 10.6310\n",
      "Epoch 9/20\n",
      "\u001b[1m65/65\u001b[0m \u001b[32m━━━━━━━━━━━━━━━━━━━━\u001b[0m\u001b[37m\u001b[0m \u001b[1m8s\u001b[0m 117ms/step - accuracy: 0.3661 - loss: 7.7898 - val_accuracy: 0.3560 - val_loss: 9.1360\n"
     ]
    },
    {
     "data": {
      "text/plain": [
       "<keras.src.callbacks.history.History at 0x7ddce34823a0>"
      ]
     },
     "execution_count": 15,
     "metadata": {},
     "output_type": "execute_result"
    }
   ],
   "source": [
    "model_MLP = tf.keras.Sequential([ \n",
    "    tf.keras.layers.Flatten(),  \n",
    "    tf.keras.layers.Dense(256, activation='relu'),   #Camada escondida 1\n",
    "    tf.keras.layers.Dense(256, activation='relu'),   #Camada escondida 2\n",
    "    tf.keras.layers.Dense(5, activation='softmax')  #Camada de saída\n",
    "])   \n",
    "\n",
    "model_MLP.compile(\n",
    "    optimizer=tf.keras.optimizers.Adam(),   #Otimizador Adam\n",
    "    loss=tf.keras.losses.SparseCategoricalCrossentropy(),  #Entropia cruzada\n",
    "    metrics=['accuracy']\n",
    ")\n",
    "\n",
    "es = EarlyStopping(monitor='val_accuracy', mode='max', patience=5, restore_best_weights=True)\n",
    "\n",
    "model_MLP.fit(\n",
    "    train_ds, \n",
    "    train_labels, \n",
    "    epochs=20, \n",
    "    validation_split=0.2, \n",
    "    batch_size=32, \n",
    "    callbacks=[es]\n",
    ")"
   ]
  },
  {
   "cell_type": "code",
   "execution_count": null,
   "id": "1f7a9d2d-8432-4c09-b6df-0a0421ab62fa",
   "metadata": {},
   "outputs": [],
   "source": []
  }
 ],
 "metadata": {
  "kernelspec": {
   "display_name": "Python 3 (ipykernel)",
   "language": "python",
   "name": "python3"
  },
  "language_info": {
   "codemirror_mode": {
    "name": "ipython",
    "version": 3
   },
   "file_extension": ".py",
   "mimetype": "text/x-python",
   "name": "python",
   "nbconvert_exporter": "python",
   "pygments_lexer": "ipython3",
   "version": "3.9.20"
  }
 },
 "nbformat": 4,
 "nbformat_minor": 5
}
