{
  "cells": [
    {
      "cell_type": "markdown",
      "metadata": {
        "id": "view-in-github",
        "colab_type": "text"
      },
      "source": [
        "<a href=\"https://colab.research.google.com/github/gibi177/NOIA/blob/main/Problema%20MNIST.ipynb\" target=\"_parent\"><img src=\"https://colab.research.google.com/assets/colab-badge.svg\" alt=\"Open In Colab\"/></a>"
      ]
    },
    {
      "cell_type": "markdown",
      "id": "a971a3d3-7e54-4857-b586-ae8e9185d459",
      "metadata": {
        "id": "a971a3d3-7e54-4857-b586-ae8e9185d459"
      },
      "source": [
        "# Perceptron Multicamada no problema MNIST\n",
        "\n",
        "\n",
        "\n",
        "### Disciplina: Noções de Inteligência Artificial - 2/2024\n",
        "### Alunos: Felipe Lopes Gibin Duarte e Matheus das Neves Fernandes"
      ]
    },
    {
      "cell_type": "markdown",
      "id": "609b846b-914d-45ed-9ab3-56cabe9e764d",
      "metadata": {
        "id": "609b846b-914d-45ed-9ab3-56cabe9e764d"
      },
      "source": [
        "## Introdução\n",
        "\n",
        "\n",
        "Este trabalho implementa um Perceptron Multicamada (MLP) para resolver o problema de classificação de dígitos manuscritos do conjunto de dados MNIST. Foram exploradas diferentes arquiteturas e técnicas de treinamento, avaliando o desempenho de cada abordagem.\n"
      ]
    },
    {
      "cell_type": "markdown",
      "id": "67f0d6a8-dba9-499a-94b6-64105e3a979d",
      "metadata": {
        "id": "67f0d6a8-dba9-499a-94b6-64105e3a979d"
      },
      "source": [
        "## 1. Preparação do Ambiente\n",
        "Nesta seção, importamos as bibliotecas necessárias, carregamos o conjunto de dados MNIST e preparamos o dataloader\n"
      ]
    },
    {
      "cell_type": "markdown",
      "id": "851610da-d527-4451-acca-bb277142e713",
      "metadata": {
        "id": "851610da-d527-4451-acca-bb277142e713"
      },
      "source": [
        "### 1.1. Importação de Bibliotecas"
      ]
    },
    {
      "cell_type": "code",
      "execution_count": 1,
      "id": "0f1e7510-02f8-4e3d-97f7-8ff9cf365acd",
      "metadata": {
        "id": "0f1e7510-02f8-4e3d-97f7-8ff9cf365acd",
        "outputId": "fca79e8b-4db3-4ed8-a561-a16742e38661",
        "colab": {
          "base_uri": "https://localhost:8080/",
          "height": 1000
        }
      },
      "outputs": [
        {
          "output_type": "stream",
          "name": "stdout",
          "text": [
            "Collecting d2l==1.0.3\n",
            "  Downloading d2l-1.0.3-py3-none-any.whl.metadata (556 bytes)\n",
            "Collecting jupyter==1.0.0 (from d2l==1.0.3)\n",
            "  Downloading jupyter-1.0.0-py2.py3-none-any.whl.metadata (995 bytes)\n",
            "Collecting numpy==1.23.5 (from d2l==1.0.3)\n",
            "  Downloading numpy-1.23.5-cp310-cp310-manylinux_2_17_x86_64.manylinux2014_x86_64.whl.metadata (2.3 kB)\n",
            "Collecting matplotlib==3.7.2 (from d2l==1.0.3)\n",
            "  Downloading matplotlib-3.7.2-cp310-cp310-manylinux_2_17_x86_64.manylinux2014_x86_64.whl.metadata (5.6 kB)\n",
            "Collecting matplotlib-inline==0.1.6 (from d2l==1.0.3)\n",
            "  Downloading matplotlib_inline-0.1.6-py3-none-any.whl.metadata (2.8 kB)\n",
            "Collecting requests==2.31.0 (from d2l==1.0.3)\n",
            "  Downloading requests-2.31.0-py3-none-any.whl.metadata (4.6 kB)\n",
            "Collecting pandas==2.0.3 (from d2l==1.0.3)\n",
            "  Downloading pandas-2.0.3-cp310-cp310-manylinux_2_17_x86_64.manylinux2014_x86_64.whl.metadata (18 kB)\n",
            "Collecting scipy==1.10.1 (from d2l==1.0.3)\n",
            "  Downloading scipy-1.10.1-cp310-cp310-manylinux_2_17_x86_64.manylinux2014_x86_64.whl.metadata (58 kB)\n",
            "\u001b[2K     \u001b[90m━━━━━━━━━━━━━━━━━━━━━━━━━━━━━━━━━━━━━━━━\u001b[0m \u001b[32m58.9/58.9 kB\u001b[0m \u001b[31m294.8 kB/s\u001b[0m eta \u001b[36m0:00:00\u001b[0m\n",
            "\u001b[?25hRequirement already satisfied: notebook in /usr/local/lib/python3.10/dist-packages (from jupyter==1.0.0->d2l==1.0.3) (6.5.5)\n",
            "Collecting qtconsole (from jupyter==1.0.0->d2l==1.0.3)\n",
            "  Downloading qtconsole-5.6.1-py3-none-any.whl.metadata (5.0 kB)\n",
            "Requirement already satisfied: jupyter-console in /usr/local/lib/python3.10/dist-packages (from jupyter==1.0.0->d2l==1.0.3) (6.1.0)\n",
            "Requirement already satisfied: nbconvert in /usr/local/lib/python3.10/dist-packages (from jupyter==1.0.0->d2l==1.0.3) (7.16.4)\n",
            "Requirement already satisfied: ipykernel in /usr/local/lib/python3.10/dist-packages (from jupyter==1.0.0->d2l==1.0.3) (5.5.6)\n",
            "Requirement already satisfied: ipywidgets in /usr/local/lib/python3.10/dist-packages (from jupyter==1.0.0->d2l==1.0.3) (7.7.1)\n",
            "Requirement already satisfied: contourpy>=1.0.1 in /usr/local/lib/python3.10/dist-packages (from matplotlib==3.7.2->d2l==1.0.3) (1.3.1)\n",
            "Requirement already satisfied: cycler>=0.10 in /usr/local/lib/python3.10/dist-packages (from matplotlib==3.7.2->d2l==1.0.3) (0.12.1)\n",
            "Requirement already satisfied: fonttools>=4.22.0 in /usr/local/lib/python3.10/dist-packages (from matplotlib==3.7.2->d2l==1.0.3) (4.55.3)\n",
            "Requirement already satisfied: kiwisolver>=1.0.1 in /usr/local/lib/python3.10/dist-packages (from matplotlib==3.7.2->d2l==1.0.3) (1.4.7)\n",
            "Requirement already satisfied: packaging>=20.0 in /usr/local/lib/python3.10/dist-packages (from matplotlib==3.7.2->d2l==1.0.3) (24.2)\n",
            "Requirement already satisfied: pillow>=6.2.0 in /usr/local/lib/python3.10/dist-packages (from matplotlib==3.7.2->d2l==1.0.3) (11.0.0)\n",
            "Collecting pyparsing<3.1,>=2.3.1 (from matplotlib==3.7.2->d2l==1.0.3)\n",
            "  Downloading pyparsing-3.0.9-py3-none-any.whl.metadata (4.2 kB)\n",
            "Requirement already satisfied: python-dateutil>=2.7 in /usr/local/lib/python3.10/dist-packages (from matplotlib==3.7.2->d2l==1.0.3) (2.8.2)\n",
            "Requirement already satisfied: traitlets in /usr/local/lib/python3.10/dist-packages (from matplotlib-inline==0.1.6->d2l==1.0.3) (5.7.1)\n",
            "Requirement already satisfied: pytz>=2020.1 in /usr/local/lib/python3.10/dist-packages (from pandas==2.0.3->d2l==1.0.3) (2024.2)\n",
            "Requirement already satisfied: tzdata>=2022.1 in /usr/local/lib/python3.10/dist-packages (from pandas==2.0.3->d2l==1.0.3) (2024.2)\n",
            "Requirement already satisfied: charset-normalizer<4,>=2 in /usr/local/lib/python3.10/dist-packages (from requests==2.31.0->d2l==1.0.3) (3.4.0)\n",
            "Requirement already satisfied: idna<4,>=2.5 in /usr/local/lib/python3.10/dist-packages (from requests==2.31.0->d2l==1.0.3) (3.10)\n",
            "Requirement already satisfied: urllib3<3,>=1.21.1 in /usr/local/lib/python3.10/dist-packages (from requests==2.31.0->d2l==1.0.3) (2.2.3)\n",
            "Requirement already satisfied: certifi>=2017.4.17 in /usr/local/lib/python3.10/dist-packages (from requests==2.31.0->d2l==1.0.3) (2024.12.14)\n",
            "Requirement already satisfied: six>=1.5 in /usr/local/lib/python3.10/dist-packages (from python-dateutil>=2.7->matplotlib==3.7.2->d2l==1.0.3) (1.17.0)\n",
            "Requirement already satisfied: ipython-genutils in /usr/local/lib/python3.10/dist-packages (from ipykernel->jupyter==1.0.0->d2l==1.0.3) (0.2.0)\n",
            "Requirement already satisfied: ipython>=5.0.0 in /usr/local/lib/python3.10/dist-packages (from ipykernel->jupyter==1.0.0->d2l==1.0.3) (7.34.0)\n",
            "Requirement already satisfied: jupyter-client in /usr/local/lib/python3.10/dist-packages (from ipykernel->jupyter==1.0.0->d2l==1.0.3) (6.1.12)\n",
            "Requirement already satisfied: tornado>=4.2 in /usr/local/lib/python3.10/dist-packages (from ipykernel->jupyter==1.0.0->d2l==1.0.3) (6.3.3)\n",
            "Requirement already satisfied: widgetsnbextension~=3.6.0 in /usr/local/lib/python3.10/dist-packages (from ipywidgets->jupyter==1.0.0->d2l==1.0.3) (3.6.10)\n",
            "Requirement already satisfied: jupyterlab-widgets>=1.0.0 in /usr/local/lib/python3.10/dist-packages (from ipywidgets->jupyter==1.0.0->d2l==1.0.3) (3.0.13)\n",
            "Requirement already satisfied: prompt-toolkit!=3.0.0,!=3.0.1,<3.1.0,>=2.0.0 in /usr/local/lib/python3.10/dist-packages (from jupyter-console->jupyter==1.0.0->d2l==1.0.3) (3.0.48)\n",
            "Requirement already satisfied: pygments in /usr/local/lib/python3.10/dist-packages (from jupyter-console->jupyter==1.0.0->d2l==1.0.3) (2.18.0)\n",
            "Requirement already satisfied: beautifulsoup4 in /usr/local/lib/python3.10/dist-packages (from nbconvert->jupyter==1.0.0->d2l==1.0.3) (4.12.3)\n",
            "Requirement already satisfied: bleach!=5.0.0 in /usr/local/lib/python3.10/dist-packages (from nbconvert->jupyter==1.0.0->d2l==1.0.3) (6.2.0)\n",
            "Requirement already satisfied: defusedxml in /usr/local/lib/python3.10/dist-packages (from nbconvert->jupyter==1.0.0->d2l==1.0.3) (0.7.1)\n",
            "Requirement already satisfied: jinja2>=3.0 in /usr/local/lib/python3.10/dist-packages (from nbconvert->jupyter==1.0.0->d2l==1.0.3) (3.1.4)\n",
            "Requirement already satisfied: jupyter-core>=4.7 in /usr/local/lib/python3.10/dist-packages (from nbconvert->jupyter==1.0.0->d2l==1.0.3) (5.7.2)\n",
            "Requirement already satisfied: jupyterlab-pygments in /usr/local/lib/python3.10/dist-packages (from nbconvert->jupyter==1.0.0->d2l==1.0.3) (0.3.0)\n",
            "Requirement already satisfied: markupsafe>=2.0 in /usr/local/lib/python3.10/dist-packages (from nbconvert->jupyter==1.0.0->d2l==1.0.3) (3.0.2)\n",
            "Requirement already satisfied: mistune<4,>=2.0.3 in /usr/local/lib/python3.10/dist-packages (from nbconvert->jupyter==1.0.0->d2l==1.0.3) (3.0.2)\n",
            "Requirement already satisfied: nbclient>=0.5.0 in /usr/local/lib/python3.10/dist-packages (from nbconvert->jupyter==1.0.0->d2l==1.0.3) (0.10.1)\n",
            "Requirement already satisfied: nbformat>=5.7 in /usr/local/lib/python3.10/dist-packages (from nbconvert->jupyter==1.0.0->d2l==1.0.3) (5.10.4)\n",
            "Requirement already satisfied: pandocfilters>=1.4.1 in /usr/local/lib/python3.10/dist-packages (from nbconvert->jupyter==1.0.0->d2l==1.0.3) (1.5.1)\n",
            "Requirement already satisfied: tinycss2 in /usr/local/lib/python3.10/dist-packages (from nbconvert->jupyter==1.0.0->d2l==1.0.3) (1.4.0)\n",
            "Requirement already satisfied: pyzmq<25,>=17 in /usr/local/lib/python3.10/dist-packages (from notebook->jupyter==1.0.0->d2l==1.0.3) (24.0.1)\n",
            "Requirement already satisfied: argon2-cffi in /usr/local/lib/python3.10/dist-packages (from notebook->jupyter==1.0.0->d2l==1.0.3) (23.1.0)\n",
            "Requirement already satisfied: nest-asyncio>=1.5 in /usr/local/lib/python3.10/dist-packages (from notebook->jupyter==1.0.0->d2l==1.0.3) (1.6.0)\n",
            "Requirement already satisfied: Send2Trash>=1.8.0 in /usr/local/lib/python3.10/dist-packages (from notebook->jupyter==1.0.0->d2l==1.0.3) (1.8.3)\n",
            "Requirement already satisfied: terminado>=0.8.3 in /usr/local/lib/python3.10/dist-packages (from notebook->jupyter==1.0.0->d2l==1.0.3) (0.18.1)\n",
            "Requirement already satisfied: prometheus-client in /usr/local/lib/python3.10/dist-packages (from notebook->jupyter==1.0.0->d2l==1.0.3) (0.21.1)\n",
            "Requirement already satisfied: nbclassic>=0.4.7 in /usr/local/lib/python3.10/dist-packages (from notebook->jupyter==1.0.0->d2l==1.0.3) (1.1.0)\n",
            "Collecting qtpy>=2.4.0 (from qtconsole->jupyter==1.0.0->d2l==1.0.3)\n",
            "  Downloading QtPy-2.4.2-py3-none-any.whl.metadata (12 kB)\n",
            "Requirement already satisfied: webencodings in /usr/local/lib/python3.10/dist-packages (from bleach!=5.0.0->nbconvert->jupyter==1.0.0->d2l==1.0.3) (0.5.1)\n",
            "Requirement already satisfied: setuptools>=18.5 in /usr/local/lib/python3.10/dist-packages (from ipython>=5.0.0->ipykernel->jupyter==1.0.0->d2l==1.0.3) (75.1.0)\n",
            "Collecting jedi>=0.16 (from ipython>=5.0.0->ipykernel->jupyter==1.0.0->d2l==1.0.3)\n",
            "  Downloading jedi-0.19.2-py2.py3-none-any.whl.metadata (22 kB)\n",
            "Requirement already satisfied: decorator in /usr/local/lib/python3.10/dist-packages (from ipython>=5.0.0->ipykernel->jupyter==1.0.0->d2l==1.0.3) (4.4.2)\n",
            "Requirement already satisfied: pickleshare in /usr/local/lib/python3.10/dist-packages (from ipython>=5.0.0->ipykernel->jupyter==1.0.0->d2l==1.0.3) (0.7.5)\n",
            "Requirement already satisfied: backcall in /usr/local/lib/python3.10/dist-packages (from ipython>=5.0.0->ipykernel->jupyter==1.0.0->d2l==1.0.3) (0.2.0)\n",
            "Requirement already satisfied: pexpect>4.3 in /usr/local/lib/python3.10/dist-packages (from ipython>=5.0.0->ipykernel->jupyter==1.0.0->d2l==1.0.3) (4.9.0)\n",
            "Requirement already satisfied: platformdirs>=2.5 in /usr/local/lib/python3.10/dist-packages (from jupyter-core>=4.7->nbconvert->jupyter==1.0.0->d2l==1.0.3) (4.3.6)\n",
            "Requirement already satisfied: notebook-shim>=0.2.3 in /usr/local/lib/python3.10/dist-packages (from nbclassic>=0.4.7->notebook->jupyter==1.0.0->d2l==1.0.3) (0.2.4)\n",
            "Requirement already satisfied: fastjsonschema>=2.15 in /usr/local/lib/python3.10/dist-packages (from nbformat>=5.7->nbconvert->jupyter==1.0.0->d2l==1.0.3) (2.21.1)\n",
            "Requirement already satisfied: jsonschema>=2.6 in /usr/local/lib/python3.10/dist-packages (from nbformat>=5.7->nbconvert->jupyter==1.0.0->d2l==1.0.3) (4.23.0)\n",
            "Requirement already satisfied: wcwidth in /usr/local/lib/python3.10/dist-packages (from prompt-toolkit!=3.0.0,!=3.0.1,<3.1.0,>=2.0.0->jupyter-console->jupyter==1.0.0->d2l==1.0.3) (0.2.13)\n",
            "Requirement already satisfied: ptyprocess in /usr/local/lib/python3.10/dist-packages (from terminado>=0.8.3->notebook->jupyter==1.0.0->d2l==1.0.3) (0.7.0)\n",
            "Requirement already satisfied: argon2-cffi-bindings in /usr/local/lib/python3.10/dist-packages (from argon2-cffi->notebook->jupyter==1.0.0->d2l==1.0.3) (21.2.0)\n",
            "Requirement already satisfied: soupsieve>1.2 in /usr/local/lib/python3.10/dist-packages (from beautifulsoup4->nbconvert->jupyter==1.0.0->d2l==1.0.3) (2.6)\n",
            "Requirement already satisfied: parso<0.9.0,>=0.8.4 in /usr/local/lib/python3.10/dist-packages (from jedi>=0.16->ipython>=5.0.0->ipykernel->jupyter==1.0.0->d2l==1.0.3) (0.8.4)\n",
            "Requirement already satisfied: attrs>=22.2.0 in /usr/local/lib/python3.10/dist-packages (from jsonschema>=2.6->nbformat>=5.7->nbconvert->jupyter==1.0.0->d2l==1.0.3) (24.3.0)\n",
            "Requirement already satisfied: jsonschema-specifications>=2023.03.6 in /usr/local/lib/python3.10/dist-packages (from jsonschema>=2.6->nbformat>=5.7->nbconvert->jupyter==1.0.0->d2l==1.0.3) (2024.10.1)\n",
            "Requirement already satisfied: referencing>=0.28.4 in /usr/local/lib/python3.10/dist-packages (from jsonschema>=2.6->nbformat>=5.7->nbconvert->jupyter==1.0.0->d2l==1.0.3) (0.35.1)\n",
            "Requirement already satisfied: rpds-py>=0.7.1 in /usr/local/lib/python3.10/dist-packages (from jsonschema>=2.6->nbformat>=5.7->nbconvert->jupyter==1.0.0->d2l==1.0.3) (0.22.3)\n",
            "Requirement already satisfied: jupyter-server<3,>=1.8 in /usr/local/lib/python3.10/dist-packages (from notebook-shim>=0.2.3->nbclassic>=0.4.7->notebook->jupyter==1.0.0->d2l==1.0.3) (1.24.0)\n",
            "Requirement already satisfied: cffi>=1.0.1 in /usr/local/lib/python3.10/dist-packages (from argon2-cffi-bindings->argon2-cffi->notebook->jupyter==1.0.0->d2l==1.0.3) (1.17.1)\n",
            "Requirement already satisfied: pycparser in /usr/local/lib/python3.10/dist-packages (from cffi>=1.0.1->argon2-cffi-bindings->argon2-cffi->notebook->jupyter==1.0.0->d2l==1.0.3) (2.22)\n",
            "Requirement already satisfied: anyio<4,>=3.1.0 in /usr/local/lib/python3.10/dist-packages (from jupyter-server<3,>=1.8->notebook-shim>=0.2.3->nbclassic>=0.4.7->notebook->jupyter==1.0.0->d2l==1.0.3) (3.7.1)\n",
            "Requirement already satisfied: websocket-client in /usr/local/lib/python3.10/dist-packages (from jupyter-server<3,>=1.8->notebook-shim>=0.2.3->nbclassic>=0.4.7->notebook->jupyter==1.0.0->d2l==1.0.3) (1.8.0)\n",
            "Requirement already satisfied: sniffio>=1.1 in /usr/local/lib/python3.10/dist-packages (from anyio<4,>=3.1.0->jupyter-server<3,>=1.8->notebook-shim>=0.2.3->nbclassic>=0.4.7->notebook->jupyter==1.0.0->d2l==1.0.3) (1.3.1)\n",
            "Requirement already satisfied: exceptiongroup in /usr/local/lib/python3.10/dist-packages (from anyio<4,>=3.1.0->jupyter-server<3,>=1.8->notebook-shim>=0.2.3->nbclassic>=0.4.7->notebook->jupyter==1.0.0->d2l==1.0.3) (1.2.2)\n",
            "Downloading d2l-1.0.3-py3-none-any.whl (111 kB)\n",
            "\u001b[2K   \u001b[90m━━━━━━━━━━━━━━━━━━━━━━━━━━━━━━━━━━━━━━━━\u001b[0m \u001b[32m111.7/111.7 kB\u001b[0m \u001b[31m5.1 MB/s\u001b[0m eta \u001b[36m0:00:00\u001b[0m\n",
            "\u001b[?25hDownloading jupyter-1.0.0-py2.py3-none-any.whl (2.7 kB)\n",
            "Downloading matplotlib-3.7.2-cp310-cp310-manylinux_2_17_x86_64.manylinux2014_x86_64.whl (11.6 MB)\n",
            "\u001b[2K   \u001b[90m━━━━━━━━━━━━━━━━━━━━━━━━━━━━━━━━━━━━━━━━\u001b[0m \u001b[32m11.6/11.6 MB\u001b[0m \u001b[31m26.2 MB/s\u001b[0m eta \u001b[36m0:00:00\u001b[0m\n",
            "\u001b[?25hDownloading matplotlib_inline-0.1.6-py3-none-any.whl (9.4 kB)\n",
            "Downloading numpy-1.23.5-cp310-cp310-manylinux_2_17_x86_64.manylinux2014_x86_64.whl (17.1 MB)\n",
            "\u001b[2K   \u001b[90m━━━━━━━━━━━━━━━━━━━━━━━━━━━━━━━━━━━━━━━━\u001b[0m \u001b[32m17.1/17.1 MB\u001b[0m \u001b[31m8.7 MB/s\u001b[0m eta \u001b[36m0:00:00\u001b[0m\n",
            "\u001b[?25hDownloading pandas-2.0.3-cp310-cp310-manylinux_2_17_x86_64.manylinux2014_x86_64.whl (12.3 MB)\n",
            "\u001b[2K   \u001b[90m━━━━━━━━━━━━━━━━━━━━━━━━━━━━━━━━━━━━━━━━\u001b[0m \u001b[32m12.3/12.3 MB\u001b[0m \u001b[31m36.4 MB/s\u001b[0m eta \u001b[36m0:00:00\u001b[0m\n",
            "\u001b[?25hDownloading requests-2.31.0-py3-none-any.whl (62 kB)\n",
            "\u001b[2K   \u001b[90m━━━━━━━━━━━━━━━━━━━━━━━━━━━━━━━━━━━━━━━━\u001b[0m \u001b[32m62.6/62.6 kB\u001b[0m \u001b[31m3.1 MB/s\u001b[0m eta \u001b[36m0:00:00\u001b[0m\n",
            "\u001b[?25hDownloading scipy-1.10.1-cp310-cp310-manylinux_2_17_x86_64.manylinux2014_x86_64.whl (34.4 MB)\n",
            "\u001b[2K   \u001b[90m━━━━━━━━━━━━━━━━━━━━━━━━━━━━━━━━━━━━━━━━\u001b[0m \u001b[32m34.4/34.4 MB\u001b[0m \u001b[31m19.0 MB/s\u001b[0m eta \u001b[36m0:00:00\u001b[0m\n",
            "\u001b[?25hDownloading pyparsing-3.0.9-py3-none-any.whl (98 kB)\n",
            "\u001b[2K   \u001b[90m━━━━━━━━━━━━━━━━━━━━━━━━━━━━━━━━━━━━━━━━\u001b[0m \u001b[32m98.3/98.3 kB\u001b[0m \u001b[31m6.4 MB/s\u001b[0m eta \u001b[36m0:00:00\u001b[0m\n",
            "\u001b[?25hDownloading qtconsole-5.6.1-py3-none-any.whl (125 kB)\n",
            "\u001b[2K   \u001b[90m━━━━━━━━━━━━━━━━━━━━━━━━━━━━━━━━━━━━━━━━\u001b[0m \u001b[32m125.0/125.0 kB\u001b[0m \u001b[31m7.6 MB/s\u001b[0m eta \u001b[36m0:00:00\u001b[0m\n",
            "\u001b[?25hDownloading QtPy-2.4.2-py3-none-any.whl (95 kB)\n",
            "\u001b[2K   \u001b[90m━━━━━━━━━━━━━━━━━━━━━━━━━━━━━━━━━━━━━━━━\u001b[0m \u001b[32m95.2/95.2 kB\u001b[0m \u001b[31m8.4 MB/s\u001b[0m eta \u001b[36m0:00:00\u001b[0m\n",
            "\u001b[?25hDownloading jedi-0.19.2-py2.py3-none-any.whl (1.6 MB)\n",
            "\u001b[2K   \u001b[90m━━━━━━━━━━━━━━━━━━━━━━━━━━━━━━━━━━━━━━━━\u001b[0m \u001b[32m1.6/1.6 MB\u001b[0m \u001b[31m21.5 MB/s\u001b[0m eta \u001b[36m0:00:00\u001b[0m\n",
            "\u001b[?25hInstalling collected packages: requests, qtpy, pyparsing, numpy, matplotlib-inline, jedi, scipy, pandas, matplotlib, qtconsole, jupyter, d2l\n",
            "  Attempting uninstall: requests\n",
            "    Found existing installation: requests 2.32.3\n",
            "    Uninstalling requests-2.32.3:\n",
            "      Successfully uninstalled requests-2.32.3\n",
            "  Attempting uninstall: pyparsing\n",
            "    Found existing installation: pyparsing 3.2.0\n",
            "    Uninstalling pyparsing-3.2.0:\n",
            "      Successfully uninstalled pyparsing-3.2.0\n",
            "  Attempting uninstall: numpy\n",
            "    Found existing installation: numpy 1.26.4\n",
            "    Uninstalling numpy-1.26.4:\n",
            "      Successfully uninstalled numpy-1.26.4\n",
            "  Attempting uninstall: matplotlib-inline\n",
            "    Found existing installation: matplotlib-inline 0.1.7\n",
            "    Uninstalling matplotlib-inline-0.1.7:\n",
            "      Successfully uninstalled matplotlib-inline-0.1.7\n",
            "  Attempting uninstall: scipy\n",
            "    Found existing installation: scipy 1.13.1\n",
            "    Uninstalling scipy-1.13.1:\n",
            "      Successfully uninstalled scipy-1.13.1\n",
            "  Attempting uninstall: pandas\n",
            "    Found existing installation: pandas 2.2.2\n",
            "    Uninstalling pandas-2.2.2:\n",
            "      Successfully uninstalled pandas-2.2.2\n",
            "  Attempting uninstall: matplotlib\n",
            "    Found existing installation: matplotlib 3.8.0\n",
            "    Uninstalling matplotlib-3.8.0:\n",
            "      Successfully uninstalled matplotlib-3.8.0\n",
            "\u001b[31mERROR: pip's dependency resolver does not currently take into account all the packages that are installed. This behaviour is the source of the following dependency conflicts.\n",
            "albucore 0.0.19 requires numpy>=1.24.4, but you have numpy 1.23.5 which is incompatible.\n",
            "albumentations 1.4.20 requires numpy>=1.24.4, but you have numpy 1.23.5 which is incompatible.\n",
            "bigframes 1.29.0 requires numpy>=1.24.0, but you have numpy 1.23.5 which is incompatible.\n",
            "chex 0.1.88 requires numpy>=1.24.1, but you have numpy 1.23.5 which is incompatible.\n",
            "google-colab 1.0.0 requires pandas==2.2.2, but you have pandas 2.0.3 which is incompatible.\n",
            "google-colab 1.0.0 requires requests==2.32.3, but you have requests 2.31.0 which is incompatible.\n",
            "jax 0.4.33 requires numpy>=1.24, but you have numpy 1.23.5 which is incompatible.\n",
            "jaxlib 0.4.33 requires numpy>=1.24, but you have numpy 1.23.5 which is incompatible.\n",
            "mizani 0.13.1 requires pandas>=2.2.0, but you have pandas 2.0.3 which is incompatible.\n",
            "plotnine 0.14.4 requires matplotlib>=3.8.0, but you have matplotlib 3.7.2 which is incompatible.\n",
            "plotnine 0.14.4 requires pandas>=2.2.0, but you have pandas 2.0.3 which is incompatible.\n",
            "pymc 5.19.1 requires numpy>=1.25.0, but you have numpy 1.23.5 which is incompatible.\n",
            "scikit-image 0.25.0 requires numpy>=1.24, but you have numpy 1.23.5 which is incompatible.\n",
            "scikit-image 0.25.0 requires scipy>=1.11.2, but you have scipy 1.10.1 which is incompatible.\n",
            "xarray 2024.11.0 requires numpy>=1.24, but you have numpy 1.23.5 which is incompatible.\n",
            "xarray 2024.11.0 requires pandas>=2.1, but you have pandas 2.0.3 which is incompatible.\u001b[0m\u001b[31m\n",
            "\u001b[0mSuccessfully installed d2l-1.0.3 jedi-0.19.2 jupyter-1.0.0 matplotlib-3.7.2 matplotlib-inline-0.1.6 numpy-1.23.5 pandas-2.0.3 pyparsing-3.0.9 qtconsole-5.6.1 qtpy-2.4.2 requests-2.31.0 scipy-1.10.1\n"
          ]
        },
        {
          "output_type": "display_data",
          "data": {
            "application/vnd.colab-display-data+json": {
              "pip_warning": {
                "packages": [
                  "matplotlib",
                  "matplotlib_inline",
                  "mpl_toolkits",
                  "numpy"
                ]
              },
              "id": "134c07a819b14a7aa131a4670ba7cd3b"
            }
          },
          "metadata": {}
        }
      ],
      "source": [
        "!pip install d2l==1.0.3\n",
        "\n",
        "import tensorflow as tf\n",
        "from d2l import tensorflow as d2l\n",
        "d2l.use_svg_display()\n",
        "import pdb\n",
        "import matplotlib.pyplot as plt\n",
        "from sklearn.metrics import confusion_matrix"
      ]
    },
    {
      "cell_type": "markdown",
      "id": "969181bc-08a5-4d52-9bad-b319cf9aa3fd",
      "metadata": {
        "id": "969181bc-08a5-4d52-9bad-b319cf9aa3fd"
      },
      "source": [
        "### 1.2. Carregamento e Pré-processamento dos Dados"
      ]
    },
    {
      "cell_type": "code",
      "execution_count": 2,
      "id": "ab451f9d-c09c-450e-97b3-5cbc5e27ac75",
      "metadata": {
        "id": "ab451f9d-c09c-450e-97b3-5cbc5e27ac75",
        "outputId": "47f99cc0-ba39-45e8-bf28-0a8dd54833bc",
        "colab": {
          "base_uri": "https://localhost:8080/"
        }
      },
      "outputs": [
        {
          "output_type": "stream",
          "name": "stdout",
          "text": [
            "Downloading data from https://storage.googleapis.com/tensorflow/tf-keras-datasets/mnist.npz\n",
            "\u001b[1m11490434/11490434\u001b[0m \u001b[32m━━━━━━━━━━━━━━━━━━━━\u001b[0m\u001b[37m\u001b[0m \u001b[1m1s\u001b[0m 0us/step\n"
          ]
        }
      ],
      "source": [
        "class MNIST(d2l.DataModule):  # @save\n",
        "    \"\"\"O dataset MNIST.\"\"\"\n",
        "\n",
        "    def __init__(self, batch_size=64):\n",
        "        super().__init__()\n",
        "        self.save_hyperparameters()\n",
        "        self.train, self.val = tf.keras.datasets.mnist.load_data()\n",
        "\n",
        "    def get_dataloader(self, train):\n",
        "        data = self.train if train else self.val\n",
        "        process = lambda X, y: (tf.expand_dims(X, axis=3) / 255,tf.cast(y, dtype='int32'))\n",
        "        resize_fn = lambda X, y: (tf.image.resize_with_pad(X,*self.resize), y)\n",
        "        shuffle_buf = len(data[0]) if train else 1\n",
        "        return tf.data.Dataset.from_tensor_slices(process(*data)).batch(self.batch_size).shuffle(shuffle_buf)\n",
        "\n",
        "#Instancia o dataset\n",
        "data = MNIST()"
      ]
    },
    {
      "cell_type": "code",
      "execution_count": 3,
      "id": "891a4130-3c9d-4aea-96da-608be3d66629",
      "metadata": {
        "id": "891a4130-3c9d-4aea-96da-608be3d66629",
        "outputId": "21d41240-dfc4-4c00-e6aa-81997cae787f",
        "colab": {
          "base_uri": "https://localhost:8080/"
        }
      },
      "outputs": [
        {
          "output_type": "stream",
          "name": "stdout",
          "text": [
            "60000 10000\n",
            "(60000, 28, 28)\n"
          ]
        }
      ],
      "source": [
        "# Verifica o número de exemplos e formato dos dados\n",
        "print(len(data.train[0]), len(data.val[0]))\n",
        "print(data.train[0].shape)"
      ]
    },
    {
      "cell_type": "code",
      "execution_count": 4,
      "id": "9486fb87-53c5-43e3-a9de-1ff9826bd9ef",
      "metadata": {
        "id": "9486fb87-53c5-43e3-a9de-1ff9826bd9ef",
        "outputId": "6185dd31-d2ee-4a82-9543-5eb6f810ad19",
        "colab": {
          "base_uri": "https://localhost:8080/"
        }
      },
      "outputs": [
        {
          "output_type": "stream",
          "name": "stdout",
          "text": [
            "(64, 28, 28, 1) <dtype: 'float32'> (64,) <dtype: 'int32'>\n"
          ]
        }
      ],
      "source": [
        "#Verifica um minibatch\n",
        "X, y = next(iter(data.train_dataloader()))\n",
        "print(X.shape, X.dtype, y.shape, y.dtype)"
      ]
    },
    {
      "cell_type": "markdown",
      "id": "12d47a4b-8b06-4edd-bc02-6d67ff2fef81",
      "metadata": {
        "id": "12d47a4b-8b06-4edd-bc02-6d67ff2fef81"
      },
      "source": [
        "## 2. Modelos e Arquiteturas\n",
        "Nesta seção, implementamos diferentes arquiteturas e técnicas de treinamento para o MLP, avaliando o impacto no desempenho.\n"
      ]
    },
    {
      "cell_type": "markdown",
      "id": "8b9a48e8-ed7f-494e-8670-d284e4937461",
      "metadata": {
        "id": "8b9a48e8-ed7f-494e-8670-d284e4937461"
      },
      "source": [
        "### 2a. Perceptron com uma Camada Escondida, Função Logística, Custo SSE e Descida de Gradiente\n"
      ]
    },
    {
      "cell_type": "code",
      "execution_count": 5,
      "id": "e3d31652-5c50-4067-88fe-8d1b6f448057",
      "metadata": {
        "id": "e3d31652-5c50-4067-88fe-8d1b6f448057"
      },
      "outputs": [],
      "source": [
        "# Converte os rótulos para One-Hot\n",
        "def preprocess_labels(dataset):\n",
        "    return dataset.map(lambda X, y: (X, tf.one_hot(y, depth=10)))\n",
        "\n",
        "# Prepara os dados para treinamento com os rotulos processados\n",
        "train_dataloader = preprocess_labels(data.get_dataloader(train=True))\n",
        "val_dataloader = preprocess_labels(data.get_dataloader(train=False))"
      ]
    },
    {
      "cell_type": "code",
      "execution_count": 6,
      "id": "b2020b2f",
      "metadata": {
        "id": "b2020b2f",
        "outputId": "1940043f-d47f-4103-86f2-a3d55639a3be",
        "colab": {
          "base_uri": "https://localhost:8080/"
        }
      },
      "outputs": [
        {
          "output_type": "stream",
          "name": "stdout",
          "text": [
            "Epoch 1/10\n",
            "\u001b[1m938/938\u001b[0m \u001b[32m━━━━━━━━━━━━━━━━━━━━\u001b[0m\u001b[37m\u001b[0m \u001b[1m6s\u001b[0m 4ms/step - accuracy: 0.2510 - loss: 0.1007 - val_accuracy: 0.4499 - val_loss: 0.0834\n",
            "Epoch 2/10\n",
            "\u001b[1m938/938\u001b[0m \u001b[32m━━━━━━━━━━━━━━━━━━━━\u001b[0m\u001b[37m\u001b[0m \u001b[1m2s\u001b[0m 2ms/step - accuracy: 0.4592 - loss: 0.0814 - val_accuracy: 0.5661 - val_loss: 0.0739\n",
            "Epoch 3/10\n",
            "\u001b[1m938/938\u001b[0m \u001b[32m━━━━━━━━━━━━━━━━━━━━\u001b[0m\u001b[37m\u001b[0m \u001b[1m2s\u001b[0m 2ms/step - accuracy: 0.5903 - loss: 0.0717 - val_accuracy: 0.6870 - val_loss: 0.0642\n",
            "Epoch 4/10\n",
            "\u001b[1m938/938\u001b[0m \u001b[32m━━━━━━━━━━━━━━━━━━━━\u001b[0m\u001b[37m\u001b[0m \u001b[1m3s\u001b[0m 2ms/step - accuracy: 0.6886 - loss: 0.0628 - val_accuracy: 0.7474 - val_loss: 0.0560\n",
            "Epoch 5/10\n",
            "\u001b[1m938/938\u001b[0m \u001b[32m━━━━━━━━━━━━━━━━━━━━\u001b[0m\u001b[37m\u001b[0m \u001b[1m2s\u001b[0m 2ms/step - accuracy: 0.7472 - loss: 0.0551 - val_accuracy: 0.7848 - val_loss: 0.0498\n",
            "Epoch 6/10\n",
            "\u001b[1m938/938\u001b[0m \u001b[32m━━━━━━━━━━━━━━━━━━━━\u001b[0m\u001b[37m\u001b[0m \u001b[1m2s\u001b[0m 2ms/step - accuracy: 0.7777 - loss: 0.0493 - val_accuracy: 0.8111 - val_loss: 0.0450\n",
            "Epoch 7/10\n",
            "\u001b[1m938/938\u001b[0m \u001b[32m━━━━━━━━━━━━━━━━━━━━\u001b[0m\u001b[37m\u001b[0m \u001b[1m2s\u001b[0m 2ms/step - accuracy: 0.8038 - loss: 0.0450 - val_accuracy: 0.8265 - val_loss: 0.0413\n",
            "Epoch 8/10\n",
            "\u001b[1m938/938\u001b[0m \u001b[32m━━━━━━━━━━━━━━━━━━━━\u001b[0m\u001b[37m\u001b[0m \u001b[1m2s\u001b[0m 2ms/step - accuracy: 0.8196 - loss: 0.0413 - val_accuracy: 0.8379 - val_loss: 0.0384\n",
            "Epoch 9/10\n",
            "\u001b[1m938/938\u001b[0m \u001b[32m━━━━━━━━━━━━━━━━━━━━\u001b[0m\u001b[37m\u001b[0m \u001b[1m2s\u001b[0m 2ms/step - accuracy: 0.8305 - loss: 0.0388 - val_accuracy: 0.8460 - val_loss: 0.0360\n",
            "Epoch 10/10\n",
            "\u001b[1m938/938\u001b[0m \u001b[32m━━━━━━━━━━━━━━━━━━━━\u001b[0m\u001b[37m\u001b[0m \u001b[1m3s\u001b[0m 2ms/step - accuracy: 0.8405 - loss: 0.0364 - val_accuracy: 0.8571 - val_loss: 0.0341\n"
          ]
        }
      ],
      "source": [
        "model = tf.keras.Sequential([\n",
        "    tf.keras.layers.Flatten(),  #Transforma a entrada (28x28) em vetor (784)\n",
        "    tf.keras.layers.Dense(128, activation='sigmoid'),   #Camada escondida\n",
        "    tf.keras.layers.Dense(10, activation='sigmoid')  #Camada de saída\n",
        "])\n",
        "\n",
        "model.compile(\n",
        "    optimizer=tf.keras.optimizers.SGD(learning_rate = 0.1),   #Descida por gradiente\n",
        "    loss=tf.keras.losses.MeanSquaredError(),  #Erro quadrático médio\n",
        "    metrics=['accuracy']\n",
        ")\n",
        "\n",
        "model.fit(\n",
        "    train_dataloader,               # Dados de treinamento\n",
        "    epochs=10,                       # Número de épocas\n",
        "    validation_data=val_dataloader  # Dados de validação\n",
        ")\n",
        "\n",
        "# Salvar o modelo treinado\n",
        "model_2a = model\n",
        "\n",
        "#Identificação do modelo\n",
        "model_name = \"2a - função de ativação sigmoide, descida de gradiente\""
      ]
    },
    {
      "cell_type": "markdown",
      "id": "eb50054d-6805-4eec-8dec-461a143bb292",
      "metadata": {
        "id": "eb50054d-6805-4eec-8dec-461a143bb292"
      },
      "source": [
        "### 2b. Saída do tipo softmax, custo \"entropia cruzada\""
      ]
    },
    {
      "cell_type": "code",
      "execution_count": 7,
      "id": "891e1260-385f-414f-95e0-ee17aa8f7564",
      "metadata": {
        "id": "891e1260-385f-414f-95e0-ee17aa8f7564"
      },
      "outputs": [],
      "source": [
        "# Prepara os dados de treinamento sem conversão para One-Hot\n",
        "train_dataloader = data.get_dataloader(train=True)\n",
        "val_dataloader = data.get_dataloader(train=False)"
      ]
    },
    {
      "cell_type": "code",
      "execution_count": 8,
      "id": "3b53ff9c-dc20-43ba-a113-bc4601a0da89",
      "metadata": {
        "id": "3b53ff9c-dc20-43ba-a113-bc4601a0da89",
        "outputId": "25d3c5dc-31f8-4676-b6bc-3336d92e0cd0",
        "colab": {
          "base_uri": "https://localhost:8080/"
        }
      },
      "outputs": [
        {
          "output_type": "stream",
          "name": "stdout",
          "text": [
            "Epoch 1/10\n",
            "\u001b[1m938/938\u001b[0m \u001b[32m━━━━━━━━━━━━━━━━━━━━\u001b[0m\u001b[37m\u001b[0m \u001b[1m5s\u001b[0m 4ms/step - accuracy: 0.7283 - loss: 1.1078 - val_accuracy: 0.9015 - val_loss: 0.3752\n",
            "Epoch 2/10\n",
            "\u001b[1m938/938\u001b[0m \u001b[32m━━━━━━━━━━━━━━━━━━━━\u001b[0m\u001b[37m\u001b[0m \u001b[1m2s\u001b[0m 2ms/step - accuracy: 0.8979 - loss: 0.3703 - val_accuracy: 0.9136 - val_loss: 0.3088\n",
            "Epoch 3/10\n",
            "\u001b[1m938/938\u001b[0m \u001b[32m━━━━━━━━━━━━━━━━━━━━\u001b[0m\u001b[37m\u001b[0m \u001b[1m2s\u001b[0m 2ms/step - accuracy: 0.9105 - loss: 0.3093 - val_accuracy: 0.9204 - val_loss: 0.2812\n",
            "Epoch 4/10\n",
            "\u001b[1m938/938\u001b[0m \u001b[32m━━━━━━━━━━━━━━━━━━━━\u001b[0m\u001b[37m\u001b[0m \u001b[1m2s\u001b[0m 2ms/step - accuracy: 0.9179 - loss: 0.2854 - val_accuracy: 0.9263 - val_loss: 0.2642\n",
            "Epoch 5/10\n",
            "\u001b[1m938/938\u001b[0m \u001b[32m━━━━━━━━━━━━━━━━━━━━\u001b[0m\u001b[37m\u001b[0m \u001b[1m4s\u001b[0m 3ms/step - accuracy: 0.9238 - loss: 0.2643 - val_accuracy: 0.9295 - val_loss: 0.2449\n",
            "Epoch 6/10\n",
            "\u001b[1m938/938\u001b[0m \u001b[32m━━━━━━━━━━━━━━━━━━━━\u001b[0m\u001b[37m\u001b[0m \u001b[1m4s\u001b[0m 2ms/step - accuracy: 0.9290 - loss: 0.2487 - val_accuracy: 0.9345 - val_loss: 0.2308\n",
            "Epoch 7/10\n",
            "\u001b[1m938/938\u001b[0m \u001b[32m━━━━━━━━━━━━━━━━━━━━\u001b[0m\u001b[37m\u001b[0m \u001b[1m3s\u001b[0m 2ms/step - accuracy: 0.9320 - loss: 0.2349 - val_accuracy: 0.9383 - val_loss: 0.2183\n",
            "Epoch 8/10\n",
            "\u001b[1m938/938\u001b[0m \u001b[32m━━━━━━━━━━━━━━━━━━━━\u001b[0m\u001b[37m\u001b[0m \u001b[1m2s\u001b[0m 2ms/step - accuracy: 0.9377 - loss: 0.2174 - val_accuracy: 0.9386 - val_loss: 0.2103\n",
            "Epoch 9/10\n",
            "\u001b[1m938/938\u001b[0m \u001b[32m━━━━━━━━━━━━━━━━━━━━\u001b[0m\u001b[37m\u001b[0m \u001b[1m3s\u001b[0m 2ms/step - accuracy: 0.9414 - loss: 0.2047 - val_accuracy: 0.9427 - val_loss: 0.2006\n",
            "Epoch 10/10\n",
            "\u001b[1m938/938\u001b[0m \u001b[32m━━━━━━━━━━━━━━━━━━━━\u001b[0m\u001b[37m\u001b[0m \u001b[1m3s\u001b[0m 2ms/step - accuracy: 0.9430 - loss: 0.2040 - val_accuracy: 0.9472 - val_loss: 0.1876\n"
          ]
        }
      ],
      "source": [
        "model = tf.keras.Sequential([\n",
        "    tf.keras.layers.Flatten(),  #Transforma a entrada (28x28) em vetor (784)\n",
        "    tf.keras.layers.Dense(128, activation='sigmoid'),   #Camada escondida\n",
        "    tf.keras.layers.Dense(10, activation='softmax')  #Camada de saída\n",
        "])\n",
        "\n",
        "model.compile(\n",
        "    optimizer=tf.keras.optimizers.SGD(learning_rate = 0.1),   #Descida por gradiente\n",
        "    loss=tf.keras.losses.SparseCategoricalCrossentropy(),  #Entropia cruzada\n",
        "    metrics=['accuracy']\n",
        ")\n",
        "\n",
        "model.fit(\n",
        "    train_dataloader,               # Dados de treinamento\n",
        "    epochs=10,                      # Número de épocas\n",
        "    validation_data=val_dataloader  # Dados de validação\n",
        ")\n",
        "\n",
        "# Salvar o modelo treinado\n",
        "model_2b = model\n",
        "\n",
        "#Identificação do modelo\n",
        "model_name = \"2b - saida softmax, função de custo entropia cruzada\""
      ]
    },
    {
      "cell_type": "markdown",
      "id": "c233937f-ef68-4861-b752-6c691db65357",
      "metadata": {
        "id": "c233937f-ef68-4861-b752-6c691db65357"
      },
      "source": [
        "### 2c. Otimizador Adam"
      ]
    },
    {
      "cell_type": "code",
      "execution_count": 9,
      "id": "776f4899-414c-4682-8659-b1cc64160f91",
      "metadata": {
        "id": "776f4899-414c-4682-8659-b1cc64160f91",
        "outputId": "7be9aa20-8172-462c-c633-43c3b8cfe7a9",
        "colab": {
          "base_uri": "https://localhost:8080/"
        }
      },
      "outputs": [
        {
          "output_type": "stream",
          "name": "stdout",
          "text": [
            "Epoch 1/10\n",
            "\u001b[1m938/938\u001b[0m \u001b[32m━━━━━━━━━━━━━━━━━━━━\u001b[0m\u001b[37m\u001b[0m \u001b[1m4s\u001b[0m 3ms/step - accuracy: 0.8055 - loss: 0.8025 - val_accuracy: 0.9251 - val_loss: 0.2643\n",
            "Epoch 2/10\n",
            "\u001b[1m938/938\u001b[0m \u001b[32m━━━━━━━━━━━━━━━━━━━━\u001b[0m\u001b[37m\u001b[0m \u001b[1m4s\u001b[0m 2ms/step - accuracy: 0.9276 - loss: 0.2520 - val_accuracy: 0.9416 - val_loss: 0.1998\n",
            "Epoch 3/10\n",
            "\u001b[1m938/938\u001b[0m \u001b[32m━━━━━━━━━━━━━━━━━━━━\u001b[0m\u001b[37m\u001b[0m \u001b[1m3s\u001b[0m 2ms/step - accuracy: 0.9464 - loss: 0.1896 - val_accuracy: 0.9506 - val_loss: 0.1701\n",
            "Epoch 4/10\n",
            "\u001b[1m938/938\u001b[0m \u001b[32m━━━━━━━━━━━━━━━━━━━━\u001b[0m\u001b[37m\u001b[0m \u001b[1m2s\u001b[0m 2ms/step - accuracy: 0.9559 - loss: 0.1560 - val_accuracy: 0.9567 - val_loss: 0.1472\n",
            "Epoch 5/10\n",
            "\u001b[1m938/938\u001b[0m \u001b[32m━━━━━━━━━━━━━━━━━━━━\u001b[0m\u001b[37m\u001b[0m \u001b[1m3s\u001b[0m 2ms/step - accuracy: 0.9636 - loss: 0.1268 - val_accuracy: 0.9628 - val_loss: 0.1275\n",
            "Epoch 6/10\n",
            "\u001b[1m938/938\u001b[0m \u001b[32m━━━━━━━━━━━━━━━━━━━━\u001b[0m\u001b[37m\u001b[0m \u001b[1m3s\u001b[0m 2ms/step - accuracy: 0.9692 - loss: 0.1087 - val_accuracy: 0.9633 - val_loss: 0.1211\n",
            "Epoch 7/10\n",
            "\u001b[1m938/938\u001b[0m \u001b[32m━━━━━━━━━━━━━━━━━━━━\u001b[0m\u001b[37m\u001b[0m \u001b[1m3s\u001b[0m 2ms/step - accuracy: 0.9740 - loss: 0.0928 - val_accuracy: 0.9659 - val_loss: 0.1113\n",
            "Epoch 8/10\n",
            "\u001b[1m938/938\u001b[0m \u001b[32m━━━━━━━━━━━━━━━━━━━━\u001b[0m\u001b[37m\u001b[0m \u001b[1m2s\u001b[0m 2ms/step - accuracy: 0.9772 - loss: 0.0811 - val_accuracy: 0.9692 - val_loss: 0.1015\n",
            "Epoch 9/10\n",
            "\u001b[1m938/938\u001b[0m \u001b[32m━━━━━━━━━━━━━━━━━━━━\u001b[0m\u001b[37m\u001b[0m \u001b[1m2s\u001b[0m 2ms/step - accuracy: 0.9814 - loss: 0.0710 - val_accuracy: 0.9717 - val_loss: 0.0934\n",
            "Epoch 10/10\n",
            "\u001b[1m938/938\u001b[0m \u001b[32m━━━━━━━━━━━━━━━━━━━━\u001b[0m\u001b[37m\u001b[0m \u001b[1m2s\u001b[0m 2ms/step - accuracy: 0.9823 - loss: 0.0651 - val_accuracy: 0.9731 - val_loss: 0.0905\n"
          ]
        }
      ],
      "source": [
        "model = tf.keras.Sequential([\n",
        "    tf.keras.layers.Flatten(),  #Transforma a entrada (28x28) em vetor (784)\n",
        "    tf.keras.layers.Dense(128, activation='sigmoid'),   #Camada escondida\n",
        "    tf.keras.layers.Dense(10, activation='softmax')  #Camada de saída\n",
        "])\n",
        "\n",
        "model.compile(\n",
        "    optimizer=tf.keras.optimizers.Adam(),   #Otimizador Adam\n",
        "    loss=tf.keras.losses.SparseCategoricalCrossentropy(),  #Entropia cruzada\n",
        "    metrics=['accuracy']\n",
        ")\n",
        "\n",
        "model.fit(\n",
        "    train_dataloader,               # Dados de treinamento\n",
        "    epochs=10,                      # Número de épocas\n",
        "    validation_data=val_dataloader  # Dados de validação\n",
        ")\n",
        "\n",
        "# Salvar o modelo treinado\n",
        "model_2c = model\n",
        "\n",
        "#Identificação do modelo\n",
        "model_name = \"2c - função de ativação sigmoide, otimizador Adam\""
      ]
    },
    {
      "cell_type": "markdown",
      "id": "41a9eb31-7c53-4a73-8ed6-fb9aacea1693",
      "metadata": {
        "id": "41a9eb31-7c53-4a73-8ed6-fb9aacea1693"
      },
      "source": [
        "### 2d. A função Relu"
      ]
    },
    {
      "cell_type": "code",
      "execution_count": 10,
      "id": "94e6c83b-f962-4e78-8d00-2a1e8a846eac",
      "metadata": {
        "id": "94e6c83b-f962-4e78-8d00-2a1e8a846eac",
        "outputId": "f6317132-4604-4f05-aee2-d8162fb8a527",
        "colab": {
          "base_uri": "https://localhost:8080/"
        }
      },
      "outputs": [
        {
          "output_type": "stream",
          "name": "stdout",
          "text": [
            "Epoch 1/10\n",
            "\u001b[1m938/938\u001b[0m \u001b[32m━━━━━━━━━━━━━━━━━━━━\u001b[0m\u001b[37m\u001b[0m \u001b[1m5s\u001b[0m 3ms/step - accuracy: 0.8561 - loss: 0.5199 - val_accuracy: 0.9532 - val_loss: 0.1609\n",
            "Epoch 2/10\n",
            "\u001b[1m938/938\u001b[0m \u001b[32m━━━━━━━━━━━━━━━━━━━━\u001b[0m\u001b[37m\u001b[0m \u001b[1m2s\u001b[0m 2ms/step - accuracy: 0.9565 - loss: 0.1468 - val_accuracy: 0.9658 - val_loss: 0.1186\n",
            "Epoch 3/10\n",
            "\u001b[1m938/938\u001b[0m \u001b[32m━━━━━━━━━━━━━━━━━━━━\u001b[0m\u001b[37m\u001b[0m \u001b[1m2s\u001b[0m 2ms/step - accuracy: 0.9696 - loss: 0.1060 - val_accuracy: 0.9701 - val_loss: 0.1019\n",
            "Epoch 4/10\n",
            "\u001b[1m938/938\u001b[0m \u001b[32m━━━━━━━━━━━━━━━━━━━━\u001b[0m\u001b[37m\u001b[0m \u001b[1m2s\u001b[0m 2ms/step - accuracy: 0.9781 - loss: 0.0736 - val_accuracy: 0.9757 - val_loss: 0.0798\n",
            "Epoch 5/10\n",
            "\u001b[1m938/938\u001b[0m \u001b[32m━━━━━━━━━━━━━━━━━━━━\u001b[0m\u001b[37m\u001b[0m \u001b[1m2s\u001b[0m 2ms/step - accuracy: 0.9849 - loss: 0.0557 - val_accuracy: 0.9758 - val_loss: 0.0808\n",
            "Epoch 6/10\n",
            "\u001b[1m938/938\u001b[0m \u001b[32m━━━━━━━━━━━━━━━━━━━━\u001b[0m\u001b[37m\u001b[0m \u001b[1m2s\u001b[0m 2ms/step - accuracy: 0.9855 - loss: 0.0485 - val_accuracy: 0.9746 - val_loss: 0.0797\n",
            "Epoch 7/10\n",
            "\u001b[1m938/938\u001b[0m \u001b[32m━━━━━━━━━━━━━━━━━━━━\u001b[0m\u001b[37m\u001b[0m \u001b[1m2s\u001b[0m 2ms/step - accuracy: 0.9891 - loss: 0.0366 - val_accuracy: 0.9762 - val_loss: 0.0772\n",
            "Epoch 8/10\n",
            "\u001b[1m938/938\u001b[0m \u001b[32m━━━━━━━━━━━━━━━━━━━━\u001b[0m\u001b[37m\u001b[0m \u001b[1m2s\u001b[0m 2ms/step - accuracy: 0.9914 - loss: 0.0296 - val_accuracy: 0.9790 - val_loss: 0.0697\n",
            "Epoch 9/10\n",
            "\u001b[1m938/938\u001b[0m \u001b[32m━━━━━━━━━━━━━━━━━━━━\u001b[0m\u001b[37m\u001b[0m \u001b[1m2s\u001b[0m 2ms/step - accuracy: 0.9939 - loss: 0.0221 - val_accuracy: 0.9762 - val_loss: 0.0754\n",
            "Epoch 10/10\n",
            "\u001b[1m938/938\u001b[0m \u001b[32m━━━━━━━━━━━━━━━━━━━━\u001b[0m\u001b[37m\u001b[0m \u001b[1m2s\u001b[0m 2ms/step - accuracy: 0.9940 - loss: 0.0210 - val_accuracy: 0.9790 - val_loss: 0.0742\n"
          ]
        }
      ],
      "source": [
        "model = tf.keras.Sequential([\n",
        "    tf.keras.layers.Flatten(),  #Transforma a entrada (28x28) em vetor (784)\n",
        "    tf.keras.layers.Dense(128, activation='relu'),   #Camada escondida\n",
        "    tf.keras.layers.Dense(10, activation='softmax')  #Camada de saída\n",
        "])\n",
        "\n",
        "model.compile(\n",
        "    optimizer=tf.keras.optimizers.Adam(),   #Otimizador Adam\n",
        "    loss=tf.keras.losses.SparseCategoricalCrossentropy(),  #Entropia cruzada\n",
        "    metrics=['accuracy']\n",
        ")\n",
        "\n",
        "model.fit(\n",
        "    train_dataloader,               # Dados de treinamento\n",
        "    epochs=10,                      # Número de épocas\n",
        "    validation_data=val_dataloader  # Dados de validação\n",
        ")\n",
        "\n",
        "# Salvar o modelo treinado\n",
        "model_2d = model\n",
        "\n",
        "#Identificação do modelo\n",
        "model_name = \"2d - função de ativação relu, otimizador Adam\""
      ]
    },
    {
      "cell_type": "markdown",
      "id": "ce508c2e-5bef-48df-8503-78bb33ebdddc",
      "metadata": {
        "id": "ce508c2e-5bef-48df-8503-78bb33ebdddc"
      },
      "source": [
        "### 2e. Redes maiores"
      ]
    },
    {
      "cell_type": "markdown",
      "id": "acd19fbe-30d6-41b6-b700-65928fe3307a",
      "metadata": {
        "id": "acd19fbe-30d6-41b6-b700-65928fe3307a"
      },
      "source": [
        "#### Camada escondida com 256 neurônios"
      ]
    },
    {
      "cell_type": "code",
      "execution_count": 11,
      "id": "183b2e5a-4dc7-4fda-a41c-060b532b719b",
      "metadata": {
        "id": "183b2e5a-4dc7-4fda-a41c-060b532b719b",
        "outputId": "307277d6-f68b-4a6f-ac16-6549f4c04fe1",
        "colab": {
          "base_uri": "https://localhost:8080/"
        }
      },
      "outputs": [
        {
          "output_type": "stream",
          "name": "stdout",
          "text": [
            "Epoch 1/10\n",
            "\u001b[1m938/938\u001b[0m \u001b[32m━━━━━━━━━━━━━━━━━━━━\u001b[0m\u001b[37m\u001b[0m \u001b[1m5s\u001b[0m 3ms/step - accuracy: 0.8725 - loss: 0.4435 - val_accuracy: 0.9581 - val_loss: 0.1420\n",
            "Epoch 2/10\n",
            "\u001b[1m938/938\u001b[0m \u001b[32m━━━━━━━━━━━━━━━━━━━━\u001b[0m\u001b[37m\u001b[0m \u001b[1m2s\u001b[0m 2ms/step - accuracy: 0.9662 - loss: 0.1162 - val_accuracy: 0.9712 - val_loss: 0.0929\n",
            "Epoch 3/10\n",
            "\u001b[1m938/938\u001b[0m \u001b[32m━━━━━━━━━━━━━━━━━━━━\u001b[0m\u001b[37m\u001b[0m \u001b[1m2s\u001b[0m 2ms/step - accuracy: 0.9768 - loss: 0.0747 - val_accuracy: 0.9745 - val_loss: 0.0818\n",
            "Epoch 4/10\n",
            "\u001b[1m938/938\u001b[0m \u001b[32m━━━━━━━━━━━━━━━━━━━━\u001b[0m\u001b[37m\u001b[0m \u001b[1m2s\u001b[0m 2ms/step - accuracy: 0.9836 - loss: 0.0547 - val_accuracy: 0.9746 - val_loss: 0.0753\n",
            "Epoch 5/10\n",
            "\u001b[1m938/938\u001b[0m \u001b[32m━━━━━━━━━━━━━━━━━━━━\u001b[0m\u001b[37m\u001b[0m \u001b[1m2s\u001b[0m 2ms/step - accuracy: 0.9883 - loss: 0.0383 - val_accuracy: 0.9786 - val_loss: 0.0727\n",
            "Epoch 6/10\n",
            "\u001b[1m938/938\u001b[0m \u001b[32m━━━━━━━━━━━━━━━━━━━━\u001b[0m\u001b[37m\u001b[0m \u001b[1m2s\u001b[0m 2ms/step - accuracy: 0.9907 - loss: 0.0310 - val_accuracy: 0.9777 - val_loss: 0.0713\n",
            "Epoch 7/10\n",
            "\u001b[1m938/938\u001b[0m \u001b[32m━━━━━━━━━━━━━━━━━━━━\u001b[0m\u001b[37m\u001b[0m \u001b[1m2s\u001b[0m 2ms/step - accuracy: 0.9935 - loss: 0.0226 - val_accuracy: 0.9787 - val_loss: 0.0703\n",
            "Epoch 8/10\n",
            "\u001b[1m938/938\u001b[0m \u001b[32m━━━━━━━━━━━━━━━━━━━━\u001b[0m\u001b[37m\u001b[0m \u001b[1m2s\u001b[0m 2ms/step - accuracy: 0.9958 - loss: 0.0159 - val_accuracy: 0.9784 - val_loss: 0.0767\n",
            "Epoch 9/10\n",
            "\u001b[1m938/938\u001b[0m \u001b[32m━━━━━━━━━━━━━━━━━━━━\u001b[0m\u001b[37m\u001b[0m \u001b[1m3s\u001b[0m 2ms/step - accuracy: 0.9960 - loss: 0.0141 - val_accuracy: 0.9785 - val_loss: 0.0704\n",
            "Epoch 10/10\n",
            "\u001b[1m938/938\u001b[0m \u001b[32m━━━━━━━━━━━━━━━━━━━━\u001b[0m\u001b[37m\u001b[0m \u001b[1m3s\u001b[0m 2ms/step - accuracy: 0.9967 - loss: 0.0109 - val_accuracy: 0.9801 - val_loss: 0.0696\n"
          ]
        }
      ],
      "source": [
        "model = tf.keras.Sequential([\n",
        "    tf.keras.layers.Flatten(),  #Transforma a entrada (28x28) em vetor (784)\n",
        "    tf.keras.layers.Dense(256, activation='relu'),   #Camada escondida\n",
        "    tf.keras.layers.Dense(10, activation='softmax')  #Camada de saída\n",
        "])\n",
        "\n",
        "model.compile(\n",
        "    optimizer=tf.keras.optimizers.Adam(),   #Otimizador Adam\n",
        "    loss=tf.keras.losses.SparseCategoricalCrossentropy(),  #Entropia cruzada\n",
        "    metrics=['accuracy']\n",
        ")\n",
        "\n",
        "model.fit(\n",
        "    train_dataloader,               # Dados de treinamento\n",
        "    epochs=10,                      # Número de épocas\n",
        "    validation_data=val_dataloader  # Dados de validação\n",
        ")\n",
        "\n",
        "# Salvar o modelo treinado\n",
        "model_2e1 = model\n",
        "\n",
        "#Identificação do modelo\n",
        "model_name = \"2e.1 - 1 camada escondida de 256 neurônios\""
      ]
    },
    {
      "cell_type": "markdown",
      "id": "e09b2c15-7557-4258-916c-47935b06c032",
      "metadata": {
        "id": "e09b2c15-7557-4258-916c-47935b06c032"
      },
      "source": [
        "#### 2 camadas escondidas com 256 neurônios cada"
      ]
    },
    {
      "cell_type": "code",
      "execution_count": 12,
      "id": "bbdb91fd-c7bf-46eb-9b13-ae9fb60a388e",
      "metadata": {
        "id": "bbdb91fd-c7bf-46eb-9b13-ae9fb60a388e",
        "outputId": "fbc854b3-1128-49fa-abfc-de25cdb3293a",
        "colab": {
          "base_uri": "https://localhost:8080/"
        }
      },
      "outputs": [
        {
          "output_type": "stream",
          "name": "stdout",
          "text": [
            "Epoch 1/10\n",
            "\u001b[1m938/938\u001b[0m \u001b[32m━━━━━━━━━━━━━━━━━━━━\u001b[0m\u001b[37m\u001b[0m \u001b[1m6s\u001b[0m 4ms/step - accuracy: 0.8865 - loss: 0.4007 - val_accuracy: 0.9662 - val_loss: 0.1139\n",
            "Epoch 2/10\n",
            "\u001b[1m938/938\u001b[0m \u001b[32m━━━━━━━━━━━━━━━━━━━━\u001b[0m\u001b[37m\u001b[0m \u001b[1m2s\u001b[0m 2ms/step - accuracy: 0.9708 - loss: 0.0925 - val_accuracy: 0.9728 - val_loss: 0.0926\n",
            "Epoch 3/10\n",
            "\u001b[1m938/938\u001b[0m \u001b[32m━━━━━━━━━━━━━━━━━━━━\u001b[0m\u001b[37m\u001b[0m \u001b[1m3s\u001b[0m 2ms/step - accuracy: 0.9813 - loss: 0.0592 - val_accuracy: 0.9749 - val_loss: 0.0798\n",
            "Epoch 4/10\n",
            "\u001b[1m938/938\u001b[0m \u001b[32m━━━━━━━━━━━━━━━━━━━━\u001b[0m\u001b[37m\u001b[0m \u001b[1m2s\u001b[0m 2ms/step - accuracy: 0.9863 - loss: 0.0424 - val_accuracy: 0.9771 - val_loss: 0.0732\n",
            "Epoch 5/10\n",
            "\u001b[1m938/938\u001b[0m \u001b[32m━━━━━━━━━━━━━━━━━━━━\u001b[0m\u001b[37m\u001b[0m \u001b[1m2s\u001b[0m 2ms/step - accuracy: 0.9895 - loss: 0.0329 - val_accuracy: 0.9789 - val_loss: 0.0776\n",
            "Epoch 6/10\n",
            "\u001b[1m938/938\u001b[0m \u001b[32m━━━━━━━━━━━━━━━━━━━━\u001b[0m\u001b[37m\u001b[0m \u001b[1m3s\u001b[0m 2ms/step - accuracy: 0.9921 - loss: 0.0242 - val_accuracy: 0.9792 - val_loss: 0.0718\n",
            "Epoch 7/10\n",
            "\u001b[1m938/938\u001b[0m \u001b[32m━━━━━━━━━━━━━━━━━━━━\u001b[0m\u001b[37m\u001b[0m \u001b[1m2s\u001b[0m 2ms/step - accuracy: 0.9931 - loss: 0.0208 - val_accuracy: 0.9783 - val_loss: 0.0765\n",
            "Epoch 8/10\n",
            "\u001b[1m938/938\u001b[0m \u001b[32m━━━━━━━━━━━━━━━━━━━━\u001b[0m\u001b[37m\u001b[0m \u001b[1m3s\u001b[0m 2ms/step - accuracy: 0.9935 - loss: 0.0187 - val_accuracy: 0.9803 - val_loss: 0.0814\n",
            "Epoch 9/10\n",
            "\u001b[1m938/938\u001b[0m \u001b[32m━━━━━━━━━━━━━━━━━━━━\u001b[0m\u001b[37m\u001b[0m \u001b[1m2s\u001b[0m 2ms/step - accuracy: 0.9952 - loss: 0.0144 - val_accuracy: 0.9820 - val_loss: 0.0702\n",
            "Epoch 10/10\n",
            "\u001b[1m938/938\u001b[0m \u001b[32m━━━━━━━━━━━━━━━━━━━━\u001b[0m\u001b[37m\u001b[0m \u001b[1m2s\u001b[0m 2ms/step - accuracy: 0.9949 - loss: 0.0143 - val_accuracy: 0.9816 - val_loss: 0.0785\n"
          ]
        }
      ],
      "source": [
        "model = tf.keras.Sequential([\n",
        "    tf.keras.layers.Flatten(),  #Transforma a entrada (28x28) em vetor (784)\n",
        "    tf.keras.layers.Dense(256, activation='relu'),   #Camada escondida 1\n",
        "    tf.keras.layers.Dense(256, activation='relu'),   #Camada escondida 2\n",
        "    tf.keras.layers.Dense(10, activation='softmax')  #Camada de saída\n",
        "])\n",
        "\n",
        "model.compile(\n",
        "    optimizer=tf.keras.optimizers.Adam(),   #Otimizador Adam\n",
        "    loss=tf.keras.losses.SparseCategoricalCrossentropy(),  #Entropia cruzada\n",
        "    metrics=['accuracy']\n",
        ")\n",
        "\n",
        "model.fit(\n",
        "    train_dataloader,               # Dados de treinamento\n",
        "    epochs=10,                      # Número de épocas\n",
        "    validation_data=val_dataloader  # Dados de validação\n",
        ")\n",
        "\n",
        "# Salvar o modelo treinado\n",
        "model_2e2 = model\n",
        "\n",
        "#Identificação do modelo\n",
        "model_name = \"2e.2 - 2 camadas escondidas de 256 neurônios\""
      ]
    },
    {
      "cell_type": "markdown",
      "id": "1009c010-bf38-4464-8b54-527244c51dc9",
      "metadata": {
        "id": "1009c010-bf38-4464-8b54-527244c51dc9"
      },
      "source": [
        "## 3. Visualização\n",
        "Nesta seção, vamos observar alguns exemplos mal classificados"
      ]
    },
    {
      "cell_type": "code",
      "execution_count": 13,
      "id": "30ae66e8-e79b-4869-a756-5a45e951e008",
      "metadata": {
        "id": "30ae66e8-e79b-4869-a756-5a45e951e008"
      },
      "outputs": [],
      "source": [
        "# Predição no conjunto de validação e identificação de erros\n",
        "def get_errors(data_loader, model):\n",
        "    erros = []  # Lista para armazenar os exemplos mal classificados\n",
        "    for X, y in data_loader:  # Iterar sobre o dataloader de validação\n",
        "        preds = tf.argmax(model(X), axis=1)  # Previsões (classe com maior probabilidade)\n",
        "        y = tf.cast(y, dtype=tf.int64)  # Converte rótulos para int64\n",
        "        erros_batch = tf.where(preds != y)  # Identifica índices dos erros\n",
        "        for idx in erros_batch.numpy():\n",
        "            idx = idx.item()  # Extrai o valor escalar do tensor\n",
        "            erros.append((X[idx].numpy(), y[idx].numpy(), preds[idx].numpy()))  # Armazena a imagem, rótulo real e predição errada\n",
        "    return erros"
      ]
    },
    {
      "cell_type": "code",
      "execution_count": 14,
      "id": "bfac29c3-8b2f-4e99-a159-f75dc0b72093",
      "metadata": {
        "id": "bfac29c3-8b2f-4e99-a159-f75dc0b72093"
      },
      "outputs": [],
      "source": [
        "def visualize_errors(erros, num_samples):\n",
        "    plt.figure(figsize=(10, 10))\n",
        "    for i in range(min(num_samples, len(erros))):\n",
        "        img, true_label, pred_label = erros[i]\n",
        "        plt.subplot(1, num_samples, i + 1)\n",
        "        plt.imshow(img.squeeze(), cmap='gray')  # Exibe a imagem\n",
        "        plt.title(f\"Real: {true_label}\\nPred: {pred_label}\")\n",
        "        plt.axis('off')\n",
        "    plt.show()"
      ]
    },
    {
      "cell_type": "code",
      "execution_count": 15,
      "id": "bb2cb0a6-a80b-4ae4-acb8-47baba4c7ff0",
      "metadata": {
        "id": "bb2cb0a6-a80b-4ae4-acb8-47baba4c7ff0",
        "outputId": "6eaed937-35b5-4528-b601-dee97694d16b",
        "colab": {
          "base_uri": "https://localhost:8080/",
          "height": 176
        }
      },
      "outputs": [
        {
          "output_type": "display_data",
          "data": {
            "text/plain": [
              "<Figure size 1000x1000 with 10 Axes>"
            ],
            "image/svg+xml": "<?xml version=\"1.0\" encoding=\"utf-8\" standalone=\"no\"?>\n<!DOCTYPE svg PUBLIC \"-//W3C//DTD SVG 1.1//EN\"\n  \"http://www.w3.org/Graphics/SVG/1.1/DTD/svg11.dtd\">\n<svg xmlns:xlink=\"http://www.w3.org/1999/xlink\" width=\"572.4pt\" height=\"90.243636pt\" viewBox=\"0 0 572.4 90.243636\" xmlns=\"http://www.w3.org/2000/svg\" version=\"1.1\">\n <metadata>\n  <rdf:RDF xmlns:dc=\"http://purl.org/dc/elements/1.1/\" xmlns:cc=\"http://creativecommons.org/ns#\" xmlns:rdf=\"http://www.w3.org/1999/02/22-rdf-syntax-ns#\">\n   <cc:Work>\n    <dc:type rdf:resource=\"http://purl.org/dc/dcmitype/StillImage\"/>\n    <dc:date>2025-01-06T17:23:37.743653</dc:date>\n    <dc:format>image/svg+xml</dc:format>\n    <dc:creator>\n     <cc:Agent>\n      <dc:title>Matplotlib v3.8.0, https://matplotlib.org/</dc:title>\n     </cc:Agent>\n    </dc:creator>\n   </cc:Work>\n  </rdf:RDF>\n </metadata>\n <defs>\n  <style type=\"text/css\">*{stroke-linejoin: round; stroke-linecap: butt}</style>\n </defs>\n <g id=\"figure_1\">\n  <g id=\"patch_1\">\n   <path d=\"M 0 90.243636 \nL 572.4 90.243636 \nL 572.4 0 \nL 0 0 \nz\n\" style=\"fill: #ffffff\"/>\n  </g>\n  <g id=\"axes_1\">\n   <g clip-path=\"url(#p813671bea0)\">\n    <image xlink:href=\"data:image/png;base64,\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\" id=\"image7cfcba423e\" transform=\"scale(1 -1) translate(0 -47.52)\" x=\"7.2\" y=\"-35.523636\" width=\"47.52\" height=\"47.52\"/>\n   </g>\n   <g id=\"text_1\">\n    <!-- Real: 4 -->\n    <g transform=\"translate(10.163755 16.318125) scale(0.12 -0.12)\">\n     <defs>\n      <path id=\"DejaVuSans-52\" d=\"M 2841 2188 \nQ 3044 2119 3236 1894 \nQ 3428 1669 3622 1275 \nL 4263 0 \nL 3584 0 \nL 2988 1197 \nQ 2756 1666 2539 1819 \nQ 2322 1972 1947 1972 \nL 1259 1972 \nL 1259 0 \nL 628 0 \nL 628 4666 \nL 2053 4666 \nQ 2853 4666 3247 4331 \nQ 3641 3997 3641 3322 \nQ 3641 2881 3436 2590 \nQ 3231 2300 2841 2188 \nz\nM 1259 4147 \nL 1259 2491 \nL 2053 2491 \nQ 2509 2491 2742 2702 \nQ 2975 2913 2975 3322 \nQ 2975 3731 2742 3939 \nQ 2509 4147 2053 4147 \nL 1259 4147 \nz\n\" transform=\"scale(0.015625)\"/>\n      <path id=\"DejaVuSans-65\" d=\"M 3597 1894 \nL 3597 1613 \nL 953 1613 \nQ 991 1019 1311 708 \nQ 1631 397 2203 397 \nQ 2534 397 2845 478 \nQ 3156 559 3463 722 \nL 3463 178 \nQ 3153 47 2828 -22 \nQ 2503 -91 2169 -91 \nQ 1331 -91 842 396 \nQ 353 884 353 1716 \nQ 353 2575 817 3079 \nQ 1281 3584 2069 3584 \nQ 2775 3584 3186 3129 \nQ 3597 2675 3597 1894 \nz\nM 3022 2063 \nQ 3016 2534 2758 2815 \nQ 2500 3097 2075 3097 \nQ 1594 3097 1305 2825 \nQ 1016 2553 972 2059 \nL 3022 2063 \nz\n\" transform=\"scale(0.015625)\"/>\n      <path id=\"DejaVuSans-61\" d=\"M 2194 1759 \nQ 1497 1759 1228 1600 \nQ 959 1441 959 1056 \nQ 959 750 1161 570 \nQ 1363 391 1709 391 \nQ 2188 391 2477 730 \nQ 2766 1069 2766 1631 \nL 2766 1759 \nL 2194 1759 \nz\nM 3341 1997 \nL 3341 0 \nL 2766 0 \nL 2766 531 \nQ 2569 213 2275 61 \nQ 1981 -91 1556 -91 \nQ 1019 -91 701 211 \nQ 384 513 384 1019 \nQ 384 1609 779 1909 \nQ 1175 2209 1959 2209 \nL 2766 2209 \nL 2766 2266 \nQ 2766 2663 2505 2880 \nQ 2244 3097 1772 3097 \nQ 1472 3097 1187 3025 \nQ 903 2953 641 2809 \nL 641 3341 \nQ 956 3463 1253 3523 \nQ 1550 3584 1831 3584 \nQ 2591 3584 2966 3190 \nQ 3341 2797 3341 1997 \nz\n\" transform=\"scale(0.015625)\"/>\n      <path id=\"DejaVuSans-6c\" d=\"M 603 4863 \nL 1178 4863 \nL 1178 0 \nL 603 0 \nL 603 4863 \nz\n\" transform=\"scale(0.015625)\"/>\n      <path id=\"DejaVuSans-3a\" d=\"M 750 794 \nL 1409 794 \nL 1409 0 \nL 750 0 \nL 750 794 \nz\nM 750 3309 \nL 1409 3309 \nL 1409 2516 \nL 750 2516 \nL 750 3309 \nz\n\" transform=\"scale(0.015625)\"/>\n      <path id=\"DejaVuSans-20\" transform=\"scale(0.015625)\"/>\n      <path id=\"DejaVuSans-34\" d=\"M 2419 4116 \nL 825 1625 \nL 2419 1625 \nL 2419 4116 \nz\nM 2253 4666 \nL 3047 4666 \nL 3047 1625 \nL 3713 1625 \nL 3713 1100 \nL 3047 1100 \nL 3047 0 \nL 2419 0 \nL 2419 1100 \nL 313 1100 \nL 313 1709 \nL 2253 4666 \nz\n\" transform=\"scale(0.015625)\"/>\n     </defs>\n     <use xlink:href=\"#DejaVuSans-52\"/>\n     <use xlink:href=\"#DejaVuSans-65\" x=\"64.982422\"/>\n     <use xlink:href=\"#DejaVuSans-61\" x=\"126.505859\"/>\n     <use xlink:href=\"#DejaVuSans-6c\" x=\"187.785156\"/>\n     <use xlink:href=\"#DejaVuSans-3a\" x=\"215.568359\"/>\n     <use xlink:href=\"#DejaVuSans-20\" x=\"249.259766\"/>\n     <use xlink:href=\"#DejaVuSans-34\" x=\"281.046875\"/>\n    </g>\n    <!-- Pred: 9 -->\n    <g transform=\"translate(9.75313 29.7555) scale(0.12 -0.12)\">\n     <defs>\n      <path id=\"DejaVuSans-50\" d=\"M 1259 4147 \nL 1259 2394 \nL 2053 2394 \nQ 2494 2394 2734 2622 \nQ 2975 2850 2975 3272 \nQ 2975 3691 2734 3919 \nQ 2494 4147 2053 4147 \nL 1259 4147 \nz\nM 628 4666 \nL 2053 4666 \nQ 2838 4666 3239 4311 \nQ 3641 3956 3641 3272 \nQ 3641 2581 3239 2228 \nQ 2838 1875 2053 1875 \nL 1259 1875 \nL 1259 0 \nL 628 0 \nL 628 4666 \nz\n\" transform=\"scale(0.015625)\"/>\n      <path id=\"DejaVuSans-72\" d=\"M 2631 2963 \nQ 2534 3019 2420 3045 \nQ 2306 3072 2169 3072 \nQ 1681 3072 1420 2755 \nQ 1159 2438 1159 1844 \nL 1159 0 \nL 581 0 \nL 581 3500 \nL 1159 3500 \nL 1159 2956 \nQ 1341 3275 1631 3429 \nQ 1922 3584 2338 3584 \nQ 2397 3584 2469 3576 \nQ 2541 3569 2628 3553 \nL 2631 2963 \nz\n\" transform=\"scale(0.015625)\"/>\n      <path id=\"DejaVuSans-64\" d=\"M 2906 2969 \nL 2906 4863 \nL 3481 4863 \nL 3481 0 \nL 2906 0 \nL 2906 525 \nQ 2725 213 2448 61 \nQ 2172 -91 1784 -91 \nQ 1150 -91 751 415 \nQ 353 922 353 1747 \nQ 353 2572 751 3078 \nQ 1150 3584 1784 3584 \nQ 2172 3584 2448 3432 \nQ 2725 3281 2906 2969 \nz\nM 947 1747 \nQ 947 1113 1208 752 \nQ 1469 391 1925 391 \nQ 2381 391 2643 752 \nQ 2906 1113 2906 1747 \nQ 2906 2381 2643 2742 \nQ 2381 3103 1925 3103 \nQ 1469 3103 1208 2742 \nQ 947 2381 947 1747 \nz\n\" transform=\"scale(0.015625)\"/>\n      <path id=\"DejaVuSans-39\" d=\"M 703 97 \nL 703 672 \nQ 941 559 1184 500 \nQ 1428 441 1663 441 \nQ 2288 441 2617 861 \nQ 2947 1281 2994 2138 \nQ 2813 1869 2534 1725 \nQ 2256 1581 1919 1581 \nQ 1219 1581 811 2004 \nQ 403 2428 403 3163 \nQ 403 3881 828 4315 \nQ 1253 4750 1959 4750 \nQ 2769 4750 3195 4129 \nQ 3622 3509 3622 2328 \nQ 3622 1225 3098 567 \nQ 2575 -91 1691 -91 \nQ 1453 -91 1209 -44 \nQ 966 3 703 97 \nz\nM 1959 2075 \nQ 2384 2075 2632 2365 \nQ 2881 2656 2881 3163 \nQ 2881 3666 2632 3958 \nQ 2384 4250 1959 4250 \nQ 1534 4250 1286 3958 \nQ 1038 3666 1038 3163 \nQ 1038 2656 1286 2365 \nQ 1534 2075 1959 2075 \nz\n\" transform=\"scale(0.015625)\"/>\n     </defs>\n     <use xlink:href=\"#DejaVuSans-50\"/>\n     <use xlink:href=\"#DejaVuSans-72\" x=\"58.552734\"/>\n     <use xlink:href=\"#DejaVuSans-65\" x=\"97.416016\"/>\n     <use xlink:href=\"#DejaVuSans-64\" x=\"158.939453\"/>\n     <use xlink:href=\"#DejaVuSans-3a\" x=\"222.416016\"/>\n     <use xlink:href=\"#DejaVuSans-20\" x=\"256.107422\"/>\n     <use xlink:href=\"#DejaVuSans-39\" x=\"287.894531\"/>\n    </g>\n   </g>\n  </g>\n  <g id=\"axes_2\">\n   <g clip-path=\"url(#pd2aa11330d)\">\n    <image xlink:href=\"data:image/png;base64,\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\" id=\"imagebf3ede750e\" transform=\"scale(1 -1) translate(0 -47.52)\" x=\"63.945763\" y=\"-35.523636\" width=\"47.52\" height=\"47.52\"/>\n   </g>\n   <g id=\"text_2\">\n    <!-- Real: 2 -->\n    <g transform=\"translate(66.909518 16.318125) scale(0.12 -0.12)\">\n     <defs>\n      <path id=\"DejaVuSans-32\" d=\"M 1228 531 \nL 3431 531 \nL 3431 0 \nL 469 0 \nL 469 531 \nQ 828 903 1448 1529 \nQ 2069 2156 2228 2338 \nQ 2531 2678 2651 2914 \nQ 2772 3150 2772 3378 \nQ 2772 3750 2511 3984 \nQ 2250 4219 1831 4219 \nQ 1534 4219 1204 4116 \nQ 875 4013 500 3803 \nL 500 4441 \nQ 881 4594 1212 4672 \nQ 1544 4750 1819 4750 \nQ 2544 4750 2975 4387 \nQ 3406 4025 3406 3419 \nQ 3406 3131 3298 2873 \nQ 3191 2616 2906 2266 \nQ 2828 2175 2409 1742 \nQ 1991 1309 1228 531 \nz\n\" transform=\"scale(0.015625)\"/>\n     </defs>\n     <use xlink:href=\"#DejaVuSans-52\"/>\n     <use xlink:href=\"#DejaVuSans-65\" x=\"64.982422\"/>\n     <use xlink:href=\"#DejaVuSans-61\" x=\"126.505859\"/>\n     <use xlink:href=\"#DejaVuSans-6c\" x=\"187.785156\"/>\n     <use xlink:href=\"#DejaVuSans-3a\" x=\"215.568359\"/>\n     <use xlink:href=\"#DejaVuSans-20\" x=\"249.259766\"/>\n     <use xlink:href=\"#DejaVuSans-32\" x=\"281.046875\"/>\n    </g>\n    <!-- Pred: 9 -->\n    <g transform=\"translate(66.498893 29.7555) scale(0.12 -0.12)\">\n     <use xlink:href=\"#DejaVuSans-50\"/>\n     <use xlink:href=\"#DejaVuSans-72\" x=\"58.552734\"/>\n     <use xlink:href=\"#DejaVuSans-65\" x=\"97.416016\"/>\n     <use xlink:href=\"#DejaVuSans-64\" x=\"158.939453\"/>\n     <use xlink:href=\"#DejaVuSans-3a\" x=\"222.416016\"/>\n     <use xlink:href=\"#DejaVuSans-20\" x=\"256.107422\"/>\n     <use xlink:href=\"#DejaVuSans-39\" x=\"287.894531\"/>\n    </g>\n   </g>\n  </g>\n  <g id=\"axes_3\">\n   <g clip-path=\"url(#p1303cc2d42)\">\n    <image xlink:href=\"data:image/png;base64,\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\" id=\"image840c30b226\" transform=\"scale(1 -1) translate(0 -47.52)\" x=\"120.691525\" y=\"-35.523636\" width=\"47.52\" height=\"47.52\"/>\n   </g>\n   <g id=\"text_3\">\n    <!-- Real: 9 -->\n    <g transform=\"translate(123.655281 16.318125) scale(0.12 -0.12)\">\n     <use xlink:href=\"#DejaVuSans-52\"/>\n     <use xlink:href=\"#DejaVuSans-65\" x=\"64.982422\"/>\n     <use xlink:href=\"#DejaVuSans-61\" x=\"126.505859\"/>\n     <use xlink:href=\"#DejaVuSans-6c\" x=\"187.785156\"/>\n     <use xlink:href=\"#DejaVuSans-3a\" x=\"215.568359\"/>\n     <use xlink:href=\"#DejaVuSans-20\" x=\"249.259766\"/>\n     <use xlink:href=\"#DejaVuSans-39\" x=\"281.046875\"/>\n    </g>\n    <!-- Pred: 8 -->\n    <g transform=\"translate(123.244656 29.7555) scale(0.12 -0.12)\">\n     <defs>\n      <path id=\"DejaVuSans-38\" d=\"M 2034 2216 \nQ 1584 2216 1326 1975 \nQ 1069 1734 1069 1313 \nQ 1069 891 1326 650 \nQ 1584 409 2034 409 \nQ 2484 409 2743 651 \nQ 3003 894 3003 1313 \nQ 3003 1734 2745 1975 \nQ 2488 2216 2034 2216 \nz\nM 1403 2484 \nQ 997 2584 770 2862 \nQ 544 3141 544 3541 \nQ 544 4100 942 4425 \nQ 1341 4750 2034 4750 \nQ 2731 4750 3128 4425 \nQ 3525 4100 3525 3541 \nQ 3525 3141 3298 2862 \nQ 3072 2584 2669 2484 \nQ 3125 2378 3379 2068 \nQ 3634 1759 3634 1313 \nQ 3634 634 3220 271 \nQ 2806 -91 2034 -91 \nQ 1263 -91 848 271 \nQ 434 634 434 1313 \nQ 434 1759 690 2068 \nQ 947 2378 1403 2484 \nz\nM 1172 3481 \nQ 1172 3119 1398 2916 \nQ 1625 2713 2034 2713 \nQ 2441 2713 2670 2916 \nQ 2900 3119 2900 3481 \nQ 2900 3844 2670 4047 \nQ 2441 4250 2034 4250 \nQ 1625 4250 1398 4047 \nQ 1172 3844 1172 3481 \nz\n\" transform=\"scale(0.015625)\"/>\n     </defs>\n     <use xlink:href=\"#DejaVuSans-50\"/>\n     <use xlink:href=\"#DejaVuSans-72\" x=\"58.552734\"/>\n     <use xlink:href=\"#DejaVuSans-65\" x=\"97.416016\"/>\n     <use xlink:href=\"#DejaVuSans-64\" x=\"158.939453\"/>\n     <use xlink:href=\"#DejaVuSans-3a\" x=\"222.416016\"/>\n     <use xlink:href=\"#DejaVuSans-20\" x=\"256.107422\"/>\n     <use xlink:href=\"#DejaVuSans-38\" x=\"287.894531\"/>\n    </g>\n   </g>\n  </g>\n  <g id=\"axes_4\">\n   <g clip-path=\"url(#p788320c2e1)\">\n    <image xlink:href=\"data:image/png;base64,\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\" id=\"imagec89ff7bddb\" transform=\"scale(1 -1) translate(0 -47.52)\" x=\"177.437288\" y=\"-35.523636\" width=\"47.52\" height=\"47.52\"/>\n   </g>\n   <g id=\"text_4\">\n    <!-- Real: 9 -->\n    <g transform=\"translate(180.401043 16.318125) scale(0.12 -0.12)\">\n     <use xlink:href=\"#DejaVuSans-52\"/>\n     <use xlink:href=\"#DejaVuSans-65\" x=\"64.982422\"/>\n     <use xlink:href=\"#DejaVuSans-61\" x=\"126.505859\"/>\n     <use xlink:href=\"#DejaVuSans-6c\" x=\"187.785156\"/>\n     <use xlink:href=\"#DejaVuSans-3a\" x=\"215.568359\"/>\n     <use xlink:href=\"#DejaVuSans-20\" x=\"249.259766\"/>\n     <use xlink:href=\"#DejaVuSans-39\" x=\"281.046875\"/>\n    </g>\n    <!-- Pred: 8 -->\n    <g transform=\"translate(179.990418 29.7555) scale(0.12 -0.12)\">\n     <use xlink:href=\"#DejaVuSans-50\"/>\n     <use xlink:href=\"#DejaVuSans-72\" x=\"58.552734\"/>\n     <use xlink:href=\"#DejaVuSans-65\" x=\"97.416016\"/>\n     <use xlink:href=\"#DejaVuSans-64\" x=\"158.939453\"/>\n     <use xlink:href=\"#DejaVuSans-3a\" x=\"222.416016\"/>\n     <use xlink:href=\"#DejaVuSans-20\" x=\"256.107422\"/>\n     <use xlink:href=\"#DejaVuSans-38\" x=\"287.894531\"/>\n    </g>\n   </g>\n  </g>\n  <g id=\"axes_5\">\n   <g clip-path=\"url(#p5912ab8d71)\">\n    <image xlink:href=\"data:image/png;base64,\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\" id=\"image9914aa98c7\" transform=\"scale(1 -1) translate(0 -47.52)\" x=\"234.183051\" y=\"-35.523636\" width=\"47.52\" height=\"47.52\"/>\n   </g>\n   <g id=\"text_5\">\n    <!-- Real: 4 -->\n    <g transform=\"translate(237.146806 16.318125) scale(0.12 -0.12)\">\n     <use xlink:href=\"#DejaVuSans-52\"/>\n     <use xlink:href=\"#DejaVuSans-65\" x=\"64.982422\"/>\n     <use xlink:href=\"#DejaVuSans-61\" x=\"126.505859\"/>\n     <use xlink:href=\"#DejaVuSans-6c\" x=\"187.785156\"/>\n     <use xlink:href=\"#DejaVuSans-3a\" x=\"215.568359\"/>\n     <use xlink:href=\"#DejaVuSans-20\" x=\"249.259766\"/>\n     <use xlink:href=\"#DejaVuSans-34\" x=\"281.046875\"/>\n    </g>\n    <!-- Pred: 6 -->\n    <g transform=\"translate(236.736181 29.7555) scale(0.12 -0.12)\">\n     <defs>\n      <path id=\"DejaVuSans-36\" d=\"M 2113 2584 \nQ 1688 2584 1439 2293 \nQ 1191 2003 1191 1497 \nQ 1191 994 1439 701 \nQ 1688 409 2113 409 \nQ 2538 409 2786 701 \nQ 3034 994 3034 1497 \nQ 3034 2003 2786 2293 \nQ 2538 2584 2113 2584 \nz\nM 3366 4563 \nL 3366 3988 \nQ 3128 4100 2886 4159 \nQ 2644 4219 2406 4219 \nQ 1781 4219 1451 3797 \nQ 1122 3375 1075 2522 \nQ 1259 2794 1537 2939 \nQ 1816 3084 2150 3084 \nQ 2853 3084 3261 2657 \nQ 3669 2231 3669 1497 \nQ 3669 778 3244 343 \nQ 2819 -91 2113 -91 \nQ 1303 -91 875 529 \nQ 447 1150 447 2328 \nQ 447 3434 972 4092 \nQ 1497 4750 2381 4750 \nQ 2619 4750 2861 4703 \nQ 3103 4656 3366 4563 \nz\n\" transform=\"scale(0.015625)\"/>\n     </defs>\n     <use xlink:href=\"#DejaVuSans-50\"/>\n     <use xlink:href=\"#DejaVuSans-72\" x=\"58.552734\"/>\n     <use xlink:href=\"#DejaVuSans-65\" x=\"97.416016\"/>\n     <use xlink:href=\"#DejaVuSans-64\" x=\"158.939453\"/>\n     <use xlink:href=\"#DejaVuSans-3a\" x=\"222.416016\"/>\n     <use xlink:href=\"#DejaVuSans-20\" x=\"256.107422\"/>\n     <use xlink:href=\"#DejaVuSans-36\" x=\"287.894531\"/>\n    </g>\n   </g>\n  </g>\n  <g id=\"axes_6\">\n   <g clip-path=\"url(#pf9ab63bbf4)\">\n    <image xlink:href=\"data:image/png;base64,\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\" id=\"image80bd6dabcd\" transform=\"scale(1 -1) translate(0 -47.52)\" x=\"290.928814\" y=\"-35.523636\" width=\"47.52\" height=\"47.52\"/>\n   </g>\n   <g id=\"text_6\">\n    <!-- Real: 9 -->\n    <g transform=\"translate(293.892569 16.318125) scale(0.12 -0.12)\">\n     <use xlink:href=\"#DejaVuSans-52\"/>\n     <use xlink:href=\"#DejaVuSans-65\" x=\"64.982422\"/>\n     <use xlink:href=\"#DejaVuSans-61\" x=\"126.505859\"/>\n     <use xlink:href=\"#DejaVuSans-6c\" x=\"187.785156\"/>\n     <use xlink:href=\"#DejaVuSans-3a\" x=\"215.568359\"/>\n     <use xlink:href=\"#DejaVuSans-20\" x=\"249.259766\"/>\n     <use xlink:href=\"#DejaVuSans-39\" x=\"281.046875\"/>\n    </g>\n    <!-- Pred: 3 -->\n    <g transform=\"translate(293.481944 29.7555) scale(0.12 -0.12)\">\n     <defs>\n      <path id=\"DejaVuSans-33\" d=\"M 2597 2516 \nQ 3050 2419 3304 2112 \nQ 3559 1806 3559 1356 \nQ 3559 666 3084 287 \nQ 2609 -91 1734 -91 \nQ 1441 -91 1130 -33 \nQ 819 25 488 141 \nL 488 750 \nQ 750 597 1062 519 \nQ 1375 441 1716 441 \nQ 2309 441 2620 675 \nQ 2931 909 2931 1356 \nQ 2931 1769 2642 2001 \nQ 2353 2234 1838 2234 \nL 1294 2234 \nL 1294 2753 \nL 1863 2753 \nQ 2328 2753 2575 2939 \nQ 2822 3125 2822 3475 \nQ 2822 3834 2567 4026 \nQ 2313 4219 1838 4219 \nQ 1578 4219 1281 4162 \nQ 984 4106 628 3988 \nL 628 4550 \nQ 988 4650 1302 4700 \nQ 1616 4750 1894 4750 \nQ 2613 4750 3031 4423 \nQ 3450 4097 3450 3541 \nQ 3450 3153 3228 2886 \nQ 3006 2619 2597 2516 \nz\n\" transform=\"scale(0.015625)\"/>\n     </defs>\n     <use xlink:href=\"#DejaVuSans-50\"/>\n     <use xlink:href=\"#DejaVuSans-72\" x=\"58.552734\"/>\n     <use xlink:href=\"#DejaVuSans-65\" x=\"97.416016\"/>\n     <use xlink:href=\"#DejaVuSans-64\" x=\"158.939453\"/>\n     <use xlink:href=\"#DejaVuSans-3a\" x=\"222.416016\"/>\n     <use xlink:href=\"#DejaVuSans-20\" x=\"256.107422\"/>\n     <use xlink:href=\"#DejaVuSans-33\" x=\"287.894531\"/>\n    </g>\n   </g>\n  </g>\n  <g id=\"axes_7\">\n   <g clip-path=\"url(#paf50694a49)\">\n    <image xlink:href=\"data:image/png;base64,\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\" id=\"imagec06b4ed028\" transform=\"scale(1 -1) translate(0 -47.52)\" x=\"347.674576\" y=\"-35.523636\" width=\"47.52\" height=\"47.52\"/>\n   </g>\n   <g id=\"text_7\">\n    <!-- Real: 2 -->\n    <g transform=\"translate(350.638332 16.318125) scale(0.12 -0.12)\">\n     <use xlink:href=\"#DejaVuSans-52\"/>\n     <use xlink:href=\"#DejaVuSans-65\" x=\"64.982422\"/>\n     <use xlink:href=\"#DejaVuSans-61\" x=\"126.505859\"/>\n     <use xlink:href=\"#DejaVuSans-6c\" x=\"187.785156\"/>\n     <use xlink:href=\"#DejaVuSans-3a\" x=\"215.568359\"/>\n     <use xlink:href=\"#DejaVuSans-20\" x=\"249.259766\"/>\n     <use xlink:href=\"#DejaVuSans-32\" x=\"281.046875\"/>\n    </g>\n    <!-- Pred: 7 -->\n    <g transform=\"translate(350.227707 29.7555) scale(0.12 -0.12)\">\n     <defs>\n      <path id=\"DejaVuSans-37\" d=\"M 525 4666 \nL 3525 4666 \nL 3525 4397 \nL 1831 0 \nL 1172 0 \nL 2766 4134 \nL 525 4134 \nL 525 4666 \nz\n\" transform=\"scale(0.015625)\"/>\n     </defs>\n     <use xlink:href=\"#DejaVuSans-50\"/>\n     <use xlink:href=\"#DejaVuSans-72\" x=\"58.552734\"/>\n     <use xlink:href=\"#DejaVuSans-65\" x=\"97.416016\"/>\n     <use xlink:href=\"#DejaVuSans-64\" x=\"158.939453\"/>\n     <use xlink:href=\"#DejaVuSans-3a\" x=\"222.416016\"/>\n     <use xlink:href=\"#DejaVuSans-20\" x=\"256.107422\"/>\n     <use xlink:href=\"#DejaVuSans-37\" x=\"287.894531\"/>\n    </g>\n   </g>\n  </g>\n  <g id=\"axes_8\">\n   <g clip-path=\"url(#pf76cd9fff8)\">\n    <image xlink:href=\"data:image/png;base64,\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\" id=\"image35150b2aa0\" transform=\"scale(1 -1) translate(0 -47.52)\" x=\"404.420339\" y=\"-35.523636\" width=\"47.52\" height=\"47.52\"/>\n   </g>\n   <g id=\"text_8\">\n    <!-- Real: 5 -->\n    <g transform=\"translate(407.384094 16.318125) scale(0.12 -0.12)\">\n     <defs>\n      <path id=\"DejaVuSans-35\" d=\"M 691 4666 \nL 3169 4666 \nL 3169 4134 \nL 1269 4134 \nL 1269 2991 \nQ 1406 3038 1543 3061 \nQ 1681 3084 1819 3084 \nQ 2600 3084 3056 2656 \nQ 3513 2228 3513 1497 \nQ 3513 744 3044 326 \nQ 2575 -91 1722 -91 \nQ 1428 -91 1123 -41 \nQ 819 9 494 109 \nL 494 744 \nQ 775 591 1075 516 \nQ 1375 441 1709 441 \nQ 2250 441 2565 725 \nQ 2881 1009 2881 1497 \nQ 2881 1984 2565 2268 \nQ 2250 2553 1709 2553 \nQ 1456 2553 1204 2497 \nQ 953 2441 691 2322 \nL 691 4666 \nz\n\" transform=\"scale(0.015625)\"/>\n     </defs>\n     <use xlink:href=\"#DejaVuSans-52\"/>\n     <use xlink:href=\"#DejaVuSans-65\" x=\"64.982422\"/>\n     <use xlink:href=\"#DejaVuSans-61\" x=\"126.505859\"/>\n     <use xlink:href=\"#DejaVuSans-6c\" x=\"187.785156\"/>\n     <use xlink:href=\"#DejaVuSans-3a\" x=\"215.568359\"/>\n     <use xlink:href=\"#DejaVuSans-20\" x=\"249.259766\"/>\n     <use xlink:href=\"#DejaVuSans-35\" x=\"281.046875\"/>\n    </g>\n    <!-- Pred: 3 -->\n    <g transform=\"translate(406.973469 29.7555) scale(0.12 -0.12)\">\n     <use xlink:href=\"#DejaVuSans-50\"/>\n     <use xlink:href=\"#DejaVuSans-72\" x=\"58.552734\"/>\n     <use xlink:href=\"#DejaVuSans-65\" x=\"97.416016\"/>\n     <use xlink:href=\"#DejaVuSans-64\" x=\"158.939453\"/>\n     <use xlink:href=\"#DejaVuSans-3a\" x=\"222.416016\"/>\n     <use xlink:href=\"#DejaVuSans-20\" x=\"256.107422\"/>\n     <use xlink:href=\"#DejaVuSans-33\" x=\"287.894531\"/>\n    </g>\n   </g>\n  </g>\n  <g id=\"axes_9\">\n   <g clip-path=\"url(#p34d565a376)\">\n    <image xlink:href=\"data:image/png;base64,\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\" id=\"image04ae8cfcc0\" transform=\"scale(1 -1) translate(0 -47.52)\" x=\"461.166102\" y=\"-35.523636\" width=\"47.52\" height=\"47.52\"/>\n   </g>\n   <g id=\"text_9\">\n    <!-- Real: 6 -->\n    <g transform=\"translate(464.129857 16.318125) scale(0.12 -0.12)\">\n     <use xlink:href=\"#DejaVuSans-52\"/>\n     <use xlink:href=\"#DejaVuSans-65\" x=\"64.982422\"/>\n     <use xlink:href=\"#DejaVuSans-61\" x=\"126.505859\"/>\n     <use xlink:href=\"#DejaVuSans-6c\" x=\"187.785156\"/>\n     <use xlink:href=\"#DejaVuSans-3a\" x=\"215.568359\"/>\n     <use xlink:href=\"#DejaVuSans-20\" x=\"249.259766\"/>\n     <use xlink:href=\"#DejaVuSans-36\" x=\"281.046875\"/>\n    </g>\n    <!-- Pred: 0 -->\n    <g transform=\"translate(463.719232 29.7555) scale(0.12 -0.12)\">\n     <defs>\n      <path id=\"DejaVuSans-30\" d=\"M 2034 4250 \nQ 1547 4250 1301 3770 \nQ 1056 3291 1056 2328 \nQ 1056 1369 1301 889 \nQ 1547 409 2034 409 \nQ 2525 409 2770 889 \nQ 3016 1369 3016 2328 \nQ 3016 3291 2770 3770 \nQ 2525 4250 2034 4250 \nz\nM 2034 4750 \nQ 2819 4750 3233 4129 \nQ 3647 3509 3647 2328 \nQ 3647 1150 3233 529 \nQ 2819 -91 2034 -91 \nQ 1250 -91 836 529 \nQ 422 1150 422 2328 \nQ 422 3509 836 4129 \nQ 1250 4750 2034 4750 \nz\n\" transform=\"scale(0.015625)\"/>\n     </defs>\n     <use xlink:href=\"#DejaVuSans-50\"/>\n     <use xlink:href=\"#DejaVuSans-72\" x=\"58.552734\"/>\n     <use xlink:href=\"#DejaVuSans-65\" x=\"97.416016\"/>\n     <use xlink:href=\"#DejaVuSans-64\" x=\"158.939453\"/>\n     <use xlink:href=\"#DejaVuSans-3a\" x=\"222.416016\"/>\n     <use xlink:href=\"#DejaVuSans-20\" x=\"256.107422\"/>\n     <use xlink:href=\"#DejaVuSans-30\" x=\"287.894531\"/>\n    </g>\n   </g>\n  </g>\n  <g id=\"axes_10\">\n   <g clip-path=\"url(#pc82c936fc2)\">\n    <image xlink:href=\"data:image/png;base64,\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\" id=\"image4eea6b4c73\" transform=\"scale(1 -1) translate(0 -47.52)\" x=\"517.911864\" y=\"-35.523636\" width=\"47.52\" height=\"47.52\"/>\n   </g>\n   <g id=\"text_10\">\n    <!-- Real: 9 -->\n    <g transform=\"translate(520.87562 16.318125) scale(0.12 -0.12)\">\n     <use xlink:href=\"#DejaVuSans-52\"/>\n     <use xlink:href=\"#DejaVuSans-65\" x=\"64.982422\"/>\n     <use xlink:href=\"#DejaVuSans-61\" x=\"126.505859\"/>\n     <use xlink:href=\"#DejaVuSans-6c\" x=\"187.785156\"/>\n     <use xlink:href=\"#DejaVuSans-3a\" x=\"215.568359\"/>\n     <use xlink:href=\"#DejaVuSans-20\" x=\"249.259766\"/>\n     <use xlink:href=\"#DejaVuSans-39\" x=\"281.046875\"/>\n    </g>\n    <!-- Pred: 8 -->\n    <g transform=\"translate(520.464995 29.7555) scale(0.12 -0.12)\">\n     <use xlink:href=\"#DejaVuSans-50\"/>\n     <use xlink:href=\"#DejaVuSans-72\" x=\"58.552734\"/>\n     <use xlink:href=\"#DejaVuSans-65\" x=\"97.416016\"/>\n     <use xlink:href=\"#DejaVuSans-64\" x=\"158.939453\"/>\n     <use xlink:href=\"#DejaVuSans-3a\" x=\"222.416016\"/>\n     <use xlink:href=\"#DejaVuSans-20\" x=\"256.107422\"/>\n     <use xlink:href=\"#DejaVuSans-38\" x=\"287.894531\"/>\n    </g>\n   </g>\n  </g>\n </g>\n <defs>\n  <clipPath id=\"p813671bea0\">\n   <rect x=\"7.2\" y=\"35.7555\" width=\"47.288136\" height=\"47.288136\"/>\n  </clipPath>\n  <clipPath id=\"pd2aa11330d\">\n   <rect x=\"63.945763\" y=\"35.7555\" width=\"47.288136\" height=\"47.288136\"/>\n  </clipPath>\n  <clipPath id=\"p1303cc2d42\">\n   <rect x=\"120.691525\" y=\"35.7555\" width=\"47.288136\" height=\"47.288136\"/>\n  </clipPath>\n  <clipPath id=\"p788320c2e1\">\n   <rect x=\"177.437288\" y=\"35.7555\" width=\"47.288136\" height=\"47.288136\"/>\n  </clipPath>\n  <clipPath id=\"p5912ab8d71\">\n   <rect x=\"234.183051\" y=\"35.7555\" width=\"47.288136\" height=\"47.288136\"/>\n  </clipPath>\n  <clipPath id=\"pf9ab63bbf4\">\n   <rect x=\"290.928814\" y=\"35.7555\" width=\"47.288136\" height=\"47.288136\"/>\n  </clipPath>\n  <clipPath id=\"paf50694a49\">\n   <rect x=\"347.674576\" y=\"35.7555\" width=\"47.288136\" height=\"47.288136\"/>\n  </clipPath>\n  <clipPath id=\"pf76cd9fff8\">\n   <rect x=\"404.420339\" y=\"35.7555\" width=\"47.288136\" height=\"47.288136\"/>\n  </clipPath>\n  <clipPath id=\"p34d565a376\">\n   <rect x=\"461.166102\" y=\"35.7555\" width=\"47.288136\" height=\"47.288136\"/>\n  </clipPath>\n  <clipPath id=\"pc82c936fc2\">\n   <rect x=\"517.911864\" y=\"35.7555\" width=\"47.288136\" height=\"47.288136\"/>\n  </clipPath>\n </defs>\n</svg>\n"
          },
          "metadata": {}
        },
        {
          "output_type": "stream",
          "name": "stdout",
          "text": [
            "Número total de erros: 199\n",
            "Modelo avaliado: 2e.1 - 1 camada escondida de 256 neurônios\n"
          ]
        }
      ],
      "source": [
        "# Obter erros no conjunto de validação do modelo especificado (neste caso o 2e1)\n",
        "erros = get_errors(val_dataloader, model_2e1)\n",
        "\n",
        "# Associar erros ao nome do modelo\n",
        "erros_modelo = {\"nome\": model_name, \"erros\": erros}\n",
        "\n",
        "# Visualizar erros (nesse caso do modelo 2e.1)\n",
        "model_name = \"2e.1 - 1 camada escondida de 256 neurônios\"\n",
        "visualize_errors(erros_modelo[\"erros\"], num_samples=10)\n",
        "\n",
        "print(f\"Número total de erros: {len(erros)}\")\n",
        "print(f\"Modelo avaliado: {model_name}\")"
      ]
    },
    {
      "cell_type": "markdown",
      "id": "4960aaad",
      "metadata": {
        "id": "4960aaad"
      },
      "source": [
        "É possível perceber que em alguns casos a identificação exata do dígito realmente se torna difícil com a diferenciação por humanos e acertada pela máquina, no caso a rede neural. Porém, há casos mais claros e fáceis de serem preditados, os quais a máquina erra."
      ]
    },
    {
      "cell_type": "markdown",
      "id": "a11c2c0e-acdd-4b05-9e2a-2657ca67c405",
      "metadata": {
        "id": "a11c2c0e-acdd-4b05-9e2a-2657ca67c405"
      },
      "source": [
        "## 4. Matriz de confusão\n",
        "Vamos observar a matriz de confusão do melhor modelo (2e.1)"
      ]
    },
    {
      "cell_type": "code",
      "execution_count": 16,
      "id": "f0981570-f3df-4d78-87fb-b290d411a423",
      "metadata": {
        "id": "f0981570-f3df-4d78-87fb-b290d411a423"
      },
      "outputs": [],
      "source": [
        "def get_predictions_and_labels(data_loader, model):\n",
        "    y_true = []  # Lista para rótulos verdadeiros\n",
        "    y_pred = []  # Lista para predições\n",
        "    for X, y in data_loader:  # Iterar sobre o dataloader\n",
        "        preds = tf.argmax(model(X), axis=1)  # Previsões (classe com maior probabilidade)\n",
        "        y_true.extend(y.numpy().tolist())  # Adicionar rótulos verdadeiros\n",
        "        y_pred.extend(preds.numpy().tolist())  # Adicionar predições\n",
        "    return y_true, y_pred"
      ]
    },
    {
      "cell_type": "code",
      "execution_count": 17,
      "id": "328ba544-7bf5-40aa-8802-b15577a39d7e",
      "metadata": {
        "id": "328ba544-7bf5-40aa-8802-b15577a39d7e"
      },
      "outputs": [],
      "source": [
        "def calculate_confusion_matrix(y_true, y_pred, num_classes):\n",
        "    # Inicializa a matriz de confusão com zeros\n",
        "    matriz = [[0 for _ in range(num_classes)] for _ in range(num_classes)]\n",
        "\n",
        "    # Popula a matriz de confusão\n",
        "    for true, pred in zip(y_true, y_pred):\n",
        "        matriz[true][pred] += 1\n",
        "\n",
        "    return matriz"
      ]
    },
    {
      "cell_type": "code",
      "execution_count": 18,
      "id": "f92e811d-d735-4708-81f9-e4ce2b9aba3a",
      "metadata": {
        "id": "f92e811d-d735-4708-81f9-e4ce2b9aba3a"
      },
      "outputs": [],
      "source": [
        "def plot_confusion_matrix(matriz, class_names):\n",
        "    plt.figure(figsize=(8, 8))\n",
        "    num_classes = len(class_names)\n",
        "    plt.imshow(matriz, interpolation='nearest', cmap='Blues')\n",
        "    plt.title(\"Matriz de Confusão\")\n",
        "    plt.colorbar()\n",
        "    plt.xticks(range(num_classes), class_names, rotation=45)\n",
        "    plt.yticks(range(num_classes), class_names)\n",
        "\n",
        "    # Exibir os valores dentro da matriz\n",
        "    for i in range(num_classes):\n",
        "        for j in range(num_classes):\n",
        "            plt.text(j, i, str(matriz[i][j]), horizontalalignment=\"center\", color=\"white\" if matriz[i][j] > max(map(max, matriz)) // 2 else \"black\")\n",
        "\n",
        "    plt.xlabel(\"Classe Predita\")\n",
        "    plt.ylabel(\"Classe Verdadeira\")\n",
        "    plt.tight_layout()\n",
        "    plt.show()"
      ]
    },
    {
      "cell_type": "code",
      "execution_count": 19,
      "id": "8b62d0b7-af92-4322-b9a4-f889768426bd",
      "metadata": {
        "id": "8b62d0b7-af92-4322-b9a4-f889768426bd",
        "outputId": "96cd5fa9-2615-46e2-d5d1-d8dd197c5dfe",
        "colab": {
          "base_uri": "https://localhost:8080/",
          "height": 779
        }
      },
      "outputs": [
        {
          "output_type": "display_data",
          "data": {
            "text/plain": [
              "<Figure size 800x800 with 2 Axes>"
            ],
            "image/svg+xml": "<?xml version=\"1.0\" encoding=\"utf-8\" standalone=\"no\"?>\n<!DOCTYPE svg PUBLIC \"-//W3C//DTD SVG 1.1//EN\"\n  \"http://www.w3.org/Graphics/SVG/1.1/DTD/svg11.dtd\">\n<svg xmlns:xlink=\"http://www.w3.org/1999/xlink\" width=\"549.195125pt\" height=\"568.558906pt\" viewBox=\"0 0 549.195125 568.558906\" xmlns=\"http://www.w3.org/2000/svg\" version=\"1.1\">\n <metadata>\n  <rdf:RDF xmlns:dc=\"http://purl.org/dc/elements/1.1/\" xmlns:cc=\"http://creativecommons.org/ns#\" xmlns:rdf=\"http://www.w3.org/1999/02/22-rdf-syntax-ns#\">\n   <cc:Work>\n    <dc:type rdf:resource=\"http://purl.org/dc/dcmitype/StillImage\"/>\n    <dc:date>2025-01-06T17:24:01.676411</dc:date>\n    <dc:format>image/svg+xml</dc:format>\n    <dc:creator>\n     <cc:Agent>\n      <dc:title>Matplotlib v3.8.0, https://matplotlib.org/</dc:title>\n     </cc:Agent>\n    </dc:creator>\n   </cc:Work>\n  </rdf:RDF>\n </metadata>\n <defs>\n  <style type=\"text/css\">*{stroke-linejoin: round; stroke-linecap: butt}</style>\n </defs>\n <g id=\"figure_1\">\n  <g id=\"patch_1\">\n   <path d=\"M 0 568.558906 \nL 549.195125 568.558906 \nL 549.195125 0 \nL 0 0 \nz\n\" style=\"fill: #ffffff\"/>\n  </g>\n  <g id=\"axes_1\">\n   <g id=\"patch_2\">\n    <path d=\"M 34.240625 492.112 \nL 455.784625 492.112 \nL 455.784625 70.568 \nL 34.240625 70.568 \nz\n\" style=\"fill: #ffffff\"/>\n   </g>\n   <g clip-path=\"url(#p9be3614981)\">\n    <image xlink:href=\"data:image/png;base64,\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\" id=\"imagecca9d09296\" transform=\"scale(1 -1) translate(0 -421.92)\" x=\"34.240625\" y=\"-70.192\" width=\"421.92\" height=\"421.92\"/>\n   </g>\n   <g id=\"matplotlib.axis_1\">\n    <g id=\"xtick_1\">\n     <g id=\"line2d_1\">\n      <defs>\n       <path id=\"mbfb4f711e3\" d=\"M 0 0 \nL 0 3.5 \n\" style=\"stroke: #000000; stroke-width: 0.8\"/>\n      </defs>\n      <g>\n       <use xlink:href=\"#mbfb4f711e3\" x=\"55.317825\" y=\"492.112\" style=\"stroke: #000000; stroke-width: 0.8\"/>\n      </g>\n     </g>\n     <g id=\"text_1\">\n      <!-- 0 -->\n      <g transform=\"translate(55.019514 508.983874) rotate(-45) scale(0.1 -0.1)\">\n       <defs>\n        <path id=\"DejaVuSans-30\" d=\"M 2034 4250 \nQ 1547 4250 1301 3770 \nQ 1056 3291 1056 2328 \nQ 1056 1369 1301 889 \nQ 1547 409 2034 409 \nQ 2525 409 2770 889 \nQ 3016 1369 3016 2328 \nQ 3016 3291 2770 3770 \nQ 2525 4250 2034 4250 \nz\nM 2034 4750 \nQ 2819 4750 3233 4129 \nQ 3647 3509 3647 2328 \nQ 3647 1150 3233 529 \nQ 2819 -91 2034 -91 \nQ 1250 -91 836 529 \nQ 422 1150 422 2328 \nQ 422 3509 836 4129 \nQ 1250 4750 2034 4750 \nz\n\" transform=\"scale(0.015625)\"/>\n       </defs>\n       <use xlink:href=\"#DejaVuSans-30\"/>\n      </g>\n     </g>\n    </g>\n    <g id=\"xtick_2\">\n     <g id=\"line2d_2\">\n      <g>\n       <use xlink:href=\"#mbfb4f711e3\" x=\"97.472225\" y=\"492.112\" style=\"stroke: #000000; stroke-width: 0.8\"/>\n      </g>\n     </g>\n     <g id=\"text_2\">\n      <!-- 1 -->\n      <g transform=\"translate(97.173914 508.983874) rotate(-45) scale(0.1 -0.1)\">\n       <defs>\n        <path id=\"DejaVuSans-31\" d=\"M 794 531 \nL 1825 531 \nL 1825 4091 \nL 703 3866 \nL 703 4441 \nL 1819 4666 \nL 2450 4666 \nL 2450 531 \nL 3481 531 \nL 3481 0 \nL 794 0 \nL 794 531 \nz\n\" transform=\"scale(0.015625)\"/>\n       </defs>\n       <use xlink:href=\"#DejaVuSans-31\"/>\n      </g>\n     </g>\n    </g>\n    <g id=\"xtick_3\">\n     <g id=\"line2d_3\">\n      <g>\n       <use xlink:href=\"#mbfb4f711e3\" x=\"139.626625\" y=\"492.112\" style=\"stroke: #000000; stroke-width: 0.8\"/>\n      </g>\n     </g>\n     <g id=\"text_3\">\n      <!-- 2 -->\n      <g transform=\"translate(139.328314 508.983874) rotate(-45) scale(0.1 -0.1)\">\n       <defs>\n        <path id=\"DejaVuSans-32\" d=\"M 1228 531 \nL 3431 531 \nL 3431 0 \nL 469 0 \nL 469 531 \nQ 828 903 1448 1529 \nQ 2069 2156 2228 2338 \nQ 2531 2678 2651 2914 \nQ 2772 3150 2772 3378 \nQ 2772 3750 2511 3984 \nQ 2250 4219 1831 4219 \nQ 1534 4219 1204 4116 \nQ 875 4013 500 3803 \nL 500 4441 \nQ 881 4594 1212 4672 \nQ 1544 4750 1819 4750 \nQ 2544 4750 2975 4387 \nQ 3406 4025 3406 3419 \nQ 3406 3131 3298 2873 \nQ 3191 2616 2906 2266 \nQ 2828 2175 2409 1742 \nQ 1991 1309 1228 531 \nz\n\" transform=\"scale(0.015625)\"/>\n       </defs>\n       <use xlink:href=\"#DejaVuSans-32\"/>\n      </g>\n     </g>\n    </g>\n    <g id=\"xtick_4\">\n     <g id=\"line2d_4\">\n      <g>\n       <use xlink:href=\"#mbfb4f711e3\" x=\"181.781025\" y=\"492.112\" style=\"stroke: #000000; stroke-width: 0.8\"/>\n      </g>\n     </g>\n     <g id=\"text_4\">\n      <!-- 3 -->\n      <g transform=\"translate(181.482714 508.983874) rotate(-45) scale(0.1 -0.1)\">\n       <defs>\n        <path id=\"DejaVuSans-33\" d=\"M 2597 2516 \nQ 3050 2419 3304 2112 \nQ 3559 1806 3559 1356 \nQ 3559 666 3084 287 \nQ 2609 -91 1734 -91 \nQ 1441 -91 1130 -33 \nQ 819 25 488 141 \nL 488 750 \nQ 750 597 1062 519 \nQ 1375 441 1716 441 \nQ 2309 441 2620 675 \nQ 2931 909 2931 1356 \nQ 2931 1769 2642 2001 \nQ 2353 2234 1838 2234 \nL 1294 2234 \nL 1294 2753 \nL 1863 2753 \nQ 2328 2753 2575 2939 \nQ 2822 3125 2822 3475 \nQ 2822 3834 2567 4026 \nQ 2313 4219 1838 4219 \nQ 1578 4219 1281 4162 \nQ 984 4106 628 3988 \nL 628 4550 \nQ 988 4650 1302 4700 \nQ 1616 4750 1894 4750 \nQ 2613 4750 3031 4423 \nQ 3450 4097 3450 3541 \nQ 3450 3153 3228 2886 \nQ 3006 2619 2597 2516 \nz\n\" transform=\"scale(0.015625)\"/>\n       </defs>\n       <use xlink:href=\"#DejaVuSans-33\"/>\n      </g>\n     </g>\n    </g>\n    <g id=\"xtick_5\">\n     <g id=\"line2d_5\">\n      <g>\n       <use xlink:href=\"#mbfb4f711e3\" x=\"223.935425\" y=\"492.112\" style=\"stroke: #000000; stroke-width: 0.8\"/>\n      </g>\n     </g>\n     <g id=\"text_5\">\n      <!-- 4 -->\n      <g transform=\"translate(223.637114 508.983874) rotate(-45) scale(0.1 -0.1)\">\n       <defs>\n        <path id=\"DejaVuSans-34\" d=\"M 2419 4116 \nL 825 1625 \nL 2419 1625 \nL 2419 4116 \nz\nM 2253 4666 \nL 3047 4666 \nL 3047 1625 \nL 3713 1625 \nL 3713 1100 \nL 3047 1100 \nL 3047 0 \nL 2419 0 \nL 2419 1100 \nL 313 1100 \nL 313 1709 \nL 2253 4666 \nz\n\" transform=\"scale(0.015625)\"/>\n       </defs>\n       <use xlink:href=\"#DejaVuSans-34\"/>\n      </g>\n     </g>\n    </g>\n    <g id=\"xtick_6\">\n     <g id=\"line2d_6\">\n      <g>\n       <use xlink:href=\"#mbfb4f711e3\" x=\"266.089825\" y=\"492.112\" style=\"stroke: #000000; stroke-width: 0.8\"/>\n      </g>\n     </g>\n     <g id=\"text_6\">\n      <!-- 5 -->\n      <g transform=\"translate(265.791514 508.983874) rotate(-45) scale(0.1 -0.1)\">\n       <defs>\n        <path id=\"DejaVuSans-35\" d=\"M 691 4666 \nL 3169 4666 \nL 3169 4134 \nL 1269 4134 \nL 1269 2991 \nQ 1406 3038 1543 3061 \nQ 1681 3084 1819 3084 \nQ 2600 3084 3056 2656 \nQ 3513 2228 3513 1497 \nQ 3513 744 3044 326 \nQ 2575 -91 1722 -91 \nQ 1428 -91 1123 -41 \nQ 819 9 494 109 \nL 494 744 \nQ 775 591 1075 516 \nQ 1375 441 1709 441 \nQ 2250 441 2565 725 \nQ 2881 1009 2881 1497 \nQ 2881 1984 2565 2268 \nQ 2250 2553 1709 2553 \nQ 1456 2553 1204 2497 \nQ 953 2441 691 2322 \nL 691 4666 \nz\n\" transform=\"scale(0.015625)\"/>\n       </defs>\n       <use xlink:href=\"#DejaVuSans-35\"/>\n      </g>\n     </g>\n    </g>\n    <g id=\"xtick_7\">\n     <g id=\"line2d_7\">\n      <g>\n       <use xlink:href=\"#mbfb4f711e3\" x=\"308.244225\" y=\"492.112\" style=\"stroke: #000000; stroke-width: 0.8\"/>\n      </g>\n     </g>\n     <g id=\"text_7\">\n      <!-- 6 -->\n      <g transform=\"translate(307.945914 508.983874) rotate(-45) scale(0.1 -0.1)\">\n       <defs>\n        <path id=\"DejaVuSans-36\" d=\"M 2113 2584 \nQ 1688 2584 1439 2293 \nQ 1191 2003 1191 1497 \nQ 1191 994 1439 701 \nQ 1688 409 2113 409 \nQ 2538 409 2786 701 \nQ 3034 994 3034 1497 \nQ 3034 2003 2786 2293 \nQ 2538 2584 2113 2584 \nz\nM 3366 4563 \nL 3366 3988 \nQ 3128 4100 2886 4159 \nQ 2644 4219 2406 4219 \nQ 1781 4219 1451 3797 \nQ 1122 3375 1075 2522 \nQ 1259 2794 1537 2939 \nQ 1816 3084 2150 3084 \nQ 2853 3084 3261 2657 \nQ 3669 2231 3669 1497 \nQ 3669 778 3244 343 \nQ 2819 -91 2113 -91 \nQ 1303 -91 875 529 \nQ 447 1150 447 2328 \nQ 447 3434 972 4092 \nQ 1497 4750 2381 4750 \nQ 2619 4750 2861 4703 \nQ 3103 4656 3366 4563 \nz\n\" transform=\"scale(0.015625)\"/>\n       </defs>\n       <use xlink:href=\"#DejaVuSans-36\"/>\n      </g>\n     </g>\n    </g>\n    <g id=\"xtick_8\">\n     <g id=\"line2d_8\">\n      <g>\n       <use xlink:href=\"#mbfb4f711e3\" x=\"350.398625\" y=\"492.112\" style=\"stroke: #000000; stroke-width: 0.8\"/>\n      </g>\n     </g>\n     <g id=\"text_8\">\n      <!-- 7 -->\n      <g transform=\"translate(350.100314 508.983874) rotate(-45) scale(0.1 -0.1)\">\n       <defs>\n        <path id=\"DejaVuSans-37\" d=\"M 525 4666 \nL 3525 4666 \nL 3525 4397 \nL 1831 0 \nL 1172 0 \nL 2766 4134 \nL 525 4134 \nL 525 4666 \nz\n\" transform=\"scale(0.015625)\"/>\n       </defs>\n       <use xlink:href=\"#DejaVuSans-37\"/>\n      </g>\n     </g>\n    </g>\n    <g id=\"xtick_9\">\n     <g id=\"line2d_9\">\n      <g>\n       <use xlink:href=\"#mbfb4f711e3\" x=\"392.553025\" y=\"492.112\" style=\"stroke: #000000; stroke-width: 0.8\"/>\n      </g>\n     </g>\n     <g id=\"text_9\">\n      <!-- 8 -->\n      <g transform=\"translate(392.254714 508.983874) rotate(-45) scale(0.1 -0.1)\">\n       <defs>\n        <path id=\"DejaVuSans-38\" d=\"M 2034 2216 \nQ 1584 2216 1326 1975 \nQ 1069 1734 1069 1313 \nQ 1069 891 1326 650 \nQ 1584 409 2034 409 \nQ 2484 409 2743 651 \nQ 3003 894 3003 1313 \nQ 3003 1734 2745 1975 \nQ 2488 2216 2034 2216 \nz\nM 1403 2484 \nQ 997 2584 770 2862 \nQ 544 3141 544 3541 \nQ 544 4100 942 4425 \nQ 1341 4750 2034 4750 \nQ 2731 4750 3128 4425 \nQ 3525 4100 3525 3541 \nQ 3525 3141 3298 2862 \nQ 3072 2584 2669 2484 \nQ 3125 2378 3379 2068 \nQ 3634 1759 3634 1313 \nQ 3634 634 3220 271 \nQ 2806 -91 2034 -91 \nQ 1263 -91 848 271 \nQ 434 634 434 1313 \nQ 434 1759 690 2068 \nQ 947 2378 1403 2484 \nz\nM 1172 3481 \nQ 1172 3119 1398 2916 \nQ 1625 2713 2034 2713 \nQ 2441 2713 2670 2916 \nQ 2900 3119 2900 3481 \nQ 2900 3844 2670 4047 \nQ 2441 4250 2034 4250 \nQ 1625 4250 1398 4047 \nQ 1172 3844 1172 3481 \nz\n\" transform=\"scale(0.015625)\"/>\n       </defs>\n       <use xlink:href=\"#DejaVuSans-38\"/>\n      </g>\n     </g>\n    </g>\n    <g id=\"xtick_10\">\n     <g id=\"line2d_10\">\n      <g>\n       <use xlink:href=\"#mbfb4f711e3\" x=\"434.707425\" y=\"492.112\" style=\"stroke: #000000; stroke-width: 0.8\"/>\n      </g>\n     </g>\n     <g id=\"text_10\">\n      <!-- 9 -->\n      <g transform=\"translate(434.409114 508.983874) rotate(-45) scale(0.1 -0.1)\">\n       <defs>\n        <path id=\"DejaVuSans-39\" d=\"M 703 97 \nL 703 672 \nQ 941 559 1184 500 \nQ 1428 441 1663 441 \nQ 2288 441 2617 861 \nQ 2947 1281 2994 2138 \nQ 2813 1869 2534 1725 \nQ 2256 1581 1919 1581 \nQ 1219 1581 811 2004 \nQ 403 2428 403 3163 \nQ 403 3881 828 4315 \nQ 1253 4750 1959 4750 \nQ 2769 4750 3195 4129 \nQ 3622 3509 3622 2328 \nQ 3622 1225 3098 567 \nQ 2575 -91 1691 -91 \nQ 1453 -91 1209 -44 \nQ 966 3 703 97 \nz\nM 1959 2075 \nQ 2384 2075 2632 2365 \nQ 2881 2656 2881 3163 \nQ 2881 3666 2632 3958 \nQ 2384 4250 1959 4250 \nQ 1534 4250 1286 3958 \nQ 1038 3666 1038 3163 \nQ 1038 2656 1286 2365 \nQ 1534 2075 1959 2075 \nz\n\" transform=\"scale(0.015625)\"/>\n       </defs>\n       <use xlink:href=\"#DejaVuSans-39\"/>\n      </g>\n     </g>\n    </g>\n    <g id=\"text_11\">\n     <!-- Classe Predita -->\n     <g transform=\"translate(209.658719 522.052872) scale(0.1 -0.1)\">\n      <defs>\n       <path id=\"DejaVuSans-43\" d=\"M 4122 4306 \nL 4122 3641 \nQ 3803 3938 3442 4084 \nQ 3081 4231 2675 4231 \nQ 1875 4231 1450 3742 \nQ 1025 3253 1025 2328 \nQ 1025 1406 1450 917 \nQ 1875 428 2675 428 \nQ 3081 428 3442 575 \nQ 3803 722 4122 1019 \nL 4122 359 \nQ 3791 134 3420 21 \nQ 3050 -91 2638 -91 \nQ 1578 -91 968 557 \nQ 359 1206 359 2328 \nQ 359 3453 968 4101 \nQ 1578 4750 2638 4750 \nQ 3056 4750 3426 4639 \nQ 3797 4528 4122 4306 \nz\n\" transform=\"scale(0.015625)\"/>\n       <path id=\"DejaVuSans-6c\" d=\"M 603 4863 \nL 1178 4863 \nL 1178 0 \nL 603 0 \nL 603 4863 \nz\n\" transform=\"scale(0.015625)\"/>\n       <path id=\"DejaVuSans-61\" d=\"M 2194 1759 \nQ 1497 1759 1228 1600 \nQ 959 1441 959 1056 \nQ 959 750 1161 570 \nQ 1363 391 1709 391 \nQ 2188 391 2477 730 \nQ 2766 1069 2766 1631 \nL 2766 1759 \nL 2194 1759 \nz\nM 3341 1997 \nL 3341 0 \nL 2766 0 \nL 2766 531 \nQ 2569 213 2275 61 \nQ 1981 -91 1556 -91 \nQ 1019 -91 701 211 \nQ 384 513 384 1019 \nQ 384 1609 779 1909 \nQ 1175 2209 1959 2209 \nL 2766 2209 \nL 2766 2266 \nQ 2766 2663 2505 2880 \nQ 2244 3097 1772 3097 \nQ 1472 3097 1187 3025 \nQ 903 2953 641 2809 \nL 641 3341 \nQ 956 3463 1253 3523 \nQ 1550 3584 1831 3584 \nQ 2591 3584 2966 3190 \nQ 3341 2797 3341 1997 \nz\n\" transform=\"scale(0.015625)\"/>\n       <path id=\"DejaVuSans-73\" d=\"M 2834 3397 \nL 2834 2853 \nQ 2591 2978 2328 3040 \nQ 2066 3103 1784 3103 \nQ 1356 3103 1142 2972 \nQ 928 2841 928 2578 \nQ 928 2378 1081 2264 \nQ 1234 2150 1697 2047 \nL 1894 2003 \nQ 2506 1872 2764 1633 \nQ 3022 1394 3022 966 \nQ 3022 478 2636 193 \nQ 2250 -91 1575 -91 \nQ 1294 -91 989 -36 \nQ 684 19 347 128 \nL 347 722 \nQ 666 556 975 473 \nQ 1284 391 1588 391 \nQ 1994 391 2212 530 \nQ 2431 669 2431 922 \nQ 2431 1156 2273 1281 \nQ 2116 1406 1581 1522 \nL 1381 1569 \nQ 847 1681 609 1914 \nQ 372 2147 372 2553 \nQ 372 3047 722 3315 \nQ 1072 3584 1716 3584 \nQ 2034 3584 2315 3537 \nQ 2597 3491 2834 3397 \nz\n\" transform=\"scale(0.015625)\"/>\n       <path id=\"DejaVuSans-65\" d=\"M 3597 1894 \nL 3597 1613 \nL 953 1613 \nQ 991 1019 1311 708 \nQ 1631 397 2203 397 \nQ 2534 397 2845 478 \nQ 3156 559 3463 722 \nL 3463 178 \nQ 3153 47 2828 -22 \nQ 2503 -91 2169 -91 \nQ 1331 -91 842 396 \nQ 353 884 353 1716 \nQ 353 2575 817 3079 \nQ 1281 3584 2069 3584 \nQ 2775 3584 3186 3129 \nQ 3597 2675 3597 1894 \nz\nM 3022 2063 \nQ 3016 2534 2758 2815 \nQ 2500 3097 2075 3097 \nQ 1594 3097 1305 2825 \nQ 1016 2553 972 2059 \nL 3022 2063 \nz\n\" transform=\"scale(0.015625)\"/>\n       <path id=\"DejaVuSans-20\" transform=\"scale(0.015625)\"/>\n       <path id=\"DejaVuSans-50\" d=\"M 1259 4147 \nL 1259 2394 \nL 2053 2394 \nQ 2494 2394 2734 2622 \nQ 2975 2850 2975 3272 \nQ 2975 3691 2734 3919 \nQ 2494 4147 2053 4147 \nL 1259 4147 \nz\nM 628 4666 \nL 2053 4666 \nQ 2838 4666 3239 4311 \nQ 3641 3956 3641 3272 \nQ 3641 2581 3239 2228 \nQ 2838 1875 2053 1875 \nL 1259 1875 \nL 1259 0 \nL 628 0 \nL 628 4666 \nz\n\" transform=\"scale(0.015625)\"/>\n       <path id=\"DejaVuSans-72\" d=\"M 2631 2963 \nQ 2534 3019 2420 3045 \nQ 2306 3072 2169 3072 \nQ 1681 3072 1420 2755 \nQ 1159 2438 1159 1844 \nL 1159 0 \nL 581 0 \nL 581 3500 \nL 1159 3500 \nL 1159 2956 \nQ 1341 3275 1631 3429 \nQ 1922 3584 2338 3584 \nQ 2397 3584 2469 3576 \nQ 2541 3569 2628 3553 \nL 2631 2963 \nz\n\" transform=\"scale(0.015625)\"/>\n       <path id=\"DejaVuSans-64\" d=\"M 2906 2969 \nL 2906 4863 \nL 3481 4863 \nL 3481 0 \nL 2906 0 \nL 2906 525 \nQ 2725 213 2448 61 \nQ 2172 -91 1784 -91 \nQ 1150 -91 751 415 \nQ 353 922 353 1747 \nQ 353 2572 751 3078 \nQ 1150 3584 1784 3584 \nQ 2172 3584 2448 3432 \nQ 2725 3281 2906 2969 \nz\nM 947 1747 \nQ 947 1113 1208 752 \nQ 1469 391 1925 391 \nQ 2381 391 2643 752 \nQ 2906 1113 2906 1747 \nQ 2906 2381 2643 2742 \nQ 2381 3103 1925 3103 \nQ 1469 3103 1208 2742 \nQ 947 2381 947 1747 \nz\n\" transform=\"scale(0.015625)\"/>\n       <path id=\"DejaVuSans-69\" d=\"M 603 3500 \nL 1178 3500 \nL 1178 0 \nL 603 0 \nL 603 3500 \nz\nM 603 4863 \nL 1178 4863 \nL 1178 4134 \nL 603 4134 \nL 603 4863 \nz\n\" transform=\"scale(0.015625)\"/>\n       <path id=\"DejaVuSans-74\" d=\"M 1172 4494 \nL 1172 3500 \nL 2356 3500 \nL 2356 3053 \nL 1172 3053 \nL 1172 1153 \nQ 1172 725 1289 603 \nQ 1406 481 1766 481 \nL 2356 481 \nL 2356 0 \nL 1766 0 \nQ 1100 0 847 248 \nQ 594 497 594 1153 \nL 594 3053 \nL 172 3053 \nL 172 3500 \nL 594 3500 \nL 594 4494 \nL 1172 4494 \nz\n\" transform=\"scale(0.015625)\"/>\n      </defs>\n      <use xlink:href=\"#DejaVuSans-43\"/>\n      <use xlink:href=\"#DejaVuSans-6c\" x=\"69.824219\"/>\n      <use xlink:href=\"#DejaVuSans-61\" x=\"97.607422\"/>\n      <use xlink:href=\"#DejaVuSans-73\" x=\"158.886719\"/>\n      <use xlink:href=\"#DejaVuSans-73\" x=\"210.986328\"/>\n      <use xlink:href=\"#DejaVuSans-65\" x=\"263.085938\"/>\n      <use xlink:href=\"#DejaVuSans-20\" x=\"324.609375\"/>\n      <use xlink:href=\"#DejaVuSans-50\" x=\"356.396484\"/>\n      <use xlink:href=\"#DejaVuSans-72\" x=\"414.949219\"/>\n      <use xlink:href=\"#DejaVuSans-65\" x=\"453.8125\"/>\n      <use xlink:href=\"#DejaVuSans-64\" x=\"515.335938\"/>\n      <use xlink:href=\"#DejaVuSans-69\" x=\"578.8125\"/>\n      <use xlink:href=\"#DejaVuSans-74\" x=\"606.595703\"/>\n      <use xlink:href=\"#DejaVuSans-61\" x=\"645.804688\"/>\n     </g>\n    </g>\n   </g>\n   <g id=\"matplotlib.axis_2\">\n    <g id=\"ytick_1\">\n     <g id=\"line2d_11\">\n      <defs>\n       <path id=\"ma2666a66d0\" d=\"M 0 0 \nL -3.5 0 \n\" style=\"stroke: #000000; stroke-width: 0.8\"/>\n      </defs>\n      <g>\n       <use xlink:href=\"#ma2666a66d0\" x=\"34.240625\" y=\"91.6452\" style=\"stroke: #000000; stroke-width: 0.8\"/>\n      </g>\n     </g>\n     <g id=\"text_12\">\n      <!-- 0 -->\n      <g transform=\"translate(20.878125 95.444419) scale(0.1 -0.1)\">\n       <use xlink:href=\"#DejaVuSans-30\"/>\n      </g>\n     </g>\n    </g>\n    <g id=\"ytick_2\">\n     <g id=\"line2d_12\">\n      <g>\n       <use xlink:href=\"#ma2666a66d0\" x=\"34.240625\" y=\"133.7996\" style=\"stroke: #000000; stroke-width: 0.8\"/>\n      </g>\n     </g>\n     <g id=\"text_13\">\n      <!-- 1 -->\n      <g transform=\"translate(20.878125 137.598819) scale(0.1 -0.1)\">\n       <use xlink:href=\"#DejaVuSans-31\"/>\n      </g>\n     </g>\n    </g>\n    <g id=\"ytick_3\">\n     <g id=\"line2d_13\">\n      <g>\n       <use xlink:href=\"#ma2666a66d0\" x=\"34.240625\" y=\"175.954\" style=\"stroke: #000000; stroke-width: 0.8\"/>\n      </g>\n     </g>\n     <g id=\"text_14\">\n      <!-- 2 -->\n      <g transform=\"translate(20.878125 179.753219) scale(0.1 -0.1)\">\n       <use xlink:href=\"#DejaVuSans-32\"/>\n      </g>\n     </g>\n    </g>\n    <g id=\"ytick_4\">\n     <g id=\"line2d_14\">\n      <g>\n       <use xlink:href=\"#ma2666a66d0\" x=\"34.240625\" y=\"218.1084\" style=\"stroke: #000000; stroke-width: 0.8\"/>\n      </g>\n     </g>\n     <g id=\"text_15\">\n      <!-- 3 -->\n      <g transform=\"translate(20.878125 221.907619) scale(0.1 -0.1)\">\n       <use xlink:href=\"#DejaVuSans-33\"/>\n      </g>\n     </g>\n    </g>\n    <g id=\"ytick_5\">\n     <g id=\"line2d_15\">\n      <g>\n       <use xlink:href=\"#ma2666a66d0\" x=\"34.240625\" y=\"260.2628\" style=\"stroke: #000000; stroke-width: 0.8\"/>\n      </g>\n     </g>\n     <g id=\"text_16\">\n      <!-- 4 -->\n      <g transform=\"translate(20.878125 264.062019) scale(0.1 -0.1)\">\n       <use xlink:href=\"#DejaVuSans-34\"/>\n      </g>\n     </g>\n    </g>\n    <g id=\"ytick_6\">\n     <g id=\"line2d_16\">\n      <g>\n       <use xlink:href=\"#ma2666a66d0\" x=\"34.240625\" y=\"302.4172\" style=\"stroke: #000000; stroke-width: 0.8\"/>\n      </g>\n     </g>\n     <g id=\"text_17\">\n      <!-- 5 -->\n      <g transform=\"translate(20.878125 306.216419) scale(0.1 -0.1)\">\n       <use xlink:href=\"#DejaVuSans-35\"/>\n      </g>\n     </g>\n    </g>\n    <g id=\"ytick_7\">\n     <g id=\"line2d_17\">\n      <g>\n       <use xlink:href=\"#ma2666a66d0\" x=\"34.240625\" y=\"344.5716\" style=\"stroke: #000000; stroke-width: 0.8\"/>\n      </g>\n     </g>\n     <g id=\"text_18\">\n      <!-- 6 -->\n      <g transform=\"translate(20.878125 348.370819) scale(0.1 -0.1)\">\n       <use xlink:href=\"#DejaVuSans-36\"/>\n      </g>\n     </g>\n    </g>\n    <g id=\"ytick_8\">\n     <g id=\"line2d_18\">\n      <g>\n       <use xlink:href=\"#ma2666a66d0\" x=\"34.240625\" y=\"386.726\" style=\"stroke: #000000; stroke-width: 0.8\"/>\n      </g>\n     </g>\n     <g id=\"text_19\">\n      <!-- 7 -->\n      <g transform=\"translate(20.878125 390.525219) scale(0.1 -0.1)\">\n       <use xlink:href=\"#DejaVuSans-37\"/>\n      </g>\n     </g>\n    </g>\n    <g id=\"ytick_9\">\n     <g id=\"line2d_19\">\n      <g>\n       <use xlink:href=\"#ma2666a66d0\" x=\"34.240625\" y=\"428.8804\" style=\"stroke: #000000; stroke-width: 0.8\"/>\n      </g>\n     </g>\n     <g id=\"text_20\">\n      <!-- 8 -->\n      <g transform=\"translate(20.878125 432.679619) scale(0.1 -0.1)\">\n       <use xlink:href=\"#DejaVuSans-38\"/>\n      </g>\n     </g>\n    </g>\n    <g id=\"ytick_10\">\n     <g id=\"line2d_20\">\n      <g>\n       <use xlink:href=\"#ma2666a66d0\" x=\"34.240625\" y=\"471.0348\" style=\"stroke: #000000; stroke-width: 0.8\"/>\n      </g>\n     </g>\n     <g id=\"text_21\">\n      <!-- 9 -->\n      <g transform=\"translate(20.878125 474.834019) scale(0.1 -0.1)\">\n       <use xlink:href=\"#DejaVuSans-39\"/>\n      </g>\n     </g>\n    </g>\n    <g id=\"text_22\">\n     <!-- Classe Verdadeira -->\n     <g transform=\"translate(14.798438 326.234531) rotate(-90) scale(0.1 -0.1)\">\n      <defs>\n       <path id=\"DejaVuSans-56\" d=\"M 1831 0 \nL 50 4666 \nL 709 4666 \nL 2188 738 \nL 3669 4666 \nL 4325 4666 \nL 2547 0 \nL 1831 0 \nz\n\" transform=\"scale(0.015625)\"/>\n      </defs>\n      <use xlink:href=\"#DejaVuSans-43\"/>\n      <use xlink:href=\"#DejaVuSans-6c\" x=\"69.824219\"/>\n      <use xlink:href=\"#DejaVuSans-61\" x=\"97.607422\"/>\n      <use xlink:href=\"#DejaVuSans-73\" x=\"158.886719\"/>\n      <use xlink:href=\"#DejaVuSans-73\" x=\"210.986328\"/>\n      <use xlink:href=\"#DejaVuSans-65\" x=\"263.085938\"/>\n      <use xlink:href=\"#DejaVuSans-20\" x=\"324.609375\"/>\n      <use xlink:href=\"#DejaVuSans-56\" x=\"356.396484\"/>\n      <use xlink:href=\"#DejaVuSans-65\" x=\"417.054688\"/>\n      <use xlink:href=\"#DejaVuSans-72\" x=\"478.578125\"/>\n      <use xlink:href=\"#DejaVuSans-64\" x=\"517.941406\"/>\n      <use xlink:href=\"#DejaVuSans-61\" x=\"581.417969\"/>\n      <use xlink:href=\"#DejaVuSans-64\" x=\"642.697266\"/>\n      <use xlink:href=\"#DejaVuSans-65\" x=\"706.173828\"/>\n      <use xlink:href=\"#DejaVuSans-69\" x=\"767.697266\"/>\n      <use xlink:href=\"#DejaVuSans-72\" x=\"795.480469\"/>\n      <use xlink:href=\"#DejaVuSans-61\" x=\"836.59375\"/>\n     </g>\n    </g>\n   </g>\n   <g id=\"patch_3\">\n    <path d=\"M 34.240625 492.112 \nL 34.240625 70.568 \n\" style=\"fill: none; stroke: #000000; stroke-width: 0.8; stroke-linejoin: miter; stroke-linecap: square\"/>\n   </g>\n   <g id=\"patch_4\">\n    <path d=\"M 455.784625 492.112 \nL 455.784625 70.568 \n\" style=\"fill: none; stroke: #000000; stroke-width: 0.8; stroke-linejoin: miter; stroke-linecap: square\"/>\n   </g>\n   <g id=\"patch_5\">\n    <path d=\"M 34.240625 492.112 \nL 455.784625 492.112 \n\" style=\"fill: none; stroke: #000000; stroke-width: 0.8; stroke-linejoin: miter; stroke-linecap: square\"/>\n   </g>\n   <g id=\"patch_6\">\n    <path d=\"M 34.240625 70.568 \nL 455.784625 70.568 \n\" style=\"fill: none; stroke: #000000; stroke-width: 0.8; stroke-linejoin: miter; stroke-linecap: square\"/>\n   </g>\n   <g id=\"text_23\">\n    <!-- 970 -->\n    <g style=\"fill: #ffffff\" transform=\"translate(45.774075 91.6452) scale(0.1 -0.1)\">\n     <use xlink:href=\"#DejaVuSans-39\"/>\n     <use xlink:href=\"#DejaVuSans-37\" x=\"63.623047\"/>\n     <use xlink:href=\"#DejaVuSans-30\" x=\"127.246094\"/>\n    </g>\n   </g>\n   <g id=\"text_24\">\n    <!-- 1 -->\n    <g transform=\"translate(94.290975 91.6452) scale(0.1 -0.1)\">\n     <use xlink:href=\"#DejaVuSans-31\"/>\n    </g>\n   </g>\n   <g id=\"text_25\">\n    <!-- 1 -->\n    <g transform=\"translate(136.445375 91.6452) scale(0.1 -0.1)\">\n     <use xlink:href=\"#DejaVuSans-31\"/>\n    </g>\n   </g>\n   <g id=\"text_26\">\n    <!-- 0 -->\n    <g transform=\"translate(178.599775 91.6452) scale(0.1 -0.1)\">\n     <use xlink:href=\"#DejaVuSans-30\"/>\n    </g>\n   </g>\n   <g id=\"text_27\">\n    <!-- 1 -->\n    <g transform=\"translate(220.754175 91.6452) scale(0.1 -0.1)\">\n     <use xlink:href=\"#DejaVuSans-31\"/>\n    </g>\n   </g>\n   <g id=\"text_28\">\n    <!-- 1 -->\n    <g transform=\"translate(262.908575 91.6452) scale(0.1 -0.1)\">\n     <use xlink:href=\"#DejaVuSans-31\"/>\n    </g>\n   </g>\n   <g id=\"text_29\">\n    <!-- 4 -->\n    <g transform=\"translate(305.062975 91.6452) scale(0.1 -0.1)\">\n     <use xlink:href=\"#DejaVuSans-34\"/>\n    </g>\n   </g>\n   <g id=\"text_30\">\n    <!-- 1 -->\n    <g transform=\"translate(347.217375 91.6452) scale(0.1 -0.1)\">\n     <use xlink:href=\"#DejaVuSans-31\"/>\n    </g>\n   </g>\n   <g id=\"text_31\">\n    <!-- 1 -->\n    <g transform=\"translate(389.371775 91.6452) scale(0.1 -0.1)\">\n     <use xlink:href=\"#DejaVuSans-31\"/>\n    </g>\n   </g>\n   <g id=\"text_32\">\n    <!-- 0 -->\n    <g transform=\"translate(431.526175 91.6452) scale(0.1 -0.1)\">\n     <use xlink:href=\"#DejaVuSans-30\"/>\n    </g>\n   </g>\n   <g id=\"text_33\">\n    <!-- 0 -->\n    <g transform=\"translate(52.136575 133.7996) scale(0.1 -0.1)\">\n     <use xlink:href=\"#DejaVuSans-30\"/>\n    </g>\n   </g>\n   <g id=\"text_34\">\n    <!-- 1125 -->\n    <g style=\"fill: #ffffff\" transform=\"translate(84.747225 133.7996) scale(0.1 -0.1)\">\n     <use xlink:href=\"#DejaVuSans-31\"/>\n     <use xlink:href=\"#DejaVuSans-31\" x=\"63.623047\"/>\n     <use xlink:href=\"#DejaVuSans-32\" x=\"127.246094\"/>\n     <use xlink:href=\"#DejaVuSans-35\" x=\"190.869141\"/>\n    </g>\n   </g>\n   <g id=\"text_35\">\n    <!-- 3 -->\n    <g transform=\"translate(136.445375 133.7996) scale(0.1 -0.1)\">\n     <use xlink:href=\"#DejaVuSans-33\"/>\n    </g>\n   </g>\n   <g id=\"text_36\">\n    <!-- 2 -->\n    <g transform=\"translate(178.599775 133.7996) scale(0.1 -0.1)\">\n     <use xlink:href=\"#DejaVuSans-32\"/>\n    </g>\n   </g>\n   <g id=\"text_37\">\n    <!-- 0 -->\n    <g transform=\"translate(220.754175 133.7996) scale(0.1 -0.1)\">\n     <use xlink:href=\"#DejaVuSans-30\"/>\n    </g>\n   </g>\n   <g id=\"text_38\">\n    <!-- 1 -->\n    <g transform=\"translate(262.908575 133.7996) scale(0.1 -0.1)\">\n     <use xlink:href=\"#DejaVuSans-31\"/>\n    </g>\n   </g>\n   <g id=\"text_39\">\n    <!-- 2 -->\n    <g transform=\"translate(305.062975 133.7996) scale(0.1 -0.1)\">\n     <use xlink:href=\"#DejaVuSans-32\"/>\n    </g>\n   </g>\n   <g id=\"text_40\">\n    <!-- 1 -->\n    <g transform=\"translate(347.217375 133.7996) scale(0.1 -0.1)\">\n     <use xlink:href=\"#DejaVuSans-31\"/>\n    </g>\n   </g>\n   <g id=\"text_41\">\n    <!-- 1 -->\n    <g transform=\"translate(389.371775 133.7996) scale(0.1 -0.1)\">\n     <use xlink:href=\"#DejaVuSans-31\"/>\n    </g>\n   </g>\n   <g id=\"text_42\">\n    <!-- 0 -->\n    <g transform=\"translate(431.526175 133.7996) scale(0.1 -0.1)\">\n     <use xlink:href=\"#DejaVuSans-30\"/>\n    </g>\n   </g>\n   <g id=\"text_43\">\n    <!-- 4 -->\n    <g transform=\"translate(52.136575 175.954) scale(0.1 -0.1)\">\n     <use xlink:href=\"#DejaVuSans-34\"/>\n    </g>\n   </g>\n   <g id=\"text_44\">\n    <!-- 2 -->\n    <g transform=\"translate(94.290975 175.954) scale(0.1 -0.1)\">\n     <use xlink:href=\"#DejaVuSans-32\"/>\n    </g>\n   </g>\n   <g id=\"text_45\">\n    <!-- 1007 -->\n    <g style=\"fill: #ffffff\" transform=\"translate(126.901625 175.954) scale(0.1 -0.1)\">\n     <use xlink:href=\"#DejaVuSans-31\"/>\n     <use xlink:href=\"#DejaVuSans-30\" x=\"63.623047\"/>\n     <use xlink:href=\"#DejaVuSans-30\" x=\"127.246094\"/>\n     <use xlink:href=\"#DejaVuSans-37\" x=\"190.869141\"/>\n    </g>\n   </g>\n   <g id=\"text_46\">\n    <!-- 4 -->\n    <g transform=\"translate(178.599775 175.954) scale(0.1 -0.1)\">\n     <use xlink:href=\"#DejaVuSans-34\"/>\n    </g>\n   </g>\n   <g id=\"text_47\">\n    <!-- 1 -->\n    <g transform=\"translate(220.754175 175.954) scale(0.1 -0.1)\">\n     <use xlink:href=\"#DejaVuSans-31\"/>\n    </g>\n   </g>\n   <g id=\"text_48\">\n    <!-- 0 -->\n    <g transform=\"translate(262.908575 175.954) scale(0.1 -0.1)\">\n     <use xlink:href=\"#DejaVuSans-30\"/>\n    </g>\n   </g>\n   <g id=\"text_49\">\n    <!-- 2 -->\n    <g transform=\"translate(305.062975 175.954) scale(0.1 -0.1)\">\n     <use xlink:href=\"#DejaVuSans-32\"/>\n    </g>\n   </g>\n   <g id=\"text_50\">\n    <!-- 4 -->\n    <g transform=\"translate(347.217375 175.954) scale(0.1 -0.1)\">\n     <use xlink:href=\"#DejaVuSans-34\"/>\n    </g>\n   </g>\n   <g id=\"text_51\">\n    <!-- 7 -->\n    <g transform=\"translate(389.371775 175.954) scale(0.1 -0.1)\">\n     <use xlink:href=\"#DejaVuSans-37\"/>\n    </g>\n   </g>\n   <g id=\"text_52\">\n    <!-- 1 -->\n    <g transform=\"translate(431.526175 175.954) scale(0.1 -0.1)\">\n     <use xlink:href=\"#DejaVuSans-31\"/>\n    </g>\n   </g>\n   <g id=\"text_53\">\n    <!-- 0 -->\n    <g transform=\"translate(52.136575 218.1084) scale(0.1 -0.1)\">\n     <use xlink:href=\"#DejaVuSans-30\"/>\n    </g>\n   </g>\n   <g id=\"text_54\">\n    <!-- 0 -->\n    <g transform=\"translate(94.290975 218.1084) scale(0.1 -0.1)\">\n     <use xlink:href=\"#DejaVuSans-30\"/>\n    </g>\n   </g>\n   <g id=\"text_55\">\n    <!-- 2 -->\n    <g transform=\"translate(136.445375 218.1084) scale(0.1 -0.1)\">\n     <use xlink:href=\"#DejaVuSans-32\"/>\n    </g>\n   </g>\n   <g id=\"text_56\">\n    <!-- 997 -->\n    <g style=\"fill: #ffffff\" transform=\"translate(172.237275 218.1084) scale(0.1 -0.1)\">\n     <use xlink:href=\"#DejaVuSans-39\"/>\n     <use xlink:href=\"#DejaVuSans-39\" x=\"63.623047\"/>\n     <use xlink:href=\"#DejaVuSans-37\" x=\"127.246094\"/>\n    </g>\n   </g>\n   <g id=\"text_57\">\n    <!-- 0 -->\n    <g transform=\"translate(220.754175 218.1084) scale(0.1 -0.1)\">\n     <use xlink:href=\"#DejaVuSans-30\"/>\n    </g>\n   </g>\n   <g id=\"text_58\">\n    <!-- 4 -->\n    <g transform=\"translate(262.908575 218.1084) scale(0.1 -0.1)\">\n     <use xlink:href=\"#DejaVuSans-34\"/>\n    </g>\n   </g>\n   <g id=\"text_59\">\n    <!-- 0 -->\n    <g transform=\"translate(305.062975 218.1084) scale(0.1 -0.1)\">\n     <use xlink:href=\"#DejaVuSans-30\"/>\n    </g>\n   </g>\n   <g id=\"text_60\">\n    <!-- 3 -->\n    <g transform=\"translate(347.217375 218.1084) scale(0.1 -0.1)\">\n     <use xlink:href=\"#DejaVuSans-33\"/>\n    </g>\n   </g>\n   <g id=\"text_61\">\n    <!-- 3 -->\n    <g transform=\"translate(389.371775 218.1084) scale(0.1 -0.1)\">\n     <use xlink:href=\"#DejaVuSans-33\"/>\n    </g>\n   </g>\n   <g id=\"text_62\">\n    <!-- 1 -->\n    <g transform=\"translate(431.526175 218.1084) scale(0.1 -0.1)\">\n     <use xlink:href=\"#DejaVuSans-31\"/>\n    </g>\n   </g>\n   <g id=\"text_63\">\n    <!-- 0 -->\n    <g transform=\"translate(52.136575 260.2628) scale(0.1 -0.1)\">\n     <use xlink:href=\"#DejaVuSans-30\"/>\n    </g>\n   </g>\n   <g id=\"text_64\">\n    <!-- 1 -->\n    <g transform=\"translate(94.290975 260.2628) scale(0.1 -0.1)\">\n     <use xlink:href=\"#DejaVuSans-31\"/>\n    </g>\n   </g>\n   <g id=\"text_65\">\n    <!-- 2 -->\n    <g transform=\"translate(136.445375 260.2628) scale(0.1 -0.1)\">\n     <use xlink:href=\"#DejaVuSans-32\"/>\n    </g>\n   </g>\n   <g id=\"text_66\">\n    <!-- 0 -->\n    <g transform=\"translate(178.599775 260.2628) scale(0.1 -0.1)\">\n     <use xlink:href=\"#DejaVuSans-30\"/>\n    </g>\n   </g>\n   <g id=\"text_67\">\n    <!-- 959 -->\n    <g style=\"fill: #ffffff\" transform=\"translate(214.391675 260.2628) scale(0.1 -0.1)\">\n     <use xlink:href=\"#DejaVuSans-39\"/>\n     <use xlink:href=\"#DejaVuSans-35\" x=\"63.623047\"/>\n     <use xlink:href=\"#DejaVuSans-39\" x=\"127.246094\"/>\n    </g>\n   </g>\n   <g id=\"text_68\">\n    <!-- 0 -->\n    <g transform=\"translate(262.908575 260.2628) scale(0.1 -0.1)\">\n     <use xlink:href=\"#DejaVuSans-30\"/>\n    </g>\n   </g>\n   <g id=\"text_69\">\n    <!-- 8 -->\n    <g transform=\"translate(305.062975 260.2628) scale(0.1 -0.1)\">\n     <use xlink:href=\"#DejaVuSans-38\"/>\n    </g>\n   </g>\n   <g id=\"text_70\">\n    <!-- 1 -->\n    <g transform=\"translate(347.217375 260.2628) scale(0.1 -0.1)\">\n     <use xlink:href=\"#DejaVuSans-31\"/>\n    </g>\n   </g>\n   <g id=\"text_71\">\n    <!-- 3 -->\n    <g transform=\"translate(389.371775 260.2628) scale(0.1 -0.1)\">\n     <use xlink:href=\"#DejaVuSans-33\"/>\n    </g>\n   </g>\n   <g id=\"text_72\">\n    <!-- 8 -->\n    <g transform=\"translate(431.526175 260.2628) scale(0.1 -0.1)\">\n     <use xlink:href=\"#DejaVuSans-38\"/>\n    </g>\n   </g>\n   <g id=\"text_73\">\n    <!-- 1 -->\n    <g transform=\"translate(52.136575 302.4172) scale(0.1 -0.1)\">\n     <use xlink:href=\"#DejaVuSans-31\"/>\n    </g>\n   </g>\n   <g id=\"text_74\">\n    <!-- 0 -->\n    <g transform=\"translate(94.290975 302.4172) scale(0.1 -0.1)\">\n     <use xlink:href=\"#DejaVuSans-30\"/>\n    </g>\n   </g>\n   <g id=\"text_75\">\n    <!-- 0 -->\n    <g transform=\"translate(136.445375 302.4172) scale(0.1 -0.1)\">\n     <use xlink:href=\"#DejaVuSans-30\"/>\n    </g>\n   </g>\n   <g id=\"text_76\">\n    <!-- 8 -->\n    <g transform=\"translate(178.599775 302.4172) scale(0.1 -0.1)\">\n     <use xlink:href=\"#DejaVuSans-38\"/>\n    </g>\n   </g>\n   <g id=\"text_77\">\n    <!-- 1 -->\n    <g transform=\"translate(220.754175 302.4172) scale(0.1 -0.1)\">\n     <use xlink:href=\"#DejaVuSans-31\"/>\n    </g>\n   </g>\n   <g id=\"text_78\">\n    <!-- 870 -->\n    <g style=\"fill: #ffffff\" transform=\"translate(256.546075 302.4172) scale(0.1 -0.1)\">\n     <use xlink:href=\"#DejaVuSans-38\"/>\n     <use xlink:href=\"#DejaVuSans-37\" x=\"63.623047\"/>\n     <use xlink:href=\"#DejaVuSans-30\" x=\"127.246094\"/>\n    </g>\n   </g>\n   <g id=\"text_79\">\n    <!-- 6 -->\n    <g transform=\"translate(305.062975 302.4172) scale(0.1 -0.1)\">\n     <use xlink:href=\"#DejaVuSans-36\"/>\n    </g>\n   </g>\n   <g id=\"text_80\">\n    <!-- 0 -->\n    <g transform=\"translate(347.217375 302.4172) scale(0.1 -0.1)\">\n     <use xlink:href=\"#DejaVuSans-30\"/>\n    </g>\n   </g>\n   <g id=\"text_81\">\n    <!-- 3 -->\n    <g transform=\"translate(389.371775 302.4172) scale(0.1 -0.1)\">\n     <use xlink:href=\"#DejaVuSans-33\"/>\n    </g>\n   </g>\n   <g id=\"text_82\">\n    <!-- 3 -->\n    <g transform=\"translate(431.526175 302.4172) scale(0.1 -0.1)\">\n     <use xlink:href=\"#DejaVuSans-33\"/>\n    </g>\n   </g>\n   <g id=\"text_83\">\n    <!-- 4 -->\n    <g transform=\"translate(52.136575 344.5716) scale(0.1 -0.1)\">\n     <use xlink:href=\"#DejaVuSans-34\"/>\n    </g>\n   </g>\n   <g id=\"text_84\">\n    <!-- 3 -->\n    <g transform=\"translate(94.290975 344.5716) scale(0.1 -0.1)\">\n     <use xlink:href=\"#DejaVuSans-33\"/>\n    </g>\n   </g>\n   <g id=\"text_85\">\n    <!-- 1 -->\n    <g transform=\"translate(136.445375 344.5716) scale(0.1 -0.1)\">\n     <use xlink:href=\"#DejaVuSans-31\"/>\n    </g>\n   </g>\n   <g id=\"text_86\">\n    <!-- 1 -->\n    <g transform=\"translate(178.599775 344.5716) scale(0.1 -0.1)\">\n     <use xlink:href=\"#DejaVuSans-31\"/>\n    </g>\n   </g>\n   <g id=\"text_87\">\n    <!-- 3 -->\n    <g transform=\"translate(220.754175 344.5716) scale(0.1 -0.1)\">\n     <use xlink:href=\"#DejaVuSans-33\"/>\n    </g>\n   </g>\n   <g id=\"text_88\">\n    <!-- 2 -->\n    <g transform=\"translate(262.908575 344.5716) scale(0.1 -0.1)\">\n     <use xlink:href=\"#DejaVuSans-32\"/>\n    </g>\n   </g>\n   <g id=\"text_89\">\n    <!-- 944 -->\n    <g style=\"fill: #ffffff\" transform=\"translate(298.700475 344.5716) scale(0.1 -0.1)\">\n     <use xlink:href=\"#DejaVuSans-39\"/>\n     <use xlink:href=\"#DejaVuSans-34\" x=\"63.623047\"/>\n     <use xlink:href=\"#DejaVuSans-34\" x=\"127.246094\"/>\n    </g>\n   </g>\n   <g id=\"text_90\">\n    <!-- 0 -->\n    <g transform=\"translate(347.217375 344.5716) scale(0.1 -0.1)\">\n     <use xlink:href=\"#DejaVuSans-30\"/>\n    </g>\n   </g>\n   <g id=\"text_91\">\n    <!-- 0 -->\n    <g transform=\"translate(389.371775 344.5716) scale(0.1 -0.1)\">\n     <use xlink:href=\"#DejaVuSans-30\"/>\n    </g>\n   </g>\n   <g id=\"text_92\">\n    <!-- 0 -->\n    <g transform=\"translate(431.526175 344.5716) scale(0.1 -0.1)\">\n     <use xlink:href=\"#DejaVuSans-30\"/>\n    </g>\n   </g>\n   <g id=\"text_93\">\n    <!-- 2 -->\n    <g transform=\"translate(52.136575 386.726) scale(0.1 -0.1)\">\n     <use xlink:href=\"#DejaVuSans-32\"/>\n    </g>\n   </g>\n   <g id=\"text_94\">\n    <!-- 5 -->\n    <g transform=\"translate(94.290975 386.726) scale(0.1 -0.1)\">\n     <use xlink:href=\"#DejaVuSans-35\"/>\n    </g>\n   </g>\n   <g id=\"text_95\">\n    <!-- 8 -->\n    <g transform=\"translate(136.445375 386.726) scale(0.1 -0.1)\">\n     <use xlink:href=\"#DejaVuSans-38\"/>\n    </g>\n   </g>\n   <g id=\"text_96\">\n    <!-- 2 -->\n    <g transform=\"translate(178.599775 386.726) scale(0.1 -0.1)\">\n     <use xlink:href=\"#DejaVuSans-32\"/>\n    </g>\n   </g>\n   <g id=\"text_97\">\n    <!-- 0 -->\n    <g transform=\"translate(220.754175 386.726) scale(0.1 -0.1)\">\n     <use xlink:href=\"#DejaVuSans-30\"/>\n    </g>\n   </g>\n   <g id=\"text_98\">\n    <!-- 0 -->\n    <g transform=\"translate(262.908575 386.726) scale(0.1 -0.1)\">\n     <use xlink:href=\"#DejaVuSans-30\"/>\n    </g>\n   </g>\n   <g id=\"text_99\">\n    <!-- 0 -->\n    <g transform=\"translate(305.062975 386.726) scale(0.1 -0.1)\">\n     <use xlink:href=\"#DejaVuSans-30\"/>\n    </g>\n   </g>\n   <g id=\"text_100\">\n    <!-- 1001 -->\n    <g style=\"fill: #ffffff\" transform=\"translate(337.673625 386.726) scale(0.1 -0.1)\">\n     <use xlink:href=\"#DejaVuSans-31\"/>\n     <use xlink:href=\"#DejaVuSans-30\" x=\"63.623047\"/>\n     <use xlink:href=\"#DejaVuSans-30\" x=\"127.246094\"/>\n     <use xlink:href=\"#DejaVuSans-31\" x=\"190.869141\"/>\n    </g>\n   </g>\n   <g id=\"text_101\">\n    <!-- 4 -->\n    <g transform=\"translate(389.371775 386.726) scale(0.1 -0.1)\">\n     <use xlink:href=\"#DejaVuSans-34\"/>\n    </g>\n   </g>\n   <g id=\"text_102\">\n    <!-- 6 -->\n    <g transform=\"translate(431.526175 386.726) scale(0.1 -0.1)\">\n     <use xlink:href=\"#DejaVuSans-36\"/>\n    </g>\n   </g>\n   <g id=\"text_103\">\n    <!-- 1 -->\n    <g transform=\"translate(52.136575 428.8804) scale(0.1 -0.1)\">\n     <use xlink:href=\"#DejaVuSans-31\"/>\n    </g>\n   </g>\n   <g id=\"text_104\">\n    <!-- 1 -->\n    <g transform=\"translate(94.290975 428.8804) scale(0.1 -0.1)\">\n     <use xlink:href=\"#DejaVuSans-31\"/>\n    </g>\n   </g>\n   <g id=\"text_105\">\n    <!-- 1 -->\n    <g transform=\"translate(136.445375 428.8804) scale(0.1 -0.1)\">\n     <use xlink:href=\"#DejaVuSans-31\"/>\n    </g>\n   </g>\n   <g id=\"text_106\">\n    <!-- 5 -->\n    <g transform=\"translate(178.599775 428.8804) scale(0.1 -0.1)\">\n     <use xlink:href=\"#DejaVuSans-35\"/>\n    </g>\n   </g>\n   <g id=\"text_107\">\n    <!-- 2 -->\n    <g transform=\"translate(220.754175 428.8804) scale(0.1 -0.1)\">\n     <use xlink:href=\"#DejaVuSans-32\"/>\n    </g>\n   </g>\n   <g id=\"text_108\">\n    <!-- 4 -->\n    <g transform=\"translate(262.908575 428.8804) scale(0.1 -0.1)\">\n     <use xlink:href=\"#DejaVuSans-34\"/>\n    </g>\n   </g>\n   <g id=\"text_109\">\n    <!-- 2 -->\n    <g transform=\"translate(305.062975 428.8804) scale(0.1 -0.1)\">\n     <use xlink:href=\"#DejaVuSans-32\"/>\n    </g>\n   </g>\n   <g id=\"text_110\">\n    <!-- 2 -->\n    <g transform=\"translate(347.217375 428.8804) scale(0.1 -0.1)\">\n     <use xlink:href=\"#DejaVuSans-32\"/>\n    </g>\n   </g>\n   <g id=\"text_111\">\n    <!-- 954 -->\n    <g style=\"fill: #ffffff\" transform=\"translate(383.009275 428.8804) scale(0.1 -0.1)\">\n     <use xlink:href=\"#DejaVuSans-39\"/>\n     <use xlink:href=\"#DejaVuSans-35\" x=\"63.623047\"/>\n     <use xlink:href=\"#DejaVuSans-34\" x=\"127.246094\"/>\n    </g>\n   </g>\n   <g id=\"text_112\">\n    <!-- 2 -->\n    <g transform=\"translate(431.526175 428.8804) scale(0.1 -0.1)\">\n     <use xlink:href=\"#DejaVuSans-32\"/>\n    </g>\n   </g>\n   <g id=\"text_113\">\n    <!-- 1 -->\n    <g transform=\"translate(52.136575 471.0348) scale(0.1 -0.1)\">\n     <use xlink:href=\"#DejaVuSans-31\"/>\n    </g>\n   </g>\n   <g id=\"text_114\">\n    <!-- 4 -->\n    <g transform=\"translate(94.290975 471.0348) scale(0.1 -0.1)\">\n     <use xlink:href=\"#DejaVuSans-34\"/>\n    </g>\n   </g>\n   <g id=\"text_115\">\n    <!-- 0 -->\n    <g transform=\"translate(136.445375 471.0348) scale(0.1 -0.1)\">\n     <use xlink:href=\"#DejaVuSans-30\"/>\n    </g>\n   </g>\n   <g id=\"text_116\">\n    <!-- 8 -->\n    <g transform=\"translate(178.599775 471.0348) scale(0.1 -0.1)\">\n     <use xlink:href=\"#DejaVuSans-38\"/>\n    </g>\n   </g>\n   <g id=\"text_117\">\n    <!-- 8 -->\n    <g transform=\"translate(220.754175 471.0348) scale(0.1 -0.1)\">\n     <use xlink:href=\"#DejaVuSans-38\"/>\n    </g>\n   </g>\n   <g id=\"text_118\">\n    <!-- 3 -->\n    <g transform=\"translate(262.908575 471.0348) scale(0.1 -0.1)\">\n     <use xlink:href=\"#DejaVuSans-33\"/>\n    </g>\n   </g>\n   <g id=\"text_119\">\n    <!-- 0 -->\n    <g transform=\"translate(305.062975 471.0348) scale(0.1 -0.1)\">\n     <use xlink:href=\"#DejaVuSans-30\"/>\n    </g>\n   </g>\n   <g id=\"text_120\">\n    <!-- 3 -->\n    <g transform=\"translate(347.217375 471.0348) scale(0.1 -0.1)\">\n     <use xlink:href=\"#DejaVuSans-33\"/>\n    </g>\n   </g>\n   <g id=\"text_121\">\n    <!-- 8 -->\n    <g transform=\"translate(389.371775 471.0348) scale(0.1 -0.1)\">\n     <use xlink:href=\"#DejaVuSans-38\"/>\n    </g>\n   </g>\n   <g id=\"text_122\">\n    <!-- 974 -->\n    <g style=\"fill: #ffffff\" transform=\"translate(425.163675 471.0348) scale(0.1 -0.1)\">\n     <use xlink:href=\"#DejaVuSans-39\"/>\n     <use xlink:href=\"#DejaVuSans-37\" x=\"63.623047\"/>\n     <use xlink:href=\"#DejaVuSans-34\" x=\"127.246094\"/>\n    </g>\n   </g>\n   <g id=\"text_123\">\n    <!-- Matriz de Confusão -->\n    <g transform=\"translate(187.157625 64.568) scale(0.12 -0.12)\">\n     <defs>\n      <path id=\"DejaVuSans-4d\" d=\"M 628 4666 \nL 1569 4666 \nL 2759 1491 \nL 3956 4666 \nL 4897 4666 \nL 4897 0 \nL 4281 0 \nL 4281 4097 \nL 3078 897 \nL 2444 897 \nL 1241 4097 \nL 1241 0 \nL 628 0 \nL 628 4666 \nz\n\" transform=\"scale(0.015625)\"/>\n      <path id=\"DejaVuSans-7a\" d=\"M 353 3500 \nL 3084 3500 \nL 3084 2975 \nL 922 459 \nL 3084 459 \nL 3084 0 \nL 275 0 \nL 275 525 \nL 2438 3041 \nL 353 3041 \nL 353 3500 \nz\n\" transform=\"scale(0.015625)\"/>\n      <path id=\"DejaVuSans-6f\" d=\"M 1959 3097 \nQ 1497 3097 1228 2736 \nQ 959 2375 959 1747 \nQ 959 1119 1226 758 \nQ 1494 397 1959 397 \nQ 2419 397 2687 759 \nQ 2956 1122 2956 1747 \nQ 2956 2369 2687 2733 \nQ 2419 3097 1959 3097 \nz\nM 1959 3584 \nQ 2709 3584 3137 3096 \nQ 3566 2609 3566 1747 \nQ 3566 888 3137 398 \nQ 2709 -91 1959 -91 \nQ 1206 -91 779 398 \nQ 353 888 353 1747 \nQ 353 2609 779 3096 \nQ 1206 3584 1959 3584 \nz\n\" transform=\"scale(0.015625)\"/>\n      <path id=\"DejaVuSans-6e\" d=\"M 3513 2113 \nL 3513 0 \nL 2938 0 \nL 2938 2094 \nQ 2938 2591 2744 2837 \nQ 2550 3084 2163 3084 \nQ 1697 3084 1428 2787 \nQ 1159 2491 1159 1978 \nL 1159 0 \nL 581 0 \nL 581 3500 \nL 1159 3500 \nL 1159 2956 \nQ 1366 3272 1645 3428 \nQ 1925 3584 2291 3584 \nQ 2894 3584 3203 3211 \nQ 3513 2838 3513 2113 \nz\n\" transform=\"scale(0.015625)\"/>\n      <path id=\"DejaVuSans-66\" d=\"M 2375 4863 \nL 2375 4384 \nL 1825 4384 \nQ 1516 4384 1395 4259 \nQ 1275 4134 1275 3809 \nL 1275 3500 \nL 2222 3500 \nL 2222 3053 \nL 1275 3053 \nL 1275 0 \nL 697 0 \nL 697 3053 \nL 147 3053 \nL 147 3500 \nL 697 3500 \nL 697 3744 \nQ 697 4328 969 4595 \nQ 1241 4863 1831 4863 \nL 2375 4863 \nz\n\" transform=\"scale(0.015625)\"/>\n      <path id=\"DejaVuSans-75\" d=\"M 544 1381 \nL 544 3500 \nL 1119 3500 \nL 1119 1403 \nQ 1119 906 1312 657 \nQ 1506 409 1894 409 \nQ 2359 409 2629 706 \nQ 2900 1003 2900 1516 \nL 2900 3500 \nL 3475 3500 \nL 3475 0 \nL 2900 0 \nL 2900 538 \nQ 2691 219 2414 64 \nQ 2138 -91 1772 -91 \nQ 1169 -91 856 284 \nQ 544 659 544 1381 \nz\nM 1991 3584 \nL 1991 3584 \nz\n\" transform=\"scale(0.015625)\"/>\n      <path id=\"DejaVuSans-e3\" d=\"M 2194 1759 \nQ 1497 1759 1228 1600 \nQ 959 1441 959 1056 \nQ 959 750 1161 570 \nQ 1363 391 1709 391 \nQ 2188 391 2477 730 \nQ 2766 1069 2766 1631 \nL 2766 1759 \nL 2194 1759 \nz\nM 3341 1997 \nL 3341 0 \nL 2766 0 \nL 2766 531 \nQ 2569 213 2275 61 \nQ 1981 -91 1556 -91 \nQ 1019 -91 701 211 \nQ 384 513 384 1019 \nQ 384 1609 779 1909 \nQ 1175 2209 1959 2209 \nL 2766 2209 \nL 2766 2266 \nQ 2766 2663 2505 2880 \nQ 2244 3097 1772 3097 \nQ 1472 3097 1187 3025 \nQ 903 2953 641 2809 \nL 641 3341 \nQ 956 3463 1253 3523 \nQ 1550 3584 1831 3584 \nQ 2591 3584 2966 3190 \nQ 3341 2797 3341 1997 \nz\nM 1844 4281 \nL 1665 4453 \nQ 1597 4516 1545 4545 \nQ 1494 4575 1453 4575 \nQ 1334 4575 1278 4461 \nQ 1222 4347 1215 4091 \nL 825 4091 \nQ 831 4513 990 4742 \nQ 1150 4972 1434 4972 \nQ 1553 4972 1653 4928 \nQ 1753 4884 1869 4781 \nL 2047 4609 \nQ 2115 4547 2167 4517 \nQ 2219 4488 2259 4488 \nQ 2378 4488 2434 4602 \nQ 2490 4716 2497 4972 \nL 2887 4972 \nQ 2881 4550 2721 4320 \nQ 2562 4091 2278 4091 \nQ 2159 4091 2059 4134 \nQ 1959 4178 1844 4281 \nz\n\" transform=\"scale(0.015625)\"/>\n     </defs>\n     <use xlink:href=\"#DejaVuSans-4d\"/>\n     <use xlink:href=\"#DejaVuSans-61\" x=\"86.279297\"/>\n     <use xlink:href=\"#DejaVuSans-74\" x=\"147.558594\"/>\n     <use xlink:href=\"#DejaVuSans-72\" x=\"186.767578\"/>\n     <use xlink:href=\"#DejaVuSans-69\" x=\"227.880859\"/>\n     <use xlink:href=\"#DejaVuSans-7a\" x=\"255.664062\"/>\n     <use xlink:href=\"#DejaVuSans-20\" x=\"308.154297\"/>\n     <use xlink:href=\"#DejaVuSans-64\" x=\"339.941406\"/>\n     <use xlink:href=\"#DejaVuSans-65\" x=\"403.417969\"/>\n     <use xlink:href=\"#DejaVuSans-20\" x=\"464.941406\"/>\n     <use xlink:href=\"#DejaVuSans-43\" x=\"496.728516\"/>\n     <use xlink:href=\"#DejaVuSans-6f\" x=\"566.552734\"/>\n     <use xlink:href=\"#DejaVuSans-6e\" x=\"627.734375\"/>\n     <use xlink:href=\"#DejaVuSans-66\" x=\"691.113281\"/>\n     <use xlink:href=\"#DejaVuSans-75\" x=\"726.318359\"/>\n     <use xlink:href=\"#DejaVuSans-73\" x=\"789.697266\"/>\n     <use xlink:href=\"#DejaVuSans-e3\" x=\"841.796875\"/>\n     <use xlink:href=\"#DejaVuSans-6f\" x=\"903.076172\"/>\n    </g>\n   </g>\n  </g>\n  <g id=\"axes_2\">\n   <g id=\"patch_7\">\n    <path d=\"M 482.131125 555.48 \nL 509.545125 555.48 \nL 509.545125 7.2 \nL 482.131125 7.2 \nz\n\" style=\"fill: #ffffff\"/>\n   </g>\n   <image xlink:href=\"data:image/png;base64,\niVBORw0KGgoAAAANSUhEUgAAACYAAAL6CAYAAABaXiTTAAAE2klEQVR4nO2dMZICMRDEDDX//y4BVTYfYANFViC9QOWh3V5zy70+33OWkPdtgSe0YuMcpHjFtGJzlnOW2hXTio10kt4V04qNdJLeFdOK1ZUUrVhdSdGK1ZUUrVhdSdGK1ZUUrVhdSdGKlUpKYpTEKKWSohWrKylasVJJ0Yr1XEnRinXbQ9GK1ZUUrVhdSdGK1ZUUrVhdSdGK1ZUUrVhdSdGK1ZUUrVippGjFZtWVjD78FK1YlUTRipVKilasxzeKVqxLFYpWrK6kaMXqSopWrK6kaMXqSopWrK6kaMXqSopWrK6kaMXqSopWrK6kaMXqSopWrK6kaMXqSopWrK6kaMXqSopWrK6kaMXqSopWrK6kaMXqSopWrK6kaMXqSopWrK6kaMXqSopWrK6kaMXqSopWrK6kaMXqSopWrK6kaMXqSopWrK6kaMXqSopWrK6kaMXqSopWrK6kaMVmS8vSu2LO9RKvmFasgyJFK9ZBkaIVm+2cpHfFtGKlkqIVqyspWrFSSdGK1ZUUrVippGjF6kqKVqxRUrRis9tgGVqxUknRinXsoWjFSiVFK1ZXUrRipZKiFeurZ4pWbI40ltoV04rNvm3wgHbFtGKlkqIVqyspWrFSSdGK1ZUUrVippGjFuiKgaMU69lC0Yr2aQdGKlUqKVqxjD0Ur1sMIRSvWCZaiFevYQ9GKlUqKVqxUUrRivTNC0Yq1wVK0Yv3FHUUrViopVRJFK9ZBkaIVax+jaMXaYClasb6AoGjFSiVFK9YoKVqx3kilaMVKJUUr1sMIRSvWFQFFK9YGS9GKtcFStGJtsBStWKmkaMX6c1OKVqwNlqIVa4OlaMV6GKFoxfqSi6IVK5UUrVijpGjF2mApWrGeKylasVJJ0Yr1XEnRinXbQ9GKlUqKVqyupGjFSiVFK1ZXUrRi/WgVRStWV1K0Yt3BUrRipZKiFesES9GKlUqKVqyupGjFSiVFK9ZzJaVLFYpWrIMiRStWJVG0YqWSohWrKylasVJJ0YrVlRStWJcqFK1Yv3RE0YrVlRStWF1J0YrVlRStWKmkaMXqSopWrNseilasVFK0YnUlRStWKilasVJJ0YqVSopWrFRStGKNkqIVa4OlaMVKJUUrViopWrFSSdGKlUqKVqxUUrRipZKiFSuVFK1YqaRoxUolRStWKilasVJJ0YqVSopWrFRStGKNkqIVa4OlaMVKJaUPP0UrNlv6mo12xbRipZKiFauSKFqxUknRipVKilasVFK0YqWSohVrlBSt2Eh/Hce7YlqxUknRijVKilasUVK0Yo2SohXr2EPRipVKilasUVK0Yo2SohWrKylasVJJ0Yo1SopWrFFStGKNkqIV69hD0YqVSopWrFFStGKNkqIVqyspWrFSSdGKNUqKVqxRUrRijZKiFevYQ9GKlUqKVqxRUrRijZKiFWuUFK1Yxx6KVqxUUrRijZIyqxVjaMVmnX3b4S/aFdOKlUqKVqxUUrRipZKiFSuVFK1Yo6RoxdpgKVqxUknRipVKilasVFK0YqWSohUrlRStWKmkaMVKJUUrViopWrFSSdGKzerfeTC0YqWSohVrlBStWMceilasVFK0YqWSohUrlRStWKmkaMVKJUUrViopWrFSSdGKlUqKVqxUUrRipZKiFSuVFK3YD3FAHrA37xvPAAAAAElFTkSuQmCC\" id=\"imageaae3368f22\" transform=\"scale(1 -1) translate(0 -548.64)\" x=\"482.4\" y=\"-6.48\" width=\"27.36\" height=\"548.64\"/>\n   <g id=\"matplotlib.axis_3\"/>\n   <g id=\"matplotlib.axis_4\">\n    <g id=\"ytick_11\">\n     <g id=\"line2d_21\">\n      <defs>\n       <path id=\"mb2b59b83f6\" d=\"M 0 0 \nL 3.5 0 \n\" style=\"stroke: #000000; stroke-width: 0.8\"/>\n      </defs>\n      <g>\n       <use xlink:href=\"#mb2b59b83f6\" x=\"509.545125\" y=\"555.48\" style=\"stroke: #000000; stroke-width: 0.8\"/>\n      </g>\n     </g>\n     <g id=\"text_124\">\n      <!-- 0 -->\n      <g transform=\"translate(516.545125 559.279219) scale(0.1 -0.1)\">\n       <use xlink:href=\"#DejaVuSans-30\"/>\n      </g>\n     </g>\n    </g>\n    <g id=\"ytick_12\">\n     <g id=\"line2d_22\">\n      <g>\n       <use xlink:href=\"#mb2b59b83f6\" x=\"509.545125\" y=\"458.008\" style=\"stroke: #000000; stroke-width: 0.8\"/>\n      </g>\n     </g>\n     <g id=\"text_125\">\n      <!-- 200 -->\n      <g transform=\"translate(516.545125 461.807219) scale(0.1 -0.1)\">\n       <use xlink:href=\"#DejaVuSans-32\"/>\n       <use xlink:href=\"#DejaVuSans-30\" x=\"63.623047\"/>\n       <use xlink:href=\"#DejaVuSans-30\" x=\"127.246094\"/>\n      </g>\n     </g>\n    </g>\n    <g id=\"ytick_13\">\n     <g id=\"line2d_23\">\n      <g>\n       <use xlink:href=\"#mb2b59b83f6\" x=\"509.545125\" y=\"360.536\" style=\"stroke: #000000; stroke-width: 0.8\"/>\n      </g>\n     </g>\n     <g id=\"text_126\">\n      <!-- 400 -->\n      <g transform=\"translate(516.545125 364.335219) scale(0.1 -0.1)\">\n       <use xlink:href=\"#DejaVuSans-34\"/>\n       <use xlink:href=\"#DejaVuSans-30\" x=\"63.623047\"/>\n       <use xlink:href=\"#DejaVuSans-30\" x=\"127.246094\"/>\n      </g>\n     </g>\n    </g>\n    <g id=\"ytick_14\">\n     <g id=\"line2d_24\">\n      <g>\n       <use xlink:href=\"#mb2b59b83f6\" x=\"509.545125\" y=\"263.064\" style=\"stroke: #000000; stroke-width: 0.8\"/>\n      </g>\n     </g>\n     <g id=\"text_127\">\n      <!-- 600 -->\n      <g transform=\"translate(516.545125 266.863219) scale(0.1 -0.1)\">\n       <use xlink:href=\"#DejaVuSans-36\"/>\n       <use xlink:href=\"#DejaVuSans-30\" x=\"63.623047\"/>\n       <use xlink:href=\"#DejaVuSans-30\" x=\"127.246094\"/>\n      </g>\n     </g>\n    </g>\n    <g id=\"ytick_15\">\n     <g id=\"line2d_25\">\n      <g>\n       <use xlink:href=\"#mb2b59b83f6\" x=\"509.545125\" y=\"165.592\" style=\"stroke: #000000; stroke-width: 0.8\"/>\n      </g>\n     </g>\n     <g id=\"text_128\">\n      <!-- 800 -->\n      <g transform=\"translate(516.545125 169.391219) scale(0.1 -0.1)\">\n       <use xlink:href=\"#DejaVuSans-38\"/>\n       <use xlink:href=\"#DejaVuSans-30\" x=\"63.623047\"/>\n       <use xlink:href=\"#DejaVuSans-30\" x=\"127.246094\"/>\n      </g>\n     </g>\n    </g>\n    <g id=\"ytick_16\">\n     <g id=\"line2d_26\">\n      <g>\n       <use xlink:href=\"#mb2b59b83f6\" x=\"509.545125\" y=\"68.12\" style=\"stroke: #000000; stroke-width: 0.8\"/>\n      </g>\n     </g>\n     <g id=\"text_129\">\n      <!-- 1000 -->\n      <g transform=\"translate(516.545125 71.919219) scale(0.1 -0.1)\">\n       <use xlink:href=\"#DejaVuSans-31\"/>\n       <use xlink:href=\"#DejaVuSans-30\" x=\"63.623047\"/>\n       <use xlink:href=\"#DejaVuSans-30\" x=\"127.246094\"/>\n       <use xlink:href=\"#DejaVuSans-30\" x=\"190.869141\"/>\n      </g>\n     </g>\n    </g>\n   </g>\n   <g id=\"LineCollection_1\"/>\n   <g id=\"patch_8\">\n    <path d=\"M 482.131125 555.48 \nL 495.838125 555.48 \nL 509.545125 555.48 \nL 509.545125 7.2 \nL 495.838125 7.2 \nL 482.131125 7.2 \nL 482.131125 555.48 \nz\n\" style=\"fill: none; stroke: #000000; stroke-width: 0.8; stroke-linejoin: miter; stroke-linecap: square\"/>\n   </g>\n  </g>\n </g>\n <defs>\n  <clipPath id=\"p9be3614981\">\n   <rect x=\"34.240625\" y=\"70.568\" width=\"421.544\" height=\"421.544\"/>\n  </clipPath>\n </defs>\n</svg>\n"
          },
          "metadata": {}
        }
      ],
      "source": [
        "# Escolher modelo a ser usado (neste caso o 2e1)\n",
        "model = model_2e1\n",
        "\n",
        "# Obter rótulos e predições\n",
        "y_true, y_pred = get_predictions_and_labels(val_dataloader, model)\n",
        "\n",
        "# Calcular a matriz de confusão\n",
        "matriz_confusao = calculate_confusion_matrix(y_true, y_pred, num_classes=10)\n",
        "\n",
        "# Plotar a matriz de confusão\n",
        "classes = [str(i) for i in range(10)]  # Nomes das classes\n",
        "plot_confusion_matrix(matriz_confusao, classes)"
      ]
    },
    {
      "cell_type": "markdown",
      "id": "cefcbbd9",
      "metadata": {
        "id": "cefcbbd9"
      },
      "source": [
        "Na Matriz de Confusão, conseguimos perceber alguns padrões nos casos mais frequentes de \"confusão\". Isto acontece principalmente pela maior similaridade visual entre o caso real e o caso preditado."
      ]
    }
  ],
  "metadata": {
    "kernelspec": {
      "display_name": "Python 3",
      "name": "python3"
    },
    "language_info": {
      "codemirror_mode": {
        "name": "ipython",
        "version": 3
      },
      "file_extension": ".py",
      "mimetype": "text/x-python",
      "name": "python",
      "nbconvert_exporter": "python",
      "pygments_lexer": "ipython3",
      "version": "3.9.20"
    },
    "colab": {
      "provenance": [],
      "gpuType": "T4",
      "include_colab_link": true
    },
    "accelerator": "GPU"
  },
  "nbformat": 4,
  "nbformat_minor": 5
}