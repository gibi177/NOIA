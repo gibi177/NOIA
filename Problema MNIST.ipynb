{
 "cells": [
  {
   "cell_type": "markdown",
   "id": "a971a3d3-7e54-4857-b586-ae8e9185d459",
   "metadata": {},
   "source": [
    "# Perceptron Multicamada no problema MNIST\n",
    "\n",
    "\n",
    "\n",
    "### Disciplina: Noções de Inteligência Artificial - 2/2024\n",
    "### Alunos: Felipe Lopes Gibin Duarte e Matheus das Neves Fernandes"
   ]
  },
  {
   "cell_type": "markdown",
   "id": "609b846b-914d-45ed-9ab3-56cabe9e764d",
   "metadata": {},
   "source": [
    "## Introdução\n",
    "\n",
    "\n",
    "Este trabalho implementa um Perceptron Multicamada (MLP) para resolver o problema de classificação de dígitos manuscritos do conjunto de dados MNIST. Foram exploradas diferentes arquiteturas e técnicas de treinamento, avaliando o desempenho de cada abordagem.\n"
   ]
  },
  {
   "cell_type": "markdown",
   "id": "67f0d6a8-dba9-499a-94b6-64105e3a979d",
   "metadata": {},
   "source": [
    "## 1. Preparação do Ambiente\n",
    "Nesta seção, importamos as bibliotecas necessárias, carregamos o conjunto de dados MNIST e preparamos o dataloader\n"
   ]
  },
  {
   "cell_type": "markdown",
   "id": "851610da-d527-4451-acca-bb277142e713",
   "metadata": {},
   "source": [
    "### 1.1. Importação de Bibliotecas"
   ]
  },
  {
   "cell_type": "code",
   "execution_count": 34,
   "id": "0f1e7510-02f8-4e3d-97f7-8ff9cf365acd",
   "metadata": {},
   "outputs": [],
   "source": [
    "import tensorflow as tf\n",
    "from d2l import tensorflow as d2l\n",
    "d2l.use_svg_display()\n",
    "import pdb\n",
    "import matplotlib.pyplot as plt\n",
    "from sklearn.metrics import confusion_matrix"
   ]
  },
  {
   "cell_type": "markdown",
   "id": "969181bc-08a5-4d52-9bad-b319cf9aa3fd",
   "metadata": {},
   "source": [
    "### 1.2. Carregamento e Pré-processamento dos Dados"
   ]
  },
  {
   "cell_type": "code",
   "execution_count": 35,
   "id": "ab451f9d-c09c-450e-97b3-5cbc5e27ac75",
   "metadata": {},
   "outputs": [],
   "source": [
    "class MNIST(d2l.DataModule):  # @save\n",
    "    \"\"\"O dataset MNIST.\"\"\"\n",
    "    \n",
    "    def __init__(self, batch_size=64):\n",
    "        super().__init__()\n",
    "        self.save_hyperparameters()\n",
    "        self.train, self.val = tf.keras.datasets.mnist.load_data()\n",
    "        \n",
    "    def get_dataloader(self, train):\n",
    "        data = self.train if train else self.val\n",
    "        process = lambda X, y: (tf.expand_dims(X, axis=3) / 255,tf.cast(y, dtype='int32'))\n",
    "        resize_fn = lambda X, y: (tf.image.resize_with_pad(X,*self.resize), y)\n",
    "        shuffle_buf = len(data[0]) if train else 1\n",
    "        return tf.data.Dataset.from_tensor_slices(process(*data)).batch(self.batch_size).shuffle(shuffle_buf)\n",
    "\n",
    "#Instancia o dataset\n",
    "data = MNIST()"
   ]
  },
  {
   "cell_type": "code",
   "execution_count": 36,
   "id": "891a4130-3c9d-4aea-96da-608be3d66629",
   "metadata": {},
   "outputs": [
    {
     "name": "stdout",
     "output_type": "stream",
     "text": [
      "60000 10000\n",
      "(60000, 28, 28)\n"
     ]
    }
   ],
   "source": [
    "# Verifica o número de exemplos e formato dos dados\n",
    "print(len(data.train[0]), len(data.val[0]))\n",
    "print(data.train[0].shape)"
   ]
  },
  {
   "cell_type": "code",
   "execution_count": 37,
   "id": "9486fb87-53c5-43e3-a9de-1ff9826bd9ef",
   "metadata": {},
   "outputs": [
    {
     "name": "stdout",
     "output_type": "stream",
     "text": [
      "(64, 28, 28, 1) <dtype: 'float32'> (64,) <dtype: 'int32'>\n"
     ]
    }
   ],
   "source": [
    "#Verifica um minibatch\n",
    "X, y = next(iter(data.train_dataloader()))\n",
    "print(X.shape, X.dtype, y.shape, y.dtype)"
   ]
  },
  {
   "cell_type": "markdown",
   "id": "12d47a4b-8b06-4edd-bc02-6d67ff2fef81",
   "metadata": {},
   "source": [
    "## 2. Modelos e Arquiteturas\n",
    "Nesta seção, implementamos diferentes arquiteturas e técnicas de treinamento para o MLP, avaliando o impacto no desempenho.\n"
   ]
  },
  {
   "cell_type": "markdown",
   "id": "8b9a48e8-ed7f-494e-8670-d284e4937461",
   "metadata": {},
   "source": [
    "### 2a. Perceptron com uma Camada Escondida, Função Logística, Custo SSE e Descida de Gradiente\n"
   ]
  },
  {
   "cell_type": "code",
   "execution_count": 38,
   "id": "e3d31652-5c50-4067-88fe-8d1b6f448057",
   "metadata": {},
   "outputs": [],
   "source": [
    "# Converte os rótulos para One-Hot\n",
    "def preprocess_labels(dataset):\n",
    "    return dataset.map(lambda X, y: (X, tf.one_hot(y, depth=10)))\n",
    "\n",
    "# Prepara os dados para treinamento com os rotulos processados\n",
    "train_dataloader = preprocess_labels(data.get_dataloader(train=True))\n",
    "val_dataloader = preprocess_labels(data.get_dataloader(train=False))"
   ]
  },
  {
   "cell_type": "code",
   "execution_count": 39,
   "id": "b2020b2f",
   "metadata": {},
   "outputs": [
    {
     "name": "stdout",
     "output_type": "stream",
     "text": [
      "Epoch 1/10\n",
      "\u001b[1m938/938\u001b[0m \u001b[32m━━━━━━━━━━━━━━━━━━━━\u001b[0m\u001b[37m\u001b[0m \u001b[1m5s\u001b[0m 5ms/step - accuracy: 0.2086 - loss: 0.1028 - val_accuracy: 0.3573 - val_loss: 0.0841\n",
      "Epoch 2/10\n",
      "\u001b[1m938/938\u001b[0m \u001b[32m━━━━━━━━━━━━━━━━━━━━\u001b[0m\u001b[37m\u001b[0m \u001b[1m4s\u001b[0m 5ms/step - accuracy: 0.4097 - loss: 0.0820 - val_accuracy: 0.5618 - val_loss: 0.0749\n",
      "Epoch 3/10\n",
      "\u001b[1m938/938\u001b[0m \u001b[32m━━━━━━━━━━━━━━━━━━━━\u001b[0m\u001b[37m\u001b[0m \u001b[1m4s\u001b[0m 4ms/step - accuracy: 0.5874 - loss: 0.0728 - val_accuracy: 0.6709 - val_loss: 0.0653\n",
      "Epoch 4/10\n",
      "\u001b[1m938/938\u001b[0m \u001b[32m━━━━━━━━━━━━━━━━━━━━\u001b[0m\u001b[37m\u001b[0m \u001b[1m4s\u001b[0m 4ms/step - accuracy: 0.6846 - loss: 0.0635 - val_accuracy: 0.7332 - val_loss: 0.0571\n",
      "Epoch 5/10\n",
      "\u001b[1m938/938\u001b[0m \u001b[32m━━━━━━━━━━━━━━━━━━━━\u001b[0m\u001b[37m\u001b[0m \u001b[1m4s\u001b[0m 4ms/step - accuracy: 0.7273 - loss: 0.0560 - val_accuracy: 0.7748 - val_loss: 0.0507\n",
      "Epoch 6/10\n",
      "\u001b[1m938/938\u001b[0m \u001b[32m━━━━━━━━━━━━━━━━━━━━\u001b[0m\u001b[37m\u001b[0m \u001b[1m4s\u001b[0m 4ms/step - accuracy: 0.7673 - loss: 0.0499 - val_accuracy: 0.7954 - val_loss: 0.0460\n",
      "Epoch 7/10\n",
      "\u001b[1m938/938\u001b[0m \u001b[32m━━━━━━━━━━━━━━━━━━━━\u001b[0m\u001b[37m\u001b[0m \u001b[1m4s\u001b[0m 4ms/step - accuracy: 0.7885 - loss: 0.0454 - val_accuracy: 0.8161 - val_loss: 0.0423\n",
      "Epoch 8/10\n",
      "\u001b[1m938/938\u001b[0m \u001b[32m━━━━━━━━━━━━━━━━━━━━\u001b[0m\u001b[37m\u001b[0m \u001b[1m4s\u001b[0m 4ms/step - accuracy: 0.8066 - loss: 0.0423 - val_accuracy: 0.8341 - val_loss: 0.0393\n",
      "Epoch 9/10\n",
      "\u001b[1m938/938\u001b[0m \u001b[32m━━━━━━━━━━━━━━━━━━━━\u001b[0m\u001b[37m\u001b[0m \u001b[1m5s\u001b[0m 5ms/step - accuracy: 0.8232 - loss: 0.0394 - val_accuracy: 0.8416 - val_loss: 0.0369\n",
      "Epoch 10/10\n",
      "\u001b[1m938/938\u001b[0m \u001b[32m━━━━━━━━━━━━━━━━━━━━\u001b[0m\u001b[37m\u001b[0m \u001b[1m4s\u001b[0m 4ms/step - accuracy: 0.8302 - loss: 0.0375 - val_accuracy: 0.8528 - val_loss: 0.0348\n"
     ]
    },
    {
     "data": {
      "text/plain": [
       "<keras.src.callbacks.history.History at 0x7c88cc515d30>"
      ]
     },
     "execution_count": 39,
     "metadata": {},
     "output_type": "execute_result"
    }
   ],
   "source": [
    "model = tf.keras.Sequential([ \n",
    "    tf.keras.layers.Flatten(),  #Transforma a entrada (28x28) em vetor (784)\n",
    "    tf.keras.layers.Dense(128, activation='sigmoid'),   #Camada escondida\n",
    "    tf.keras.layers.Dense(10, activation='sigmoid')  #Camada de saída\n",
    "])   \n",
    "\n",
    "model.compile(\n",
    "    optimizer=tf.keras.optimizers.SGD(learning_rate = 0.1),   #Descida por gradiente\n",
    "    loss=tf.keras.losses.MeanSquaredError(),  #Erro quadrático médio\n",
    "    metrics=['accuracy']\n",
    ")\n",
    "\n",
    "model.fit(\n",
    "    train_dataloader,               # Dados de treinamento\n",
    "    epochs=10,                       # Número de épocas\n",
    "    validation_data=val_dataloader  # Dados de validação\n",
    ")"
   ]
  },
  {
   "cell_type": "markdown",
   "id": "eb50054d-6805-4eec-8dec-461a143bb292",
   "metadata": {},
   "source": [
    "### 2b. Saída do tipo softmax, custo \"entropia cruzada\""
   ]
  },
  {
   "cell_type": "code",
   "execution_count": 40,
   "id": "891e1260-385f-414f-95e0-ee17aa8f7564",
   "metadata": {},
   "outputs": [],
   "source": [
    "# Prepara os dados de treinamento sem conversão para One-Hot\n",
    "train_dataloader = data.get_dataloader(train=True)\n",
    "val_dataloader = data.get_dataloader(train=False)"
   ]
  },
  {
   "cell_type": "code",
   "execution_count": 41,
   "id": "3b53ff9c-dc20-43ba-a113-bc4601a0da89",
   "metadata": {},
   "outputs": [
    {
     "name": "stdout",
     "output_type": "stream",
     "text": [
      "Epoch 1/10\n",
      "\u001b[1m938/938\u001b[0m \u001b[32m━━━━━━━━━━━━━━━━━━━━\u001b[0m\u001b[37m\u001b[0m \u001b[1m5s\u001b[0m 4ms/step - accuracy: 0.7253 - loss: 1.1301 - val_accuracy: 0.8986 - val_loss: 0.3755\n",
      "Epoch 2/10\n",
      "\u001b[1m938/938\u001b[0m \u001b[32m━━━━━━━━━━━━━━━━━━━━\u001b[0m\u001b[37m\u001b[0m \u001b[1m4s\u001b[0m 4ms/step - accuracy: 0.8975 - loss: 0.3717 - val_accuracy: 0.9135 - val_loss: 0.3106\n",
      "Epoch 3/10\n",
      "\u001b[1m938/938\u001b[0m \u001b[32m━━━━━━━━━━━━━━━━━━━━\u001b[0m\u001b[37m\u001b[0m \u001b[1m4s\u001b[0m 4ms/step - accuracy: 0.9094 - loss: 0.3169 - val_accuracy: 0.9173 - val_loss: 0.2844\n",
      "Epoch 4/10\n",
      "\u001b[1m938/938\u001b[0m \u001b[32m━━━━━━━━━━━━━━━━━━━━\u001b[0m\u001b[37m\u001b[0m \u001b[1m4s\u001b[0m 4ms/step - accuracy: 0.9188 - loss: 0.2890 - val_accuracy: 0.9226 - val_loss: 0.2643\n",
      "Epoch 5/10\n",
      "\u001b[1m938/938\u001b[0m \u001b[32m━━━━━━━━━━━━━━━━━━━━\u001b[0m\u001b[37m\u001b[0m \u001b[1m4s\u001b[0m 4ms/step - accuracy: 0.9250 - loss: 0.2607 - val_accuracy: 0.9294 - val_loss: 0.2470\n",
      "Epoch 6/10\n",
      "\u001b[1m938/938\u001b[0m \u001b[32m━━━━━━━━━━━━━━━━━━━━\u001b[0m\u001b[37m\u001b[0m \u001b[1m4s\u001b[0m 4ms/step - accuracy: 0.9300 - loss: 0.2465 - val_accuracy: 0.9317 - val_loss: 0.2355\n",
      "Epoch 7/10\n",
      "\u001b[1m938/938\u001b[0m \u001b[32m━━━━━━━━━━━━━━━━━━━━\u001b[0m\u001b[37m\u001b[0m \u001b[1m4s\u001b[0m 4ms/step - accuracy: 0.9329 - loss: 0.2312 - val_accuracy: 0.9359 - val_loss: 0.2239\n",
      "Epoch 8/10\n",
      "\u001b[1m938/938\u001b[0m \u001b[32m━━━━━━━━━━━━━━━━━━━━\u001b[0m\u001b[37m\u001b[0m \u001b[1m4s\u001b[0m 4ms/step - accuracy: 0.9365 - loss: 0.2243 - val_accuracy: 0.9367 - val_loss: 0.2136\n",
      "Epoch 9/10\n",
      "\u001b[1m938/938\u001b[0m \u001b[32m━━━━━━━━━━━━━━━━━━━━\u001b[0m\u001b[37m\u001b[0m \u001b[1m4s\u001b[0m 5ms/step - accuracy: 0.9401 - loss: 0.2088 - val_accuracy: 0.9419 - val_loss: 0.2003\n",
      "Epoch 10/10\n",
      "\u001b[1m938/938\u001b[0m \u001b[32m━━━━━━━━━━━━━━━━━━━━\u001b[0m\u001b[37m\u001b[0m \u001b[1m4s\u001b[0m 4ms/step - accuracy: 0.9439 - loss: 0.1976 - val_accuracy: 0.9441 - val_loss: 0.1911\n"
     ]
    },
    {
     "data": {
      "text/plain": [
       "<keras.src.callbacks.history.History at 0x7c88cc3d1ca0>"
      ]
     },
     "execution_count": 41,
     "metadata": {},
     "output_type": "execute_result"
    }
   ],
   "source": [
    "model = tf.keras.Sequential([ \n",
    "    tf.keras.layers.Flatten(),  #Transforma a entrada (28x28) em vetor (784)\n",
    "    tf.keras.layers.Dense(128, activation='sigmoid'),   #Camada escondida\n",
    "    tf.keras.layers.Dense(10, activation='softmax')  #Camada de saída\n",
    "])   \n",
    "\n",
    "model.compile(\n",
    "    optimizer=tf.keras.optimizers.SGD(learning_rate = 0.1),   #Descida por gradiente\n",
    "    loss=tf.keras.losses.SparseCategoricalCrossentropy(),  #Entropia cruzada\n",
    "    metrics=['accuracy']\n",
    ")\n",
    "\n",
    "model.fit(\n",
    "    train_dataloader,               # Dados de treinamento\n",
    "    epochs=10,                      # Número de épocas\n",
    "    validation_data=val_dataloader  # Dados de validação\n",
    ")"
   ]
  },
  {
   "cell_type": "code",
   "execution_count": null,
   "id": "3e63e31c-7fbd-4e88-a965-338be70b741a",
   "metadata": {},
   "outputs": [],
   "source": []
  }
 ],
 "metadata": {
  "kernelspec": {
   "display_name": "Python 3 (ipykernel)",
   "language": "python",
   "name": "python3"
  },
  "language_info": {
   "codemirror_mode": {
    "name": "ipython",
    "version": 3
   },
   "file_extension": ".py",
   "mimetype": "text/x-python",
   "name": "python",
   "nbconvert_exporter": "python",
   "pygments_lexer": "ipython3",
   "version": "3.9.20"
  }
 },
 "nbformat": 4,
 "nbformat_minor": 5
}
