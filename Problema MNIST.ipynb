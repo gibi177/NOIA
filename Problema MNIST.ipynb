{
 "cells": [
  {
   "cell_type": "markdown",
   "id": "a971a3d3-7e54-4857-b586-ae8e9185d459",
   "metadata": {},
   "source": [
    "# Perceptron Multicamada no problema MNIST\n",
    "\n",
    "\n",
    "\n",
    "### Disciplina: Noções de Inteligência Artificial - 2/2024\n",
    "### Alunos: Felipe Lopes Gibin Duarte e Matheus das Neves Fernandes"
   ]
  },
  {
   "cell_type": "markdown",
   "id": "609b846b-914d-45ed-9ab3-56cabe9e764d",
   "metadata": {},
   "source": [
    "## Introdução\n",
    "\n",
    "\n",
    "Este trabalho implementa um Perceptron Multicamada (MLP) para resolver o problema de classificação de dígitos manuscritos do conjunto de dados MNIST. Foram exploradas diferentes arquiteturas e técnicas de treinamento, avaliando o desempenho de cada abordagem.\n"
   ]
  },
  {
   "cell_type": "markdown",
   "id": "67f0d6a8-dba9-499a-94b6-64105e3a979d",
   "metadata": {},
   "source": [
    "## 1. Preparação do Ambiente\n",
    "Nesta seção, importamos as bibliotecas necessárias, carregamos o conjunto de dados MNIST e preparamos o dataloader\n"
   ]
  },
  {
   "cell_type": "markdown",
   "id": "851610da-d527-4451-acca-bb277142e713",
   "metadata": {},
   "source": [
    "### 1.1. Importação de Bibliotecas"
   ]
  },
  {
   "cell_type": "code",
   "execution_count": null,
   "id": "0f1e7510-02f8-4e3d-97f7-8ff9cf365acd",
   "metadata": {},
   "outputs": [],
   "source": [
    "import tensorflow as tf\n",
    "from d2l import tensorflow as d2l\n",
    "d2l.use_svg_display()\n",
    "import pdb\n",
    "import matplotlib.pyplot as plt\n",
    "from sklearn.metrics import confusion_matrix"
   ]
  },
  {
   "cell_type": "markdown",
   "id": "969181bc-08a5-4d52-9bad-b319cf9aa3fd",
   "metadata": {},
   "source": [
    "### 1.2. Carregamento e Pré-processamento dos Dados"
   ]
  },
  {
   "cell_type": "code",
   "execution_count": 6,
   "id": "ab451f9d-c09c-450e-97b3-5cbc5e27ac75",
   "metadata": {},
   "outputs": [
    {
     "name": "stdout",
     "output_type": "stream",
     "text": [
      "60000 10000\n",
      "(60000, 28, 28)\n"
     ]
    }
   ],
   "source": [
    "class MNIST(d2l.DataModule):  # @save\n",
    "    \"\"\"O dataset MNIST.\"\"\"\n",
    "    def __init__(self, batch_size=64):\n",
    "        super().__init__()\n",
    "        self.save_hyperparameters()\n",
    "        self.train, self.val = tf.keras.datasets.mnist.load_data()\n",
    "data = MNIST()\n",
    "\n",
    "print(len(data.train[0]), len(data.val[0]))\n",
    "print(data.train[0].shape)"
   ]
  },
  {
   "cell_type": "markdown",
   "id": "6cdb7106-fa5d-4f29-9229-002ecc6ce44b",
   "metadata": {},
   "source": [
    "### 1.3. Visualização Inicial dos Dados"
   ]
  },
  {
   "cell_type": "code",
   "execution_count": 9,
   "id": "f9c55b8e-ec90-40fb-8b1a-e1504bf6d3f1",
   "metadata": {},
   "outputs": [],
   "source": [
    "@d2l.add_to_class(MNIST) #@save\n",
    "\n",
    "def get_dataloader(self, train):\n",
    "    data = self.train if train else self.val\n",
    "    process = lambda X, y: (tf.expand_dims(X, axis=3) / 255,tf.cast(y, dtype='int32'))\n",
    "    resize_fn = lambda X, y: (tf.image.resize_with_pad(X,*self.resize), y)\n",
    "    shuffle_buf = len(data[0]) if train else 1\n",
    "    return tf.data.Dataset.from_tensor_slices(process(*data)).batch(self.batch_size).shuffle(shuffle_buf)"
   ]
  },
  {
   "cell_type": "code",
   "execution_count": 11,
   "id": "60b0b6ee-387e-4409-906b-f9f93bedc466",
   "metadata": {},
   "outputs": [
    {
     "name": "stdout",
     "output_type": "stream",
     "text": [
      "(64, 28, 28, 1) <dtype: 'float32'> (64,) <dtype: 'int32'>\n"
     ]
    }
   ],
   "source": [
    "X, y = next(iter(data.train_dataloader()))\n",
    "print(X.shape, X.dtype, y.shape, y.dtype)"
   ]
  },
  {
   "cell_type": "markdown",
   "id": "12d47a4b-8b06-4edd-bc02-6d67ff2fef81",
   "metadata": {},
   "source": [
    "## 2. Modelos e Arquiteturas\n",
    "Nesta seção, implementamos diferentes arquiteturas e técnicas de treinamento para o MLP, avaliando o impacto no desempenho.\n"
   ]
  },
  {
   "cell_type": "markdown",
   "id": "8b9a48e8-ed7f-494e-8670-d284e4937461",
   "metadata": {},
   "source": [
    "### 2a. Perceptron com uma Camada Escondida, Função Logística, Custo SSE e Descida de Gradiente\n"
   ]
  },
  {
   "cell_type": "code",
   "execution_count": null,
   "id": "b2020b2f",
   "metadata": {},
   "outputs": [],
   "source": []
  }
 ],
 "metadata": {
  "kernelspec": {
   "display_name": "Python 3 (ipykernel)",
   "language": "python",
   "name": "python3"
  },
  "language_info": {
   "codemirror_mode": {
    "name": "ipython",
    "version": 3
   },
   "file_extension": ".py",
   "mimetype": "text/x-python",
   "name": "python",
   "nbconvert_exporter": "python",
   "pygments_lexer": "ipython3",
   "version": "3.9.20"
  }
 },
 "nbformat": 4,
 "nbformat_minor": 5
}
