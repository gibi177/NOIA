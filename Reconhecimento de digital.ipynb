{
  "nbformat": 4,
  "nbformat_minor": 0,
  "metadata": {
    "colab": {
      "provenance": [],
      "authorship_tag": "ABX9TyOL63NObjBePzLMTis61/EP",
      "include_colab_link": true
    },
    "kernelspec": {
      "name": "python3",
      "display_name": "Python 3"
    },
    "language_info": {
      "name": "python"
    }
  },
  "cells": [
    {
      "cell_type": "markdown",
      "metadata": {
        "id": "view-in-github",
        "colab_type": "text"
      },
      "source": [
        "<a href=\"https://colab.research.google.com/github/gibi177/NOIA/blob/main/Reconhecimento%20de%20digital.ipynb\" target=\"_parent\"><img src=\"https://colab.research.google.com/assets/colab-badge.svg\" alt=\"Open In Colab\"/></a>"
      ]
    },
    {
      "cell_type": "markdown",
      "source": [
        "# Reconhecimento de digital"
      ],
      "metadata": {
        "id": "M5DOf49QmYl1"
      }
    },
    {
      "cell_type": "markdown",
      "source": [
        "## Trabalho final da disciplina Noções de Inteligência Artificial - 2/2024\n",
        "## Alunos: Felipe Lopes Gibin Duarte (231025207) e Matheus das Neves Fernandes (231013672)\n"
      ],
      "metadata": {
        "id": "cTQRct8PmSaH"
      }
    },
    {
      "cell_type": "markdown",
      "source": [
        "## Introdução"
      ],
      "metadata": {
        "id": "DqAGD9sPmfdv"
      }
    }
  ]
}