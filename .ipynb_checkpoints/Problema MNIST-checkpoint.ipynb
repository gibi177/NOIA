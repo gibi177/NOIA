{
 "cells": [
  {
   "cell_type": "markdown",
   "id": "a971a3d3-7e54-4857-b586-ae8e9185d459",
   "metadata": {},
   "source": [
    "# Perceptron Multicamada no problema MNIST\n",
    "\n",
    "\n",
    "\n",
    "### Disciplina: Noções de Inteligência Artificial - 2/2024\n",
    "### Alunos: Felipe Lopes Gibin Duarte e Matheus das Neves Fernandes"
   ]
  },
  {
   "cell_type": "markdown",
   "id": "609b846b-914d-45ed-9ab3-56cabe9e764d",
   "metadata": {},
   "source": [
    "## Introdução\n",
    "\n",
    "\n",
    "Este trabalho implementa um Perceptron Multicamada (MLP) para resolver o problema de classificação de dígitos manuscritos do conjunto de dados MNIST. Foram exploradas diferentes arquiteturas e técnicas de treinamento, avaliando o desempenho de cada abordagem.\n"
   ]
  },
  {
   "cell_type": "markdown",
   "id": "67f0d6a8-dba9-499a-94b6-64105e3a979d",
   "metadata": {},
   "source": [
    "## 1. Preparação do Ambiente\n",
    "Nesta seção, importamos as bibliotecas necessárias, carregamos o conjunto de dados MNIST e preparamos o dataloader\n"
   ]
  },
  {
   "cell_type": "markdown",
   "id": "851610da-d527-4451-acca-bb277142e713",
   "metadata": {},
   "source": [
    "### 1.1. Importação de Bibliotecas"
   ]
  },
  {
   "cell_type": "code",
   "execution_count": 9,
   "id": "0f1e7510-02f8-4e3d-97f7-8ff9cf365acd",
   "metadata": {},
   "outputs": [],
   "source": [
    "import tensorflow as tf\n",
    "from d2l import tensorflow as d2l\n",
    "d2l.use_svg_display()\n",
    "import pdb\n",
    "import matplotlib.pyplot as plt\n",
    "from sklearn.metrics import confusion_matrix"
   ]
  },
  {
   "cell_type": "markdown",
   "id": "969181bc-08a5-4d52-9bad-b319cf9aa3fd",
   "metadata": {},
   "source": [
    "### 1.2. Carregamento e Pré-processamento dos Dados"
   ]
  },
  {
   "cell_type": "code",
   "execution_count": 10,
   "id": "ab451f9d-c09c-450e-97b3-5cbc5e27ac75",
   "metadata": {},
   "outputs": [],
   "source": [
    "class MNIST(d2l.DataModule):  # @save\n",
    "    \"\"\"O dataset MNIST.\"\"\"\n",
    "    \n",
    "    def __init__(self, batch_size=64):\n",
    "        super().__init__()\n",
    "        self.save_hyperparameters()\n",
    "        self.train, self.val = tf.keras.datasets.mnist.load_data()\n",
    "        \n",
    "    def get_dataloader(self, train):\n",
    "        data = self.train if train else self.val\n",
    "        process = lambda X, y: (tf.expand_dims(X, axis=3) / 255,tf.cast(y, dtype='int32'))\n",
    "        resize_fn = lambda X, y: (tf.image.resize_with_pad(X,*self.resize), y)\n",
    "        shuffle_buf = len(data[0]) if train else 1\n",
    "        return tf.data.Dataset.from_tensor_slices(process(*data)).batch(self.batch_size).shuffle(shuffle_buf)\n",
    "\n",
    "#Instancia o dataset\n",
    "data = MNIST()"
   ]
  },
  {
   "cell_type": "code",
   "execution_count": 11,
   "id": "891a4130-3c9d-4aea-96da-608be3d66629",
   "metadata": {},
   "outputs": [
    {
     "name": "stdout",
     "output_type": "stream",
     "text": [
      "60000 10000\n",
      "(60000, 28, 28)\n"
     ]
    }
   ],
   "source": [
    "# Verifica o número de exemplos e formato dos dados\n",
    "print(len(data.train[0]), len(data.val[0]))\n",
    "print(data.train[0].shape)"
   ]
  },
  {
   "cell_type": "code",
   "execution_count": 12,
   "id": "9486fb87-53c5-43e3-a9de-1ff9826bd9ef",
   "metadata": {},
   "outputs": [
    {
     "name": "stdout",
     "output_type": "stream",
     "text": [
      "(64, 28, 28, 1) <dtype: 'float32'> (64,) <dtype: 'int32'>\n"
     ]
    }
   ],
   "source": [
    "#Verifica um minibatch\n",
    "X, y = next(iter(data.train_dataloader()))\n",
    "print(X.shape, X.dtype, y.shape, y.dtype)"
   ]
  },
  {
   "cell_type": "markdown",
   "id": "12d47a4b-8b06-4edd-bc02-6d67ff2fef81",
   "metadata": {},
   "source": [
    "## 2. Modelos e Arquiteturas\n",
    "Nesta seção, implementamos diferentes arquiteturas e técnicas de treinamento para o MLP, avaliando o impacto no desempenho.\n"
   ]
  },
  {
   "cell_type": "markdown",
   "id": "8b9a48e8-ed7f-494e-8670-d284e4937461",
   "metadata": {},
   "source": [
    "### 2a. Perceptron com uma Camada Escondida, Função Logística, Custo SSE e Descida de Gradiente\n"
   ]
  },
  {
   "cell_type": "code",
   "execution_count": 13,
   "id": "e3d31652-5c50-4067-88fe-8d1b6f448057",
   "metadata": {},
   "outputs": [],
   "source": [
    "# Converte os rótulos para One-Hot\n",
    "def preprocess_labels(dataset):\n",
    "    return dataset.map(lambda X, y: (X, tf.one_hot(y, depth=10)))\n",
    "\n",
    "# Prepara os dados para treinamento com os rotulos processados\n",
    "train_dataloader = preprocess_labels(data.get_dataloader(train=True))\n",
    "val_dataloader = preprocess_labels(data.get_dataloader(train=False))"
   ]
  },
  {
   "cell_type": "code",
   "execution_count": 14,
   "id": "b2020b2f",
   "metadata": {},
   "outputs": [
    {
     "name": "stdout",
     "output_type": "stream",
     "text": [
      "Epoch 1/10\n",
      "\u001b[1m938/938\u001b[0m \u001b[32m━━━━━━━━━━━━━━━━━━━━\u001b[0m\u001b[37m\u001b[0m \u001b[1m5s\u001b[0m 4ms/step - accuracy: 0.2348 - loss: 0.0994 - val_accuracy: 0.4401 - val_loss: 0.0839\n",
      "Epoch 2/10\n",
      "\u001b[1m938/938\u001b[0m \u001b[32m━━━━━━━━━━━━━━━━━━━━\u001b[0m\u001b[37m\u001b[0m \u001b[1m4s\u001b[0m 4ms/step - accuracy: 0.4623 - loss: 0.0820 - val_accuracy: 0.5819 - val_loss: 0.0750\n",
      "Epoch 3/10\n",
      "\u001b[1m938/938\u001b[0m \u001b[32m━━━━━━━━━━━━━━━━━━━━\u001b[0m\u001b[37m\u001b[0m \u001b[1m4s\u001b[0m 4ms/step - accuracy: 0.6047 - loss: 0.0727 - val_accuracy: 0.6725 - val_loss: 0.0653\n",
      "Epoch 4/10\n",
      "\u001b[1m938/938\u001b[0m \u001b[32m━━━━━━━━━━━━━━━━━━━━\u001b[0m\u001b[37m\u001b[0m \u001b[1m4s\u001b[0m 4ms/step - accuracy: 0.6779 - loss: 0.0635 - val_accuracy: 0.7341 - val_loss: 0.0570\n",
      "Epoch 5/10\n",
      "\u001b[1m938/938\u001b[0m \u001b[32m━━━━━━━━━━━━━━━━━━━━\u001b[0m\u001b[37m\u001b[0m \u001b[1m4s\u001b[0m 4ms/step - accuracy: 0.7275 - loss: 0.0557 - val_accuracy: 0.7690 - val_loss: 0.0506\n",
      "Epoch 6/10\n",
      "\u001b[1m938/938\u001b[0m \u001b[32m━━━━━━━━━━━━━━━━━━━━\u001b[0m\u001b[37m\u001b[0m \u001b[1m4s\u001b[0m 4ms/step - accuracy: 0.7607 - loss: 0.0501 - val_accuracy: 0.7985 - val_loss: 0.0459\n",
      "Epoch 7/10\n",
      "\u001b[1m938/938\u001b[0m \u001b[32m━━━━━━━━━━━━━━━━━━━━\u001b[0m\u001b[37m\u001b[0m \u001b[1m4s\u001b[0m 4ms/step - accuracy: 0.7892 - loss: 0.0455 - val_accuracy: 0.8151 - val_loss: 0.0422\n",
      "Epoch 8/10\n",
      "\u001b[1m938/938\u001b[0m \u001b[32m━━━━━━━━━━━━━━━━━━━━\u001b[0m\u001b[37m\u001b[0m \u001b[1m4s\u001b[0m 4ms/step - accuracy: 0.8073 - loss: 0.0422 - val_accuracy: 0.8270 - val_loss: 0.0392\n",
      "Epoch 9/10\n",
      "\u001b[1m938/938\u001b[0m \u001b[32m━━━━━━━━━━━━━━━━━━━━\u001b[0m\u001b[37m\u001b[0m \u001b[1m4s\u001b[0m 5ms/step - accuracy: 0.8225 - loss: 0.0394 - val_accuracy: 0.8367 - val_loss: 0.0368\n",
      "Epoch 10/10\n",
      "\u001b[1m938/938\u001b[0m \u001b[32m━━━━━━━━━━━━━━━━━━━━\u001b[0m\u001b[37m\u001b[0m \u001b[1m4s\u001b[0m 4ms/step - accuracy: 0.8304 - loss: 0.0372 - val_accuracy: 0.8493 - val_loss: 0.0347\n"
     ]
    },
    {
     "data": {
      "text/plain": [
       "<keras.src.callbacks.history.History at 0x7b78159f2640>"
      ]
     },
     "execution_count": 14,
     "metadata": {},
     "output_type": "execute_result"
    }
   ],
   "source": [
    "model = tf.keras.Sequential([ \n",
    "    tf.keras.layers.Flatten(),  #Transforma a entrada (28x28) em vetor (784)\n",
    "    tf.keras.layers.Dense(128, activation='sigmoid'),   #Camada escondida\n",
    "    tf.keras.layers.Dense(10, activation='sigmoid')  #Camada de saída\n",
    "])   \n",
    "\n",
    "model.compile(\n",
    "    optimizer=tf.keras.optimizers.SGD(learning_rate = 0.1),   #Descida por gradiente\n",
    "    loss=tf.keras.losses.MeanSquaredError(),  #Erro quadrático médio\n",
    "    metrics=['accuracy']\n",
    ")\n",
    "\n",
    "model.fit(\n",
    "    train_dataloader,               # Dados de treinamento\n",
    "    epochs=10,                       # Número de épocas\n",
    "    validation_data=val_dataloader  # Dados de validação\n",
    ")"
   ]
  },
  {
   "cell_type": "markdown",
   "id": "eb50054d-6805-4eec-8dec-461a143bb292",
   "metadata": {},
   "source": [
    "### 2b. Saída do tipo softmax, custo \"entropia cruzada\""
   ]
  },
  {
   "cell_type": "code",
   "execution_count": 15,
   "id": "891e1260-385f-414f-95e0-ee17aa8f7564",
   "metadata": {},
   "outputs": [],
   "source": [
    "# Prepara os dados de treinamento sem conversão para One-Hot\n",
    "train_dataloader = data.get_dataloader(train=True)\n",
    "val_dataloader = data.get_dataloader(train=False)"
   ]
  },
  {
   "cell_type": "code",
   "execution_count": 16,
   "id": "3b53ff9c-dc20-43ba-a113-bc4601a0da89",
   "metadata": {},
   "outputs": [
    {
     "name": "stdout",
     "output_type": "stream",
     "text": [
      "Epoch 1/10\n",
      "\u001b[1m938/938\u001b[0m \u001b[32m━━━━━━━━━━━━━━━━━━━━\u001b[0m\u001b[37m\u001b[0m \u001b[1m5s\u001b[0m 4ms/step - accuracy: 0.7261 - loss: 1.1275 - val_accuracy: 0.8982 - val_loss: 0.3778\n",
      "Epoch 2/10\n",
      "\u001b[1m938/938\u001b[0m \u001b[32m━━━━━━━━━━━━━━━━━━━━\u001b[0m\u001b[37m\u001b[0m \u001b[1m4s\u001b[0m 4ms/step - accuracy: 0.8962 - loss: 0.3719 - val_accuracy: 0.9124 - val_loss: 0.3133\n",
      "Epoch 3/10\n",
      "\u001b[1m938/938\u001b[0m \u001b[32m━━━━━━━━━━━━━━━━━━━━\u001b[0m\u001b[37m\u001b[0m \u001b[1m4s\u001b[0m 4ms/step - accuracy: 0.9064 - loss: 0.3208 - val_accuracy: 0.9190 - val_loss: 0.2869\n",
      "Epoch 4/10\n",
      "\u001b[1m938/938\u001b[0m \u001b[32m━━━━━━━━━━━━━━━━━━━━\u001b[0m\u001b[37m\u001b[0m \u001b[1m4s\u001b[0m 4ms/step - accuracy: 0.9162 - loss: 0.2887 - val_accuracy: 0.9253 - val_loss: 0.2624\n",
      "Epoch 5/10\n",
      "\u001b[1m938/938\u001b[0m \u001b[32m━━━━━━━━━━━━━━━━━━━━\u001b[0m\u001b[37m\u001b[0m \u001b[1m4s\u001b[0m 4ms/step - accuracy: 0.9240 - loss: 0.2685 - val_accuracy: 0.9293 - val_loss: 0.2461\n",
      "Epoch 6/10\n",
      "\u001b[1m938/938\u001b[0m \u001b[32m━━━━━━━━━━━━━━━━━━━━\u001b[0m\u001b[37m\u001b[0m \u001b[1m4s\u001b[0m 4ms/step - accuracy: 0.9261 - loss: 0.2540 - val_accuracy: 0.9353 - val_loss: 0.2330\n",
      "Epoch 7/10\n",
      "\u001b[1m938/938\u001b[0m \u001b[32m━━━━━━━━━━━━━━━━━━━━\u001b[0m\u001b[37m\u001b[0m \u001b[1m4s\u001b[0m 4ms/step - accuracy: 0.9350 - loss: 0.2269 - val_accuracy: 0.9379 - val_loss: 0.2191\n",
      "Epoch 8/10\n",
      "\u001b[1m938/938\u001b[0m \u001b[32m━━━━━━━━━━━━━━━━━━━━\u001b[0m\u001b[37m\u001b[0m \u001b[1m4s\u001b[0m 4ms/step - accuracy: 0.9382 - loss: 0.2141 - val_accuracy: 0.9407 - val_loss: 0.2045\n",
      "Epoch 9/10\n",
      "\u001b[1m938/938\u001b[0m \u001b[32m━━━━━━━━━━━━━━━━━━━━\u001b[0m\u001b[37m\u001b[0m \u001b[1m4s\u001b[0m 4ms/step - accuracy: 0.9410 - loss: 0.2068 - val_accuracy: 0.9435 - val_loss: 0.1951\n",
      "Epoch 10/10\n",
      "\u001b[1m938/938\u001b[0m \u001b[32m━━━━━━━━━━━━━━━━━━━━\u001b[0m\u001b[37m\u001b[0m \u001b[1m4s\u001b[0m 4ms/step - accuracy: 0.9438 - loss: 0.1931 - val_accuracy: 0.9460 - val_loss: 0.1880\n"
     ]
    },
    {
     "data": {
      "text/plain": [
       "<keras.src.callbacks.history.History at 0x7b781bda41f0>"
      ]
     },
     "execution_count": 16,
     "metadata": {},
     "output_type": "execute_result"
    }
   ],
   "source": [
    "model = tf.keras.Sequential([ \n",
    "    tf.keras.layers.Flatten(),  #Transforma a entrada (28x28) em vetor (784)\n",
    "    tf.keras.layers.Dense(128, activation='sigmoid'),   #Camada escondida\n",
    "    tf.keras.layers.Dense(10, activation='softmax')  #Camada de saída\n",
    "])   \n",
    "\n",
    "model.compile(\n",
    "    optimizer=tf.keras.optimizers.SGD(learning_rate = 0.1),   #Descida por gradiente\n",
    "    loss=tf.keras.losses.SparseCategoricalCrossentropy(),  #Entropia cruzada\n",
    "    metrics=['accuracy']\n",
    ")\n",
    "\n",
    "model.fit(\n",
    "    train_dataloader,               # Dados de treinamento\n",
    "    epochs=10,                      # Número de épocas\n",
    "    validation_data=val_dataloader  # Dados de validação\n",
    ")"
   ]
  },
  {
   "cell_type": "markdown",
   "id": "c233937f-ef68-4861-b752-6c691db65357",
   "metadata": {},
   "source": [
    "### 2c. Otimizador Adam"
   ]
  },
  {
   "cell_type": "code",
   "execution_count": 18,
   "id": "776f4899-414c-4682-8659-b1cc64160f91",
   "metadata": {},
   "outputs": [
    {
     "name": "stdout",
     "output_type": "stream",
     "text": [
      "Epoch 1/10\n",
      "\u001b[1m938/938\u001b[0m \u001b[32m━━━━━━━━━━━━━━━━━━━━\u001b[0m\u001b[37m\u001b[0m \u001b[1m6s\u001b[0m 5ms/step - accuracy: 0.8029 - loss: 0.8123 - val_accuracy: 0.9274 - val_loss: 0.2637\n",
      "Epoch 2/10\n",
      "\u001b[1m938/938\u001b[0m \u001b[32m━━━━━━━━━━━━━━━━━━━━\u001b[0m\u001b[37m\u001b[0m \u001b[1m5s\u001b[0m 5ms/step - accuracy: 0.9296 - loss: 0.2508 - val_accuracy: 0.9418 - val_loss: 0.1994\n",
      "Epoch 3/10\n",
      "\u001b[1m938/938\u001b[0m \u001b[32m━━━━━━━━━━━━━━━━━━━━\u001b[0m\u001b[37m\u001b[0m \u001b[1m5s\u001b[0m 5ms/step - accuracy: 0.9468 - loss: 0.1894 - val_accuracy: 0.9525 - val_loss: 0.1621\n",
      "Epoch 4/10\n",
      "\u001b[1m938/938\u001b[0m \u001b[32m━━━━━━━━━━━━━━━━━━━━\u001b[0m\u001b[37m\u001b[0m \u001b[1m5s\u001b[0m 5ms/step - accuracy: 0.9549 - loss: 0.1537 - val_accuracy: 0.9593 - val_loss: 0.1401\n",
      "Epoch 5/10\n",
      "\u001b[1m938/938\u001b[0m \u001b[32m━━━━━━━━━━━━━━━━━━━━\u001b[0m\u001b[37m\u001b[0m \u001b[1m5s\u001b[0m 5ms/step - accuracy: 0.9640 - loss: 0.1260 - val_accuracy: 0.9636 - val_loss: 0.1216\n",
      "Epoch 6/10\n",
      "\u001b[1m938/938\u001b[0m \u001b[32m━━━━━━━━━━━━━━━━━━━━\u001b[0m\u001b[37m\u001b[0m \u001b[1m5s\u001b[0m 5ms/step - accuracy: 0.9721 - loss: 0.1027 - val_accuracy: 0.9680 - val_loss: 0.1096\n",
      "Epoch 7/10\n",
      "\u001b[1m938/938\u001b[0m \u001b[32m━━━━━━━━━━━━━━━━━━━━\u001b[0m\u001b[37m\u001b[0m \u001b[1m5s\u001b[0m 5ms/step - accuracy: 0.9753 - loss: 0.0884 - val_accuracy: 0.9709 - val_loss: 0.0991\n",
      "Epoch 8/10\n",
      "\u001b[1m938/938\u001b[0m \u001b[32m━━━━━━━━━━━━━━━━━━━━\u001b[0m\u001b[37m\u001b[0m \u001b[1m5s\u001b[0m 5ms/step - accuracy: 0.9794 - loss: 0.0762 - val_accuracy: 0.9723 - val_loss: 0.0928\n",
      "Epoch 9/10\n",
      "\u001b[1m938/938\u001b[0m \u001b[32m━━━━━━━━━━━━━━━━━━━━\u001b[0m\u001b[37m\u001b[0m \u001b[1m5s\u001b[0m 5ms/step - accuracy: 0.9818 - loss: 0.0676 - val_accuracy: 0.9742 - val_loss: 0.0865\n",
      "Epoch 10/10\n",
      "\u001b[1m938/938\u001b[0m \u001b[32m━━━━━━━━━━━━━━━━━━━━\u001b[0m\u001b[37m\u001b[0m \u001b[1m5s\u001b[0m 5ms/step - accuracy: 0.9839 - loss: 0.0593 - val_accuracy: 0.9734 - val_loss: 0.0859\n"
     ]
    },
    {
     "data": {
      "text/plain": [
       "<keras.src.callbacks.history.History at 0x7b781c3f3550>"
      ]
     },
     "execution_count": 18,
     "metadata": {},
     "output_type": "execute_result"
    }
   ],
   "source": [
    "model = tf.keras.Sequential([ \n",
    "    tf.keras.layers.Flatten(),  #Transforma a entrada (28x28) em vetor (784)\n",
    "    tf.keras.layers.Dense(128, activation='sigmoid'),   #Camada escondida\n",
    "    tf.keras.layers.Dense(10, activation='softmax')  #Camada de saída\n",
    "])   \n",
    "\n",
    "model.compile(\n",
    "    optimizer=tf.keras.optimizers.Adam(),   #Otimizador Adam\n",
    "    loss=tf.keras.losses.SparseCategoricalCrossentropy(),  #Entropia cruzada\n",
    "    metrics=['accuracy']\n",
    ")\n",
    "\n",
    "model.fit(\n",
    "    train_dataloader,               # Dados de treinamento\n",
    "    epochs=10,                      # Número de épocas\n",
    "    validation_data=val_dataloader  # Dados de validação\n",
    ")"
   ]
  },
  {
   "cell_type": "markdown",
   "id": "41a9eb31-7c53-4a73-8ed6-fb9aacea1693",
   "metadata": {},
   "source": [
    "### 2d. A função Relu"
   ]
  },
  {
   "cell_type": "code",
   "execution_count": 19,
   "id": "94e6c83b-f962-4e78-8d00-2a1e8a846eac",
   "metadata": {},
   "outputs": [
    {
     "name": "stdout",
     "output_type": "stream",
     "text": [
      "Epoch 1/10\n",
      "\u001b[1m938/938\u001b[0m \u001b[32m━━━━━━━━━━━━━━━━━━━━\u001b[0m\u001b[37m\u001b[0m \u001b[1m6s\u001b[0m 5ms/step - accuracy: 0.8519 - loss: 0.5351 - val_accuracy: 0.9493 - val_loss: 0.1753\n",
      "Epoch 2/10\n",
      "\u001b[1m938/938\u001b[0m \u001b[32m━━━━━━━━━━━━━━━━━━━━\u001b[0m\u001b[37m\u001b[0m \u001b[1m5s\u001b[0m 5ms/step - accuracy: 0.9534 - loss: 0.1597 - val_accuracy: 0.9640 - val_loss: 0.1212\n",
      "Epoch 3/10\n",
      "\u001b[1m938/938\u001b[0m \u001b[32m━━━━━━━━━━━━━━━━━━━━\u001b[0m\u001b[37m\u001b[0m \u001b[1m5s\u001b[0m 6ms/step - accuracy: 0.9694 - loss: 0.1070 - val_accuracy: 0.9720 - val_loss: 0.0980\n",
      "Epoch 4/10\n",
      "\u001b[1m938/938\u001b[0m \u001b[32m━━━━━━━━━━━━━━━━━━━━\u001b[0m\u001b[37m\u001b[0m \u001b[1m5s\u001b[0m 5ms/step - accuracy: 0.9786 - loss: 0.0754 - val_accuracy: 0.9746 - val_loss: 0.0815\n",
      "Epoch 5/10\n",
      "\u001b[1m938/938\u001b[0m \u001b[32m━━━━━━━━━━━━━━━━━━━━\u001b[0m\u001b[37m\u001b[0m \u001b[1m5s\u001b[0m 5ms/step - accuracy: 0.9821 - loss: 0.0597 - val_accuracy: 0.9746 - val_loss: 0.0827\n",
      "Epoch 6/10\n",
      "\u001b[1m938/938\u001b[0m \u001b[32m━━━━━━━━━━━━━━━━━━━━\u001b[0m\u001b[37m\u001b[0m \u001b[1m5s\u001b[0m 5ms/step - accuracy: 0.9866 - loss: 0.0467 - val_accuracy: 0.9758 - val_loss: 0.0760\n",
      "Epoch 7/10\n",
      "\u001b[1m938/938\u001b[0m \u001b[32m━━━━━━━━━━━━━━━━━━━━\u001b[0m\u001b[37m\u001b[0m \u001b[1m5s\u001b[0m 5ms/step - accuracy: 0.9893 - loss: 0.0384 - val_accuracy: 0.9775 - val_loss: 0.0734\n",
      "Epoch 8/10\n",
      "\u001b[1m938/938\u001b[0m \u001b[32m━━━━━━━━━━━━━━━━━━━━\u001b[0m\u001b[37m\u001b[0m \u001b[1m5s\u001b[0m 5ms/step - accuracy: 0.9916 - loss: 0.0305 - val_accuracy: 0.9773 - val_loss: 0.0725\n",
      "Epoch 9/10\n",
      "\u001b[1m938/938\u001b[0m \u001b[32m━━━━━━━━━━━━━━━━━━━━\u001b[0m\u001b[37m\u001b[0m \u001b[1m5s\u001b[0m 5ms/step - accuracy: 0.9929 - loss: 0.0261 - val_accuracy: 0.9766 - val_loss: 0.0759\n",
      "Epoch 10/10\n",
      "\u001b[1m938/938\u001b[0m \u001b[32m━━━━━━━━━━━━━━━━━━━━\u001b[0m\u001b[37m\u001b[0m \u001b[1m5s\u001b[0m 5ms/step - accuracy: 0.9942 - loss: 0.0218 - val_accuracy: 0.9748 - val_loss: 0.0834\n"
     ]
    },
    {
     "data": {
      "text/plain": [
       "<keras.src.callbacks.history.History at 0x7b781c249850>"
      ]
     },
     "execution_count": 19,
     "metadata": {},
     "output_type": "execute_result"
    }
   ],
   "source": [
    "model = tf.keras.Sequential([ \n",
    "    tf.keras.layers.Flatten(),  #Transforma a entrada (28x28) em vetor (784)\n",
    "    tf.keras.layers.Dense(128, activation='relu'),   #Camada escondida\n",
    "    tf.keras.layers.Dense(10, activation='softmax')  #Camada de saída\n",
    "])   \n",
    "\n",
    "model.compile(\n",
    "    optimizer=tf.keras.optimizers.Adam(),   #Otimizador Adam\n",
    "    loss=tf.keras.losses.SparseCategoricalCrossentropy(),  #Entropia cruzada\n",
    "    metrics=['accuracy']\n",
    ")\n",
    "\n",
    "model.fit(\n",
    "    train_dataloader,               # Dados de treinamento\n",
    "    epochs=10,                      # Número de épocas\n",
    "    validation_data=val_dataloader  # Dados de validação\n",
    ")"
   ]
  },
  {
   "cell_type": "markdown",
   "id": "ce508c2e-5bef-48df-8503-78bb33ebdddc",
   "metadata": {},
   "source": [
    "### 2e. Redes maiores"
   ]
  },
  {
   "cell_type": "markdown",
   "id": "acd19fbe-30d6-41b6-b700-65928fe3307a",
   "metadata": {},
   "source": [
    "#### Camada escondida com 256 neurônios"
   ]
  },
  {
   "cell_type": "code",
   "execution_count": 20,
   "id": "183b2e5a-4dc7-4fda-a41c-060b532b719b",
   "metadata": {},
   "outputs": [
    {
     "name": "stdout",
     "output_type": "stream",
     "text": [
      "Epoch 1/10\n",
      "\u001b[1m938/938\u001b[0m \u001b[32m━━━━━━━━━━━━━━━━━━━━\u001b[0m\u001b[37m\u001b[0m \u001b[1m7s\u001b[0m 7ms/step - accuracy: 0.8774 - loss: 0.4430 - val_accuracy: 0.9581 - val_loss: 0.1355\n",
      "Epoch 2/10\n",
      "\u001b[1m938/938\u001b[0m \u001b[32m━━━━━━━━━━━━━━━━━━━━\u001b[0m\u001b[37m\u001b[0m \u001b[1m7s\u001b[0m 7ms/step - accuracy: 0.9644 - loss: 0.1206 - val_accuracy: 0.9707 - val_loss: 0.0932\n",
      "Epoch 3/10\n",
      "\u001b[1m938/938\u001b[0m \u001b[32m━━━━━━━━━━━━━━━━━━━━\u001b[0m\u001b[37m\u001b[0m \u001b[1m6s\u001b[0m 6ms/step - accuracy: 0.9772 - loss: 0.0762 - val_accuracy: 0.9760 - val_loss: 0.0789\n",
      "Epoch 4/10\n",
      "\u001b[1m938/938\u001b[0m \u001b[32m━━━━━━━━━━━━━━━━━━━━\u001b[0m\u001b[37m\u001b[0m \u001b[1m6s\u001b[0m 6ms/step - accuracy: 0.9844 - loss: 0.0528 - val_accuracy: 0.9766 - val_loss: 0.0793\n",
      "Epoch 5/10\n",
      "\u001b[1m938/938\u001b[0m \u001b[32m━━━━━━━━━━━━━━━━━━━━\u001b[0m\u001b[37m\u001b[0m \u001b[1m6s\u001b[0m 7ms/step - accuracy: 0.9884 - loss: 0.0410 - val_accuracy: 0.9773 - val_loss: 0.0747\n",
      "Epoch 6/10\n",
      "\u001b[1m938/938\u001b[0m \u001b[32m━━━━━━━━━━━━━━━━━━━━\u001b[0m\u001b[37m\u001b[0m \u001b[1m6s\u001b[0m 7ms/step - accuracy: 0.9919 - loss: 0.0280 - val_accuracy: 0.9786 - val_loss: 0.0681\n",
      "Epoch 7/10\n",
      "\u001b[1m938/938\u001b[0m \u001b[32m━━━━━━━━━━━━━━━━━━━━\u001b[0m\u001b[37m\u001b[0m \u001b[1m6s\u001b[0m 6ms/step - accuracy: 0.9935 - loss: 0.0230 - val_accuracy: 0.9796 - val_loss: 0.0711\n",
      "Epoch 8/10\n",
      "\u001b[1m938/938\u001b[0m \u001b[32m━━━━━━━━━━━━━━━━━━━━\u001b[0m\u001b[37m\u001b[0m \u001b[1m6s\u001b[0m 6ms/step - accuracy: 0.9949 - loss: 0.0178 - val_accuracy: 0.9794 - val_loss: 0.0725\n",
      "Epoch 9/10\n",
      "\u001b[1m938/938\u001b[0m \u001b[32m━━━━━━━━━━━━━━━━━━━━\u001b[0m\u001b[37m\u001b[0m \u001b[1m6s\u001b[0m 7ms/step - accuracy: 0.9963 - loss: 0.0139 - val_accuracy: 0.9778 - val_loss: 0.0793\n",
      "Epoch 10/10\n",
      "\u001b[1m938/938\u001b[0m \u001b[32m━━━━━━━━━━━━━━━━━━━━\u001b[0m\u001b[37m\u001b[0m \u001b[1m6s\u001b[0m 7ms/step - accuracy: 0.9967 - loss: 0.0116 - val_accuracy: 0.9807 - val_loss: 0.0679\n"
     ]
    },
    {
     "data": {
      "text/plain": [
       "<keras.src.callbacks.history.History at 0x7b781c0c5490>"
      ]
     },
     "execution_count": 20,
     "metadata": {},
     "output_type": "execute_result"
    }
   ],
   "source": [
    "model = tf.keras.Sequential([ \n",
    "    tf.keras.layers.Flatten(),  #Transforma a entrada (28x28) em vetor (784)\n",
    "    tf.keras.layers.Dense(256, activation='relu'),   #Camada escondida\n",
    "    tf.keras.layers.Dense(10, activation='softmax')  #Camada de saída\n",
    "])   \n",
    "\n",
    "model.compile(\n",
    "    optimizer=tf.keras.optimizers.Adam(),   #Otimizador Adam\n",
    "    loss=tf.keras.losses.SparseCategoricalCrossentropy(),  #Entropia cruzada\n",
    "    metrics=['accuracy']\n",
    ")\n",
    "\n",
    "model.fit(\n",
    "    train_dataloader,               # Dados de treinamento\n",
    "    epochs=10,                      # Número de épocas\n",
    "    validation_data=val_dataloader  # Dados de validação\n",
    ")"
   ]
  },
  {
   "cell_type": "markdown",
   "id": "e09b2c15-7557-4258-916c-47935b06c032",
   "metadata": {},
   "source": [
    "#### 2 camadas escondidas com 256 neurônios cada"
   ]
  },
  {
   "cell_type": "code",
   "execution_count": 21,
   "id": "bbdb91fd-c7bf-46eb-9b13-ae9fb60a388e",
   "metadata": {},
   "outputs": [
    {
     "name": "stdout",
     "output_type": "stream",
     "text": [
      "Epoch 1/10\n",
      "\u001b[1m938/938\u001b[0m \u001b[32m━━━━━━━━━━━━━━━━━━━━\u001b[0m\u001b[37m\u001b[0m \u001b[1m9s\u001b[0m 8ms/step - accuracy: 0.8808 - loss: 0.4047 - val_accuracy: 0.9633 - val_loss: 0.1178\n",
      "Epoch 2/10\n",
      "\u001b[1m938/938\u001b[0m \u001b[32m━━━━━━━━━━━━━━━━━━━━\u001b[0m\u001b[37m\u001b[0m \u001b[1m8s\u001b[0m 8ms/step - accuracy: 0.9719 - loss: 0.0904 - val_accuracy: 0.9750 - val_loss: 0.0784\n",
      "Epoch 3/10\n",
      "\u001b[1m938/938\u001b[0m \u001b[32m━━━━━━━━━━━━━━━━━━━━\u001b[0m\u001b[37m\u001b[0m \u001b[1m8s\u001b[0m 8ms/step - accuracy: 0.9810 - loss: 0.0608 - val_accuracy: 0.9738 - val_loss: 0.0852\n",
      "Epoch 4/10\n",
      "\u001b[1m938/938\u001b[0m \u001b[32m━━━━━━━━━━━━━━━━━━━━\u001b[0m\u001b[37m\u001b[0m \u001b[1m8s\u001b[0m 9ms/step - accuracy: 0.9867 - loss: 0.0411 - val_accuracy: 0.9788 - val_loss: 0.0661\n",
      "Epoch 5/10\n",
      "\u001b[1m938/938\u001b[0m \u001b[32m━━━━━━━━━━━━━━━━━━━━\u001b[0m\u001b[37m\u001b[0m \u001b[1m8s\u001b[0m 8ms/step - accuracy: 0.9898 - loss: 0.0322 - val_accuracy: 0.9780 - val_loss: 0.0748\n",
      "Epoch 6/10\n",
      "\u001b[1m938/938\u001b[0m \u001b[32m━━━━━━━━━━━━━━━━━━━━\u001b[0m\u001b[37m\u001b[0m \u001b[1m8s\u001b[0m 8ms/step - accuracy: 0.9924 - loss: 0.0234 - val_accuracy: 0.9753 - val_loss: 0.0860\n",
      "Epoch 7/10\n",
      "\u001b[1m938/938\u001b[0m \u001b[32m━━━━━━━━━━━━━━━━━━━━\u001b[0m\u001b[37m\u001b[0m \u001b[1m8s\u001b[0m 8ms/step - accuracy: 0.9926 - loss: 0.0234 - val_accuracy: 0.9806 - val_loss: 0.0702\n",
      "Epoch 8/10\n",
      "\u001b[1m938/938\u001b[0m \u001b[32m━━━━━━━━━━━━━━━━━━━━\u001b[0m\u001b[37m\u001b[0m \u001b[1m8s\u001b[0m 8ms/step - accuracy: 0.9936 - loss: 0.0187 - val_accuracy: 0.9793 - val_loss: 0.0799\n",
      "Epoch 9/10\n",
      "\u001b[1m938/938\u001b[0m \u001b[32m━━━━━━━━━━━━━━━━━━━━\u001b[0m\u001b[37m\u001b[0m \u001b[1m8s\u001b[0m 8ms/step - accuracy: 0.9954 - loss: 0.0137 - val_accuracy: 0.9780 - val_loss: 0.0857\n",
      "Epoch 10/10\n",
      "\u001b[1m938/938\u001b[0m \u001b[32m━━━━━━━━━━━━━━━━━━━━\u001b[0m\u001b[37m\u001b[0m \u001b[1m8s\u001b[0m 8ms/step - accuracy: 0.9932 - loss: 0.0188 - val_accuracy: 0.9805 - val_loss: 0.0827\n"
     ]
    },
    {
     "data": {
      "text/plain": [
       "<keras.src.callbacks.history.History at 0x7b781bd1f9d0>"
      ]
     },
     "execution_count": 21,
     "metadata": {},
     "output_type": "execute_result"
    }
   ],
   "source": [
    "model = tf.keras.Sequential([ \n",
    "    tf.keras.layers.Flatten(),  #Transforma a entrada (28x28) em vetor (784)\n",
    "    tf.keras.layers.Dense(256, activation='relu'),   #Camada escondida 1\n",
    "    tf.keras.layers.Dense(256, activation='relu'),   #Camada escondida 2\n",
    "    tf.keras.layers.Dense(10, activation='softmax')  #Camada de saída\n",
    "])   \n",
    "\n",
    "model.compile(\n",
    "    optimizer=tf.keras.optimizers.Adam(),   #Otimizador Adam\n",
    "    loss=tf.keras.losses.SparseCategoricalCrossentropy(),  #Entropia cruzada\n",
    "    metrics=['accuracy']\n",
    ")\n",
    "\n",
    "model.fit(\n",
    "    train_dataloader,               # Dados de treinamento\n",
    "    epochs=10,                      # Número de épocas\n",
    "    validation_data=val_dataloader  # Dados de validação\n",
    ")"
   ]
  },
  {
   "cell_type": "code",
   "execution_count": null,
   "id": "0923c77d-1367-408e-92d3-8e9d79c5b155",
   "metadata": {},
   "outputs": [],
   "source": []
  }
 ],
 "metadata": {
  "kernelspec": {
   "display_name": "Python 3 (ipykernel)",
   "language": "python",
   "name": "python3"
  },
  "language_info": {
   "codemirror_mode": {
    "name": "ipython",
    "version": 3
   },
   "file_extension": ".py",
   "mimetype": "text/x-python",
   "name": "python",
   "nbconvert_exporter": "python",
   "pygments_lexer": "ipython3",
   "version": "3.9.20"
  }
 },
 "nbformat": 4,
 "nbformat_minor": 5
}
