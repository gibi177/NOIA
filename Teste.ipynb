{
 "cells": [
  {
   "cell_type": "code",
   "execution_count": 4,
   "id": "1dced3e5-4f11-467d-bbe2-df668632e4ce",
   "metadata": {},
   "outputs": [],
   "source": [
    "import tensorflow as tf\n",
    "from d2l import tensorflow as d2l\n",
    "d2l.use_svg_display()\n",
    "import pdb\n",
    "import matplotlib.pyplot as plt\n",
    "from sklearn.metrics import confusion_matrix"
   ]
  },
  {
   "cell_type": "code",
   "execution_count": 6,
   "id": "ab451f9d-c09c-450e-97b3-5cbc5e27ac75",
   "metadata": {},
   "outputs": [
    {
     "name": "stdout",
     "output_type": "stream",
     "text": [
      "60000 10000\n",
      "(60000, 28, 28)\n"
     ]
    }
   ],
   "source": [
    "class MNIST(d2l.DataModule):  # @save\n",
    "    \"\"\"O dataset MNIST.\"\"\"\n",
    "    def __init__(self, batch_size=64):\n",
    "        super().__init__()\n",
    "        self.save_hyperparameters()\n",
    "        self.train, self.val = tf.keras.datasets.mnist.load_data()\n",
    "data = MNIST()\n",
    "\n",
    "print(len(data.train[0]), len(data.val[0]))\n",
    "print(data.train[0].shape)"
   ]
  },
  {
   "cell_type": "code",
   "execution_count": 9,
   "id": "f9c55b8e-ec90-40fb-8b1a-e1504bf6d3f1",
   "metadata": {},
   "outputs": [],
   "source": [
    "@d2l.add_to_class(MNIST) #@save\n",
    "\n",
    "def get_dataloader(self, train):\n",
    "    data = self.train if train else self.val\n",
    "    process = lambda X, y: (tf.expand_dims(X, axis=3) / 255,tf.cast(y, dtype='int32'))\n",
    "    resize_fn = lambda X, y: (tf.image.resize_with_pad(X,*self.resize), y)\n",
    "    shuffle_buf = len(data[0]) if train else 1\n",
    "    return tf.data.Dataset.from_tensor_slices(process(*data)).batch(self.batch_size).shuffle(shuffle_buf)"
   ]
  },
  {
   "cell_type": "code",
   "execution_count": null,
   "id": "3314ad10-7dcb-4b4f-b2e5-d3bd8f9ebe0a",
   "metadata": {},
   "outputs": [],
   "source": []
  }
 ],
 "metadata": {
  "kernelspec": {
   "display_name": "Python 3 (ipykernel)",
   "language": "python",
   "name": "python3"
  },
  "language_info": {
   "codemirror_mode": {
    "name": "ipython",
    "version": 3
   },
   "file_extension": ".py",
   "mimetype": "text/x-python",
   "name": "python",
   "nbconvert_exporter": "python",
   "pygments_lexer": "ipython3",
   "version": "3.9.20"
  }
 },
 "nbformat": 4,
 "nbformat_minor": 5
}
